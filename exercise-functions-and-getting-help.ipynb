{
 "cells": [
  {
   "cell_type": "markdown",
   "id": "4e6b2018",
   "metadata": {
    "papermill": {
     "duration": 0.004681,
     "end_time": "2023-08-09T21:50:48.350952",
     "exception": false,
     "start_time": "2023-08-09T21:50:48.346271",
     "status": "completed"
    },
    "tags": []
   },
   "source": [
    "**This notebook is an exercise in the [Python](https://www.kaggle.com/learn/python) course.  You can reference the tutorial at [this link](https://www.kaggle.com/colinmorris/functions-and-getting-help).**\n",
    "\n",
    "---\n"
   ]
  },
  {
   "cell_type": "markdown",
   "id": "94114625",
   "metadata": {
    "papermill": {
     "duration": 0.003785,
     "end_time": "2023-08-09T21:50:48.358875",
     "exception": false,
     "start_time": "2023-08-09T21:50:48.355090",
     "status": "completed"
    },
    "tags": []
   },
   "source": [
    "Functions are powerful. Try writing some yourself.\n",
    "\n",
    "As before, don't forget to run the setup code below before jumping into question 1."
   ]
  },
  {
   "cell_type": "code",
   "execution_count": 1,
   "id": "09b613d6",
   "metadata": {
    "_kg_hide-input": true,
    "_kg_hide-output": true,
    "execution": {
     "iopub.execute_input": "2023-08-09T21:50:48.368461Z",
     "iopub.status.busy": "2023-08-09T21:50:48.368040Z",
     "iopub.status.idle": "2023-08-09T21:50:48.420692Z",
     "shell.execute_reply": "2023-08-09T21:50:48.419212Z"
    },
    "papermill": {
     "duration": 0.060157,
     "end_time": "2023-08-09T21:50:48.423038",
     "exception": false,
     "start_time": "2023-08-09T21:50:48.362881",
     "status": "completed"
    },
    "tags": []
   },
   "outputs": [
    {
     "name": "stdout",
     "output_type": "stream",
     "text": [
      "Setup complete.\n"
     ]
    }
   ],
   "source": [
    "# SETUP. You don't need to worry for now about what this code does or how it works.\n",
    "from learntools.core import binder; binder.bind(globals())\n",
    "from learntools.python.ex2 import *\n",
    "print('Setup complete.')"
   ]
  },
  {
   "cell_type": "markdown",
   "id": "81f09a44",
   "metadata": {
    "papermill": {
     "duration": 0.003918,
     "end_time": "2023-08-09T21:50:48.431378",
     "exception": false,
     "start_time": "2023-08-09T21:50:48.427460",
     "status": "completed"
    },
    "tags": []
   },
   "source": [
    "# 1.\n",
    "\n",
    "Complete the body of the following function according to its docstring.\n",
    "\n",
    "HINT: Python has a built-in function `round`."
   ]
  },
  {
   "cell_type": "code",
   "execution_count": 2,
   "id": "ab3036a8",
   "metadata": {
    "execution": {
     "iopub.execute_input": "2023-08-09T21:50:48.441179Z",
     "iopub.status.busy": "2023-08-09T21:50:48.440812Z",
     "iopub.status.idle": "2023-08-09T21:50:48.451106Z",
     "shell.execute_reply": "2023-08-09T21:50:48.450173Z"
    },
    "papermill": {
     "duration": 0.017279,
     "end_time": "2023-08-09T21:50:48.452842",
     "exception": false,
     "start_time": "2023-08-09T21:50:48.435563",
     "status": "completed"
    },
    "tags": []
   },
   "outputs": [
    {
     "data": {
      "application/javascript": [
       "parent.postMessage({\"jupyterEvent\": \"custom.exercise_interaction\", \"data\": {\"outcomeType\": 1, \"valueTowardsCompletion\": 0.16666666666666666, \"interactionType\": 1, \"questionType\": 2, \"questionId\": \"1_RoundFunctionProblem\", \"learnToolsVersion\": \"0.3.4\", \"failureMessage\": \"\", \"exceptionClass\": \"\", \"trace\": \"\"}}, \"*\")"
      ],
      "text/plain": [
       "<IPython.core.display.Javascript object>"
      ]
     },
     "metadata": {},
     "output_type": "display_data"
    },
    {
     "data": {
      "text/markdown": [
       "<span style=\"color:#33cc33\">Correct</span>"
      ],
      "text/plain": [
       "Correct"
      ]
     },
     "metadata": {},
     "output_type": "display_data"
    }
   ],
   "source": [
    "def round_to_two_places(num):\n",
    "    \"\"\"Return the given number rounded to two decimal places. \n",
    "    \n",
    "    >>> round_to_two_places(3.14159)\n",
    "    3.14\n",
    "    \"\"\"\n",
    "    # Replace this body with your own code.\n",
    "    # (\"pass\" is a keyword that does literally nothing. We used it as a placeholder\n",
    "    # because after we begin a code block, Python requires at least one line of code)\n",
    "    return(round(num,2))\n",
    "    pass\n",
    "\n",
    "# Check your answer\n",
    "q1.check()"
   ]
  },
  {
   "cell_type": "code",
   "execution_count": 3,
   "id": "8e4f16e9",
   "metadata": {
    "execution": {
     "iopub.execute_input": "2023-08-09T21:50:48.463572Z",
     "iopub.status.busy": "2023-08-09T21:50:48.463183Z",
     "iopub.status.idle": "2023-08-09T21:50:48.467390Z",
     "shell.execute_reply": "2023-08-09T21:50:48.466353Z"
    },
    "papermill": {
     "duration": 0.01171,
     "end_time": "2023-08-09T21:50:48.469114",
     "exception": false,
     "start_time": "2023-08-09T21:50:48.457404",
     "status": "completed"
    },
    "tags": []
   },
   "outputs": [],
   "source": [
    "# Uncomment the following for a hint\n",
    "#q1.hint()\n",
    "# Or uncomment the following to peek at the solution\n",
    "#q1.solution()"
   ]
  },
  {
   "cell_type": "markdown",
   "id": "b788d2fb",
   "metadata": {
    "papermill": {
     "duration": 0.004148,
     "end_time": "2023-08-09T21:50:48.477562",
     "exception": false,
     "start_time": "2023-08-09T21:50:48.473414",
     "status": "completed"
    },
    "tags": []
   },
   "source": [
    "# 2.\n",
    "The help for `round` says that `ndigits` (the second argument) may be negative.\n",
    "What do you think will happen when it is? Try some examples in the following cell."
   ]
  },
  {
   "cell_type": "code",
   "execution_count": 4,
   "id": "c27a5f72",
   "metadata": {
    "execution": {
     "iopub.execute_input": "2023-08-09T21:50:48.487513Z",
     "iopub.status.busy": "2023-08-09T21:50:48.487180Z",
     "iopub.status.idle": "2023-08-09T21:50:48.493575Z",
     "shell.execute_reply": "2023-08-09T21:50:48.492630Z"
    },
    "papermill": {
     "duration": 0.01348,
     "end_time": "2023-08-09T21:50:48.495216",
     "exception": false,
     "start_time": "2023-08-09T21:50:48.481736",
     "status": "completed"
    },
    "tags": []
   },
   "outputs": [
    {
     "data": {
      "text/plain": [
       "200.0"
      ]
     },
     "execution_count": 4,
     "metadata": {},
     "output_type": "execute_result"
    }
   ],
   "source": [
    "# Put your test code here\n",
    "round(222.43, -2)"
   ]
  },
  {
   "cell_type": "markdown",
   "id": "47fc1145",
   "metadata": {
    "papermill": {
     "duration": 0.004224,
     "end_time": "2023-08-09T21:50:48.505079",
     "exception": false,
     "start_time": "2023-08-09T21:50:48.500855",
     "status": "completed"
    },
    "tags": []
   },
   "source": [
    "Can you think of a case where this would be useful?  Once you're ready, run the code cell below to see the answer and to receive credit for completing the problem."
   ]
  },
  {
   "cell_type": "code",
   "execution_count": 5,
   "id": "f96a2d65",
   "metadata": {
    "execution": {
     "iopub.execute_input": "2023-08-09T21:50:48.515611Z",
     "iopub.status.busy": "2023-08-09T21:50:48.515267Z",
     "iopub.status.idle": "2023-08-09T21:50:48.523791Z",
     "shell.execute_reply": "2023-08-09T21:50:48.523043Z"
    },
    "papermill": {
     "duration": 0.015986,
     "end_time": "2023-08-09T21:50:48.525501",
     "exception": false,
     "start_time": "2023-08-09T21:50:48.509515",
     "status": "completed"
    },
    "tags": []
   },
   "outputs": [
    {
     "data": {
      "application/javascript": [
       "parent.postMessage({\"jupyterEvent\": \"custom.exercise_interaction\", \"data\": {\"interactionType\": 3, \"questionType\": 4, \"questionId\": \"2_RoundNdigitsProblem\", \"learnToolsVersion\": \"0.3.4\", \"valueTowardsCompletion\": 0.0, \"failureMessage\": \"\", \"exceptionClass\": \"\", \"trace\": \"\", \"outcomeType\": 4}}, \"*\")"
      ],
      "text/plain": [
       "<IPython.core.display.Javascript object>"
      ]
     },
     "metadata": {},
     "output_type": "display_data"
    },
    {
     "data": {
      "text/markdown": [
       "<span style=\"color:#33cc99\">Solution:</span> As you've seen, `ndigits=-1` rounds to the nearest 10, `ndigits=-2` rounds to the nearest 100 and so on. Where might this be useful? Suppose we're dealing with large numbers:\n",
       "\n",
       "> The area of Finland is 338,424 km²  \n",
       "> The area of Greenland is 2,166,086 km²\n",
       "\n",
       "We probably don't care whether it's really 338,424, or 338,425, or 338,177. All those digits of accuracy are just distracting. We can chop them off by calling `round()` with `ndigits=-3`:\n",
       "\n",
       "> The area of Finland is 338,000 km²  \n",
       "> The area of Greenland is 2,166,000 km²\n",
       "\n",
       "(We'll talk about how we would get the commas later when we talk about string formatting :))\n"
      ],
      "text/plain": [
       "Solution: As you've seen, `ndigits=-1` rounds to the nearest 10, `ndigits=-2` rounds to the nearest 100 and so on. Where might this be useful? Suppose we're dealing with large numbers:\n",
       "\n",
       "> The area of Finland is 338,424 km²  \n",
       "> The area of Greenland is 2,166,086 km²\n",
       "\n",
       "We probably don't care whether it's really 338,424, or 338,425, or 338,177. All those digits of accuracy are just distracting. We can chop them off by calling `round()` with `ndigits=-3`:\n",
       "\n",
       "> The area of Finland is 338,000 km²  \n",
       "> The area of Greenland is 2,166,000 km²\n",
       "\n",
       "(We'll talk about how we would get the commas later when we talk about string formatting :))"
      ]
     },
     "metadata": {},
     "output_type": "display_data"
    }
   ],
   "source": [
    "# Check your answer (Run this code cell to receive credit!)\n",
    "q2.solution()"
   ]
  },
  {
   "cell_type": "markdown",
   "id": "9f96a6fa",
   "metadata": {
    "papermill": {
     "duration": 0.004456,
     "end_time": "2023-08-09T21:50:48.534783",
     "exception": false,
     "start_time": "2023-08-09T21:50:48.530327",
     "status": "completed"
    },
    "tags": []
   },
   "source": [
    "# 3.\n",
    "\n",
    "In the previous exercise, the candy-sharing friends Alice, Bob and Carol tried to split candies evenly. For the sake of their friendship, any candies left over would be smashed. For example, if they collectively bring home 91 candies, they'll take 30 each and smash 1.\n",
    "\n",
    "Below is a simple function that will calculate the number of candies to smash for *any* number of total candies.\n",
    "\n",
    "Modify it so that it optionally takes a second argument representing the number of friends the candies are being split between. If no second argument is provided, it should assume 3 friends, as before.\n",
    "\n",
    "Update the docstring to reflect this new behaviour."
   ]
  },
  {
   "cell_type": "code",
   "execution_count": null,
   "id": "1e06cb2c",
   "metadata": {
    "papermill": {
     "duration": 0.00452,
     "end_time": "2023-08-09T21:50:48.544165",
     "exception": false,
     "start_time": "2023-08-09T21:50:48.539645",
     "status": "completed"
    },
    "tags": []
   },
   "outputs": [],
   "source": []
  },
  {
   "cell_type": "code",
   "execution_count": 6,
   "id": "6961e275",
   "metadata": {
    "execution": {
     "iopub.execute_input": "2023-08-09T21:50:48.555363Z",
     "iopub.status.busy": "2023-08-09T21:50:48.555021Z",
     "iopub.status.idle": "2023-08-09T21:50:48.564356Z",
     "shell.execute_reply": "2023-08-09T21:50:48.563192Z"
    },
    "papermill": {
     "duration": 0.017741,
     "end_time": "2023-08-09T21:50:48.566587",
     "exception": false,
     "start_time": "2023-08-09T21:50:48.548846",
     "status": "completed"
    },
    "tags": []
   },
   "outputs": [
    {
     "data": {
      "application/javascript": [
       "parent.postMessage({\"jupyterEvent\": \"custom.exercise_interaction\", \"data\": {\"outcomeType\": 1, \"valueTowardsCompletion\": 0.16666666666666666, \"interactionType\": 1, \"questionType\": 2, \"questionId\": \"3_CandySmashingFunctionProblem\", \"learnToolsVersion\": \"0.3.4\", \"failureMessage\": \"\", \"exceptionClass\": \"\", \"trace\": \"\"}}, \"*\")"
      ],
      "text/plain": [
       "<IPython.core.display.Javascript object>"
      ]
     },
     "metadata": {},
     "output_type": "display_data"
    },
    {
     "data": {
      "text/markdown": [
       "<span style=\"color:#33cc33\">Correct</span>"
      ],
      "text/plain": [
       "Correct"
      ]
     },
     "metadata": {},
     "output_type": "display_data"
    }
   ],
   "source": [
    "def to_smash(total_candies, n_friend=3):\n",
    "    \"\"\"Return the number of leftover candies that must be smashed after distributing\n",
    "    the given number of candies evenly between 3 friends.\n",
    "    \n",
    "    >>> to_smash(91)\n",
    "    1\n",
    "    \"\"\"\n",
    "    return total_candies % n_friend\n",
    "\n",
    "# Check your answer\n",
    "q3.check()"
   ]
  },
  {
   "cell_type": "code",
   "execution_count": 7,
   "id": "983af5da",
   "metadata": {
    "execution": {
     "iopub.execute_input": "2023-08-09T21:50:48.578125Z",
     "iopub.status.busy": "2023-08-09T21:50:48.577782Z",
     "iopub.status.idle": "2023-08-09T21:50:48.581302Z",
     "shell.execute_reply": "2023-08-09T21:50:48.580728Z"
    },
    "papermill": {
     "duration": 0.011178,
     "end_time": "2023-08-09T21:50:48.582960",
     "exception": false,
     "start_time": "2023-08-09T21:50:48.571782",
     "status": "completed"
    },
    "tags": []
   },
   "outputs": [],
   "source": [
    "#q3.hint()"
   ]
  },
  {
   "cell_type": "code",
   "execution_count": 8,
   "id": "6f3d53cf",
   "metadata": {
    "execution": {
     "iopub.execute_input": "2023-08-09T21:50:48.593944Z",
     "iopub.status.busy": "2023-08-09T21:50:48.593645Z",
     "iopub.status.idle": "2023-08-09T21:50:48.598309Z",
     "shell.execute_reply": "2023-08-09T21:50:48.596945Z"
    },
    "papermill": {
     "duration": 0.013125,
     "end_time": "2023-08-09T21:50:48.600906",
     "exception": false,
     "start_time": "2023-08-09T21:50:48.587781",
     "status": "completed"
    },
    "tags": []
   },
   "outputs": [],
   "source": [
    "#q3.solution()"
   ]
  },
  {
   "cell_type": "markdown",
   "id": "9e41d63e",
   "metadata": {
    "papermill": {
     "duration": 0.004942,
     "end_time": "2023-08-09T21:50:48.611300",
     "exception": false,
     "start_time": "2023-08-09T21:50:48.606358",
     "status": "completed"
    },
    "tags": []
   },
   "source": [
    "# 4. (Optional)\n",
    "\n",
    "It may not be fun, but reading and understanding error messages will be an important part of your Python career.\n",
    "\n",
    "Each code cell below contains some commented buggy code. For each cell...\n",
    "\n",
    "1. Read the code and predict what you think will happen when it's run.\n",
    "2. Then uncomment the code and run it to see what happens. (**Tip**: In the kernel editor, you can highlight several lines and press `ctrl`+`/` to toggle commenting.)\n",
    "3. Fix the code (so that it accomplishes its intended purpose without throwing an exception)\n",
    "\n",
    "<!-- TODO: should this be autochecked? Delta is probably pretty small. -->"
   ]
  },
  {
   "cell_type": "code",
   "execution_count": null,
   "id": "d13f1ab2",
   "metadata": {
    "papermill": {
     "duration": 0.004847,
     "end_time": "2023-08-09T21:50:48.621534",
     "exception": false,
     "start_time": "2023-08-09T21:50:48.616687",
     "status": "completed"
    },
    "tags": []
   },
   "outputs": [],
   "source": []
  },
  {
   "cell_type": "code",
   "execution_count": 9,
   "id": "ec4feb81",
   "metadata": {
    "execution": {
     "iopub.execute_input": "2023-08-09T21:50:48.633583Z",
     "iopub.status.busy": "2023-08-09T21:50:48.633267Z",
     "iopub.status.idle": "2023-08-09T21:50:48.639937Z",
     "shell.execute_reply": "2023-08-09T21:50:48.638630Z"
    },
    "papermill": {
     "duration": 0.015163,
     "end_time": "2023-08-09T21:50:48.641948",
     "exception": false,
     "start_time": "2023-08-09T21:50:48.626785",
     "status": "completed"
    },
    "tags": []
   },
   "outputs": [
    {
     "data": {
      "text/plain": [
       "10.0"
      ]
     },
     "execution_count": 9,
     "metadata": {},
     "output_type": "execute_result"
    }
   ],
   "source": [
    "round_to_two_places(9.9999)\n",
    "# name \"ruound_to_two_places\" nis not defined"
   ]
  },
  {
   "cell_type": "code",
   "execution_count": 10,
   "id": "a4542171",
   "metadata": {
    "execution": {
     "iopub.execute_input": "2023-08-09T21:50:48.654024Z",
     "iopub.status.busy": "2023-08-09T21:50:48.653628Z",
     "iopub.status.idle": "2023-08-09T21:50:48.659156Z",
     "shell.execute_reply": "2023-08-09T21:50:48.657944Z"
    },
    "papermill": {
     "duration": 0.013942,
     "end_time": "2023-08-09T21:50:48.661136",
     "exception": false,
     "start_time": "2023-08-09T21:50:48.647194",
     "status": "completed"
    },
    "tags": []
   },
   "outputs": [],
   "source": [
    "x = -10\n",
    "y = 5\n",
    "# # Which of the two variables above has the smallest absolute value?\n",
    "# smallest_abs = min(abs(x, y))\n",
    "# TypeError: abs() takes exactly one argument (2 given)\n",
    "smallest_abs = min(abs(x), abs(y))"
   ]
  },
  {
   "cell_type": "code",
   "execution_count": 11,
   "id": "77846f30",
   "metadata": {
    "execution": {
     "iopub.execute_input": "2023-08-09T21:50:48.673324Z",
     "iopub.status.busy": "2023-08-09T21:50:48.673040Z",
     "iopub.status.idle": "2023-08-09T21:50:48.678149Z",
     "shell.execute_reply": "2023-08-09T21:50:48.676835Z"
    },
    "papermill": {
     "duration": 0.013294,
     "end_time": "2023-08-09T21:50:48.679813",
     "exception": false,
     "start_time": "2023-08-09T21:50:48.666519",
     "status": "completed"
    },
    "tags": []
   },
   "outputs": [
    {
     "name": "stdout",
     "output_type": "stream",
     "text": [
      "5\n"
     ]
    }
   ],
   "source": [
    "# def f(x):\n",
    "#     y = abs(x)\n",
    "# return y\n",
    "# syntax error: 'return' outside function\n",
    "\n",
    "def f(x):\n",
    "    y = abs(x)\n",
    "    return y\n",
    "\n",
    "print(f(5))"
   ]
  },
  {
   "cell_type": "markdown",
   "id": "81ddd486",
   "metadata": {
    "papermill": {
     "duration": 0.004787,
     "end_time": "2023-08-09T21:50:48.689777",
     "exception": false,
     "start_time": "2023-08-09T21:50:48.684990",
     "status": "completed"
    },
    "tags": []
   },
   "source": [
    "# Keep Going\n",
    "\n",
    "Nice job with the code. Next up, you'll learn about *conditionals*, which you'll need to **[write interesting programs](https://www.kaggle.com/colinmorris/booleans-and-conditionals)**. "
   ]
  },
  {
   "cell_type": "markdown",
   "id": "38434d2e",
   "metadata": {
    "papermill": {
     "duration": 0.004872,
     "end_time": "2023-08-09T21:50:48.699873",
     "exception": false,
     "start_time": "2023-08-09T21:50:48.695001",
     "status": "completed"
    },
    "tags": []
   },
   "source": [
    "---\n",
    "\n",
    "\n",
    "\n",
    "\n",
    "*Have questions or comments? Visit the [course discussion forum](https://www.kaggle.com/learn/python/discussion) to chat with other learners.*"
   ]
  }
 ],
 "metadata": {
  "kernelspec": {
   "display_name": "Python 3",
   "language": "python",
   "name": "python3"
  },
  "language_info": {
   "codemirror_mode": {
    "name": "ipython",
    "version": 3
   },
   "file_extension": ".py",
   "mimetype": "text/x-python",
   "name": "python",
   "nbconvert_exporter": "python",
   "pygments_lexer": "ipython3",
   "version": "3.10.12"
  },
  "papermill": {
   "default_parameters": {},
   "duration": 9.65578,
   "end_time": "2023-08-09T21:50:49.526172",
   "environment_variables": {},
   "exception": null,
   "input_path": "__notebook__.ipynb",
   "output_path": "__notebook__.ipynb",
   "parameters": {},
   "start_time": "2023-08-09T21:50:39.870392",
   "version": "2.4.0"
  }
 },
 "nbformat": 4,
 "nbformat_minor": 5
}
