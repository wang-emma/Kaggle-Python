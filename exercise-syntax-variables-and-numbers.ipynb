{
 "cells": [
  {
   "cell_type": "markdown",
   "id": "1f8244ed",
   "metadata": {
    "papermill": {
     "duration": 0.006865,
     "end_time": "2023-08-04T08:24:47.873446",
     "exception": false,
     "start_time": "2023-08-04T08:24:47.866581",
     "status": "completed"
    },
    "tags": []
   },
   "source": [
    "**This notebook is an exercise in the [Python](https://www.kaggle.com/learn/python) course.  You can reference the tutorial at [this link](https://www.kaggle.com/colinmorris/hello-python).**\n",
    "\n",
    "---\n"
   ]
  },
  {
   "cell_type": "markdown",
   "id": "37bb1b3f",
   "metadata": {
    "papermill": {
     "duration": 0.00608,
     "end_time": "2023-08-04T08:24:47.885967",
     "exception": false,
     "start_time": "2023-08-04T08:24:47.879887",
     "status": "completed"
    },
    "tags": []
   },
   "source": [
    "Welcome to your first set of Python coding problems.  If this is your first time using Kaggle Notebooks, welcome! \n",
    "\n",
    "Notebooks are composed of blocks (called \"cells\") of text and code. Each of these is editable, though you'll mainly be editing the code cells to answer some questions.\n",
    "\n",
    "To get started, try running the code cell below (by pressing the ► button, or clicking on the cell and pressing ctrl+enter on your keyboard)."
   ]
  },
  {
   "cell_type": "code",
   "execution_count": null,
   "id": "541e768a",
   "metadata": {
    "papermill": {
     "duration": 0.005937,
     "end_time": "2023-08-04T08:24:47.898196",
     "exception": false,
     "start_time": "2023-08-04T08:24:47.892259",
     "status": "completed"
    },
    "tags": []
   },
   "outputs": [],
   "source": []
  },
  {
   "cell_type": "code",
   "execution_count": 1,
   "id": "be8b6117",
   "metadata": {
    "execution": {
     "iopub.execute_input": "2023-08-04T08:24:47.912998Z",
     "iopub.status.busy": "2023-08-04T08:24:47.912287Z",
     "iopub.status.idle": "2023-08-04T08:24:47.922868Z",
     "shell.execute_reply": "2023-08-04T08:24:47.921601Z"
    },
    "papermill": {
     "duration": 0.020628,
     "end_time": "2023-08-04T08:24:47.925106",
     "exception": false,
     "start_time": "2023-08-04T08:24:47.904478",
     "status": "completed"
    },
    "tags": []
   },
   "outputs": [
    {
     "name": "stdout",
     "output_type": "stream",
     "text": [
      "You've successfully run some Python code\n",
      "Congratulations!\n",
      "hello,python\n"
     ]
    }
   ],
   "source": [
    "print(\"You've successfully run some Python code\")\n",
    "print(\"Congratulations!\")\n",
    "print(\"hello,python\")"
   ]
  },
  {
   "cell_type": "markdown",
   "id": "73c22369",
   "metadata": {
    "papermill": {
     "duration": 0.006089,
     "end_time": "2023-08-04T08:24:47.937557",
     "exception": false,
     "start_time": "2023-08-04T08:24:47.931468",
     "status": "completed"
    },
    "tags": []
   },
   "source": [
    "Try adding another line of code in the cell above and re-running it. \n",
    "\n",
    "Now let's get a little fancier:  Add a new code cell by clicking on an existing code cell, hitting the escape key, and then hitting the `a` or `b` key.  The `a` key will add a cell above the current cell, and `b` adds a cell below.\n",
    "\n",
    "Great! Now you know how to use Notebooks.\n",
    "\n",
    "Each hands-on exercise starts by setting up our feedback and code checking mechanism. Run the code cell below to do that. Then you'll be ready to move on to question 0."
   ]
  },
  {
   "cell_type": "code",
   "execution_count": 2,
   "id": "0ede055a",
   "metadata": {
    "_kg_hide-input": true,
    "_kg_hide-output": true,
    "execution": {
     "iopub.execute_input": "2023-08-04T08:24:47.952403Z",
     "iopub.status.busy": "2023-08-04T08:24:47.951820Z",
     "iopub.status.idle": "2023-08-04T08:24:47.993103Z",
     "shell.execute_reply": "2023-08-04T08:24:47.991930Z"
    },
    "papermill": {
     "duration": 0.051543,
     "end_time": "2023-08-04T08:24:47.995460",
     "exception": false,
     "start_time": "2023-08-04T08:24:47.943917",
     "status": "completed"
    },
    "tags": []
   },
   "outputs": [
    {
     "name": "stdout",
     "output_type": "stream",
     "text": [
      "Setup complete! You're ready to start question 0.\n"
     ]
    }
   ],
   "source": [
    "from learntools.core import binder; binder.bind(globals())\n",
    "from learntools.python.ex1 import *\n",
    "print(\"Setup complete! You're ready to start question 0.\")"
   ]
  },
  {
   "cell_type": "markdown",
   "id": "58967f03",
   "metadata": {
    "papermill": {
     "duration": 0.006856,
     "end_time": "2023-08-04T08:24:48.009611",
     "exception": false,
     "start_time": "2023-08-04T08:24:48.002755",
     "status": "completed"
    },
    "tags": []
   },
   "source": [
    "# 0.\n",
    "\n",
    "*This is a silly question intended as an introduction to the format we use for hands-on exercises throughout all Kaggle courses.*\n",
    "\n",
    "**What is your favorite color? **\n",
    "\n",
    "To complete this question, create a variable called `color` in the cell below with an appropriate value. The function call `q0.check()` (which we've already provided in the cell below) will check your answer."
   ]
  },
  {
   "cell_type": "code",
   "execution_count": 3,
   "id": "21596747",
   "metadata": {
    "execution": {
     "iopub.execute_input": "2023-08-04T08:24:48.026980Z",
     "iopub.status.busy": "2023-08-04T08:24:48.026555Z",
     "iopub.status.idle": "2023-08-04T08:24:48.036266Z",
     "shell.execute_reply": "2023-08-04T08:24:48.035348Z"
    },
    "papermill": {
     "duration": 0.019687,
     "end_time": "2023-08-04T08:24:48.038280",
     "exception": false,
     "start_time": "2023-08-04T08:24:48.018593",
     "status": "completed"
    },
    "tags": []
   },
   "outputs": [
    {
     "data": {
      "application/javascript": [
       "parent.postMessage({\"jupyterEvent\": \"custom.exercise_interaction\", \"data\": {\"outcomeType\": 1, \"valueTowardsCompletion\": 0.25, \"interactionType\": 1, \"questionType\": 2, \"questionId\": \"0_ExerciseFormatTutorial\", \"learnToolsVersion\": \"0.3.4\", \"failureMessage\": \"\", \"exceptionClass\": \"\", \"trace\": \"\"}}, \"*\")"
      ],
      "text/plain": [
       "<IPython.core.display.Javascript object>"
      ]
     },
     "metadata": {},
     "output_type": "display_data"
    },
    {
     "data": {
      "text/markdown": [
       "<span style=\"color:#33cc33\">Correct:</span> What?! You got it right without needing a hint or anything? Drats. Well hey, you should still continue to the next step to get some practice asking for a hint and checking solutions. (Even though you obviously don't need any help here.)"
      ],
      "text/plain": [
       "Correct: What?! You got it right without needing a hint or anything? Drats. Well hey, you should still continue to the next step to get some practice asking for a hint and checking solutions. (Even though you obviously don't need any help here.)"
      ]
     },
     "metadata": {},
     "output_type": "display_data"
    }
   ],
   "source": [
    "# create a variable called color with an appropriate value on the line below\n",
    "# (Remember, strings in Python must be enclosed in 'single' or \"double\" quotes)\n",
    "____\n",
    "color=\"blue\"\n",
    "# Check your answer\n",
    "q0.check()"
   ]
  },
  {
   "cell_type": "markdown",
   "id": "c6822ca3",
   "metadata": {
    "papermill": {
     "duration": 0.006367,
     "end_time": "2023-08-04T08:24:48.051373",
     "exception": false,
     "start_time": "2023-08-04T08:24:48.045006",
     "status": "completed"
    },
    "tags": []
   },
   "source": [
    "Didn't get the right answer? How do you not even know your own favorite color?!\n",
    "\n",
    "Delete the `#` in the line below to make one of the lines run. You can choose between getting a hint or the full answer by choosing which line to remove the `#` from. \n",
    "\n",
    "Removing the `#` is called uncommenting, because it changes that line from a \"comment\" which Python doesn't run to code, which Python does run."
   ]
  },
  {
   "cell_type": "code",
   "execution_count": 4,
   "id": "03ffc825",
   "metadata": {
    "execution": {
     "iopub.execute_input": "2023-08-04T08:24:48.066271Z",
     "iopub.status.busy": "2023-08-04T08:24:48.065846Z",
     "iopub.status.idle": "2023-08-04T08:24:48.078143Z",
     "shell.execute_reply": "2023-08-04T08:24:48.077322Z"
    },
    "papermill": {
     "duration": 0.022288,
     "end_time": "2023-08-04T08:24:48.080295",
     "exception": false,
     "start_time": "2023-08-04T08:24:48.058007",
     "status": "completed"
    },
    "tags": []
   },
   "outputs": [
    {
     "data": {
      "application/javascript": [
       "parent.postMessage({\"jupyterEvent\": \"custom.exercise_interaction\", \"data\": {\"interactionType\": 2, \"questionType\": 2, \"questionId\": \"0_ExerciseFormatTutorial\", \"learnToolsVersion\": \"0.3.4\", \"valueTowardsCompletion\": 0.0, \"failureMessage\": \"\", \"exceptionClass\": \"\", \"trace\": \"\", \"outcomeType\": 4}}, \"*\")"
      ],
      "text/plain": [
       "<IPython.core.display.Javascript object>"
      ]
     },
     "metadata": {},
     "output_type": "display_data"
    },
    {
     "data": {
      "text/markdown": [
       "<span style=\"color:#3366cc\">Hint:</span> Your favorite color rhymes with *glue*."
      ],
      "text/plain": [
       "Hint: Your favorite color rhymes with *glue*."
      ]
     },
     "metadata": {},
     "output_type": "display_data"
    },
    {
     "data": {
      "application/javascript": [
       "parent.postMessage({\"jupyterEvent\": \"custom.exercise_interaction\", \"data\": {\"interactionType\": 3, \"questionType\": 2, \"questionId\": \"0_ExerciseFormatTutorial\", \"learnToolsVersion\": \"0.3.4\", \"valueTowardsCompletion\": 0.0, \"failureMessage\": \"\", \"exceptionClass\": \"\", \"trace\": \"\", \"outcomeType\": 4}}, \"*\")"
      ],
      "text/plain": [
       "<IPython.core.display.Javascript object>"
      ]
     },
     "metadata": {},
     "output_type": "display_data"
    },
    {
     "data": {
      "text/markdown": [
       "<span style=\"color:#33cc99\">Solution:</span> \n",
       "```python\n",
       "color = \"blue\"\n",
       "```"
      ],
      "text/plain": [
       "Solution: \n",
       "```python\n",
       "color = \"blue\"\n",
       "```"
      ]
     },
     "metadata": {},
     "output_type": "display_data"
    }
   ],
   "source": [
    "q0.hint()\n",
    "q0.solution()"
   ]
  },
  {
   "cell_type": "markdown",
   "id": "403a46a7",
   "metadata": {
    "papermill": {
     "duration": 0.006865,
     "end_time": "2023-08-04T08:24:48.094424",
     "exception": false,
     "start_time": "2023-08-04T08:24:48.087559",
     "status": "completed"
    },
    "tags": []
   },
   "source": [
    "The upcoming questions work the same way. The only thing that will change are the question numbers. For the next question, you'll call `q1.check()`, `q1.hint()`, `q1.solution()`, for question 2, you'll call `q2.check()`, and so on."
   ]
  },
  {
   "cell_type": "markdown",
   "id": "5c1a873c",
   "metadata": {
    "papermill": {
     "duration": 0.007474,
     "end_time": "2023-08-04T08:24:48.109156",
     "exception": false,
     "start_time": "2023-08-04T08:24:48.101682",
     "status": "completed"
    },
    "tags": []
   },
   "source": [
    "<hr/>\n",
    "\n",
    "# 1.\n",
    "\n",
    "Complete the code below. In case it's helpful, here is the table of available arithmetic operations:\n",
    "\n",
    "\n",
    "\n",
    "| Operator     | Name           | Description                                            |\n",
    "|--------------|----------------|--------------------------------------------------------|\n",
    "| ``a + b``    | Addition       | Sum of ``a`` and ``b``                                 |\n",
    "| ``a - b``    | Subtraction    | Difference of ``a`` and ``b``                          |\n",
    "| ``a * b``    | Multiplication | Product of ``a`` and ``b``                             |\n",
    "| ``a / b``    | True division  | Quotient of ``a`` and ``b``                            |\n",
    "| ``a // b``   | Floor division | Quotient of ``a`` and ``b``, removing fractional parts |\n",
    "| ``a % b``    | Modulus        | Integer remainder after division of ``a`` by ``b``     |\n",
    "| ``a ** b``   | Exponentiation | ``a`` raised to the power of ``b``                     |\n",
    "| ``-a``       | Negation       | The negative of ``a``                                  |\n",
    "\n",
    "<span style=\"display:none\"></span>\n"
   ]
  },
  {
   "cell_type": "code",
   "execution_count": 5,
   "id": "44a12866",
   "metadata": {
    "execution": {
     "iopub.execute_input": "2023-08-04T08:24:48.126376Z",
     "iopub.status.busy": "2023-08-04T08:24:48.125486Z",
     "iopub.status.idle": "2023-08-04T08:24:48.135474Z",
     "shell.execute_reply": "2023-08-04T08:24:48.134231Z"
    },
    "papermill": {
     "duration": 0.020561,
     "end_time": "2023-08-04T08:24:48.137522",
     "exception": false,
     "start_time": "2023-08-04T08:24:48.116961",
     "status": "completed"
    },
    "tags": []
   },
   "outputs": [
    {
     "data": {
      "application/javascript": [
       "parent.postMessage({\"jupyterEvent\": \"custom.exercise_interaction\", \"data\": {\"outcomeType\": 1, \"valueTowardsCompletion\": 0.25, \"interactionType\": 1, \"questionType\": 1, \"questionId\": \"1_CircleArea\", \"learnToolsVersion\": \"0.3.4\", \"failureMessage\": \"\", \"exceptionClass\": \"\", \"trace\": \"\"}}, \"*\")"
      ],
      "text/plain": [
       "<IPython.core.display.Javascript object>"
      ]
     },
     "metadata": {},
     "output_type": "display_data"
    },
    {
     "data": {
      "text/markdown": [
       "<span style=\"color:#33cc33\">Correct</span>"
      ],
      "text/plain": [
       "Correct"
      ]
     },
     "metadata": {},
     "output_type": "display_data"
    }
   ],
   "source": [
    "pi = 3.14159 # approximate\n",
    "diameter = 3\n",
    "\n",
    "# Create a variable called 'radius' equal to half the diameter\n",
    "radius=diameter*0.5\n",
    "\n",
    "# Create a variable called 'area', using the formula for the area of a circle: pi times the radius squared\n",
    "area=pi*radius**2\n",
    "\n",
    "# Check your answer\n",
    "q1.check()"
   ]
  },
  {
   "cell_type": "code",
   "execution_count": 6,
   "id": "c2132e2c",
   "metadata": {
    "execution": {
     "iopub.execute_input": "2023-08-04T08:24:48.153932Z",
     "iopub.status.busy": "2023-08-04T08:24:48.153508Z",
     "iopub.status.idle": "2023-08-04T08:24:48.157856Z",
     "shell.execute_reply": "2023-08-04T08:24:48.156798Z"
    },
    "papermill": {
     "duration": 0.014962,
     "end_time": "2023-08-04T08:24:48.159789",
     "exception": false,
     "start_time": "2023-08-04T08:24:48.144827",
     "status": "completed"
    },
    "tags": []
   },
   "outputs": [],
   "source": [
    "# Uncomment and run the lines below if you need help.\n",
    "#q1.hint()\n",
    "#q1.solution()"
   ]
  },
  {
   "cell_type": "markdown",
   "id": "53f1c3a3",
   "metadata": {
    "papermill": {
     "duration": 0.00696,
     "end_time": "2023-08-04T08:24:48.174225",
     "exception": false,
     "start_time": "2023-08-04T08:24:48.167265",
     "status": "completed"
    },
    "tags": []
   },
   "source": [
    "<hr/>\n",
    "\n",
    "# 2.\n",
    "\n",
    "Add code to the following cell to swap variables `a` and `b` (so that `a` refers to the object previously referred to by `b` and vice versa)."
   ]
  },
  {
   "cell_type": "code",
   "execution_count": 7,
   "id": "fd48d89d",
   "metadata": {
    "execution": {
     "iopub.execute_input": "2023-08-04T08:24:48.190337Z",
     "iopub.status.busy": "2023-08-04T08:24:48.189951Z",
     "iopub.status.idle": "2023-08-04T08:24:48.198957Z",
     "shell.execute_reply": "2023-08-04T08:24:48.197953Z"
    },
    "papermill": {
     "duration": 0.019493,
     "end_time": "2023-08-04T08:24:48.200931",
     "exception": false,
     "start_time": "2023-08-04T08:24:48.181438",
     "status": "completed"
    },
    "tags": []
   },
   "outputs": [
    {
     "data": {
      "application/javascript": [
       "parent.postMessage({\"jupyterEvent\": \"custom.exercise_interaction\", \"data\": {\"outcomeType\": 1, \"valueTowardsCompletion\": 0.25, \"interactionType\": 1, \"questionType\": 2, \"questionId\": \"2_VariableSwap\", \"learnToolsVersion\": \"0.3.4\", \"failureMessage\": \"\", \"exceptionClass\": \"\", \"trace\": \"\"}}, \"*\")"
      ],
      "text/plain": [
       "<IPython.core.display.Javascript object>"
      ]
     },
     "metadata": {},
     "output_type": "display_data"
    },
    {
     "data": {
      "text/markdown": [
       "<span style=\"color:#33cc33\">Correct:</span> \n",
       "\n",
       "The most straightforward solution is to use a third variable to temporarily store one of the old values. e.g.:\n",
       "\n",
       "    tmp = a\n",
       "    a = b\n",
       "    b = tmp\n",
       "\n",
       "If you've read lots of Python code, you might have seen the following trick to swap two variables in one line:\n",
       "\n",
       "    a, b = b, a\n",
       "\n",
       "We'll demystify this bit of Python magic later when we talk about *tuples*."
      ],
      "text/plain": [
       "Correct: \n",
       "\n",
       "The most straightforward solution is to use a third variable to temporarily store one of the old values. e.g.:\n",
       "\n",
       "    tmp = a\n",
       "    a = b\n",
       "    b = tmp\n",
       "\n",
       "If you've read lots of Python code, you might have seen the following trick to swap two variables in one line:\n",
       "\n",
       "    a, b = b, a\n",
       "\n",
       "We'll demystify this bit of Python magic later when we talk about *tuples*."
      ]
     },
     "metadata": {},
     "output_type": "display_data"
    }
   ],
   "source": [
    "########### Setup code - don't touch this part ######################\n",
    "# If you're curious, these are examples of lists. We'll talk about \n",
    "# them in depth a few lessons from now. For now, just know that they're\n",
    "# yet another type of Python object, like int or float.\n",
    "a = [1, 2, 3]\n",
    "b = [3, 2, 1]\n",
    "q2.store_original_ids()\n",
    "######################################################################\n",
    "\n",
    "# Your code goes here. Swap the values to which a and b refer.\n",
    "# If you get stuck, you can always uncomment one or both of the lines in\n",
    "# the next cell for a hint, or to peek at the solution.\n",
    "a,b=b,a\n",
    "\n",
    "######################################################################\n",
    "\n",
    "# Check your answer\n",
    "q2.check()"
   ]
  },
  {
   "cell_type": "code",
   "execution_count": 8,
   "id": "73dbea97",
   "metadata": {
    "execution": {
     "iopub.execute_input": "2023-08-04T08:24:48.217556Z",
     "iopub.status.busy": "2023-08-04T08:24:48.217146Z",
     "iopub.status.idle": "2023-08-04T08:24:48.221650Z",
     "shell.execute_reply": "2023-08-04T08:24:48.220623Z"
    },
    "papermill": {
     "duration": 0.015508,
     "end_time": "2023-08-04T08:24:48.223946",
     "exception": false,
     "start_time": "2023-08-04T08:24:48.208438",
     "status": "completed"
    },
    "tags": []
   },
   "outputs": [],
   "source": [
    "#q2.hint()"
   ]
  },
  {
   "cell_type": "code",
   "execution_count": 9,
   "id": "6c8cac5f",
   "metadata": {
    "execution": {
     "iopub.execute_input": "2023-08-04T08:24:48.241101Z",
     "iopub.status.busy": "2023-08-04T08:24:48.240722Z",
     "iopub.status.idle": "2023-08-04T08:24:48.249147Z",
     "shell.execute_reply": "2023-08-04T08:24:48.248056Z"
    },
    "papermill": {
     "duration": 0.019615,
     "end_time": "2023-08-04T08:24:48.251312",
     "exception": false,
     "start_time": "2023-08-04T08:24:48.231697",
     "status": "completed"
    },
    "tags": []
   },
   "outputs": [
    {
     "data": {
      "application/javascript": [
       "parent.postMessage({\"jupyterEvent\": \"custom.exercise_interaction\", \"data\": {\"interactionType\": 3, \"questionType\": 2, \"questionId\": \"2_VariableSwap\", \"learnToolsVersion\": \"0.3.4\", \"valueTowardsCompletion\": 0.0, \"failureMessage\": \"\", \"exceptionClass\": \"\", \"trace\": \"\", \"outcomeType\": 4}}, \"*\")"
      ],
      "text/plain": [
       "<IPython.core.display.Javascript object>"
      ]
     },
     "metadata": {},
     "output_type": "display_data"
    },
    {
     "data": {
      "text/markdown": [
       "<span style=\"color:#33cc99\">Solution:</span> The most straightforward solution is to use a third variable to temporarily store one of the old values. e.g.:\n",
       "\n",
       "    tmp = a\n",
       "    a = b\n",
       "    b = tmp\n",
       "\n",
       "If you've read lots of Python code, you might have seen the following trick to swap two variables in one line:\n",
       "\n",
       "    a, b = b, a\n",
       "\n",
       "We'll demystify this bit of Python magic later when we talk about *tuples*."
      ],
      "text/plain": [
       "Solution: The most straightforward solution is to use a third variable to temporarily store one of the old values. e.g.:\n",
       "\n",
       "    tmp = a\n",
       "    a = b\n",
       "    b = tmp\n",
       "\n",
       "If you've read lots of Python code, you might have seen the following trick to swap two variables in one line:\n",
       "\n",
       "    a, b = b, a\n",
       "\n",
       "We'll demystify this bit of Python magic later when we talk about *tuples*."
      ]
     },
     "metadata": {},
     "output_type": "display_data"
    }
   ],
   "source": [
    "q2.solution()"
   ]
  },
  {
   "cell_type": "markdown",
   "id": "f78fa0e0",
   "metadata": {
    "papermill": {
     "duration": 0.007746,
     "end_time": "2023-08-04T08:24:48.266950",
     "exception": false,
     "start_time": "2023-08-04T08:24:48.259204",
     "status": "completed"
    },
    "tags": []
   },
   "source": [
    "<hr/>\n",
    "\n",
    "# 3a.\n",
    "\n",
    "Add parentheses to the following expression so that it evaluates to 1."
   ]
  },
  {
   "cell_type": "code",
   "execution_count": 10,
   "id": "e728142e",
   "metadata": {
    "execution": {
     "iopub.execute_input": "2023-08-04T08:24:48.284381Z",
     "iopub.status.busy": "2023-08-04T08:24:48.284033Z",
     "iopub.status.idle": "2023-08-04T08:24:48.289202Z",
     "shell.execute_reply": "2023-08-04T08:24:48.288481Z"
    },
    "papermill": {
     "duration": 0.016148,
     "end_time": "2023-08-04T08:24:48.290972",
     "exception": false,
     "start_time": "2023-08-04T08:24:48.274824",
     "status": "completed"
    },
    "tags": []
   },
   "outputs": [
    {
     "data": {
      "text/plain": [
       "1"
      ]
     },
     "execution_count": 10,
     "metadata": {},
     "output_type": "execute_result"
    }
   ],
   "source": [
    "(5 - 3) // 2"
   ]
  },
  {
   "cell_type": "code",
   "execution_count": 11,
   "id": "42232d87",
   "metadata": {
    "execution": {
     "iopub.execute_input": "2023-08-04T08:24:48.309120Z",
     "iopub.status.busy": "2023-08-04T08:24:48.308697Z",
     "iopub.status.idle": "2023-08-04T08:24:48.313229Z",
     "shell.execute_reply": "2023-08-04T08:24:48.312126Z"
    },
    "papermill": {
     "duration": 0.016288,
     "end_time": "2023-08-04T08:24:48.315315",
     "exception": false,
     "start_time": "2023-08-04T08:24:48.299027",
     "status": "completed"
    },
    "tags": []
   },
   "outputs": [],
   "source": [
    "#q3.a.hint()"
   ]
  },
  {
   "cell_type": "code",
   "execution_count": 12,
   "id": "8f09e769",
   "metadata": {
    "execution": {
     "iopub.execute_input": "2023-08-04T08:24:48.333922Z",
     "iopub.status.busy": "2023-08-04T08:24:48.333421Z",
     "iopub.status.idle": "2023-08-04T08:24:48.341654Z",
     "shell.execute_reply": "2023-08-04T08:24:48.340509Z"
    },
    "papermill": {
     "duration": 0.020742,
     "end_time": "2023-08-04T08:24:48.344135",
     "exception": false,
     "start_time": "2023-08-04T08:24:48.323393",
     "status": "completed"
    },
    "tags": []
   },
   "outputs": [
    {
     "data": {
      "application/javascript": [
       "parent.postMessage({\"jupyterEvent\": \"custom.exercise_interaction\", \"data\": {\"interactionType\": 3, \"questionType\": 4, \"questionId\": \"3.1_ArithmeticParensEasy\", \"learnToolsVersion\": \"0.3.4\", \"valueTowardsCompletion\": 0.0, \"failureMessage\": \"\", \"exceptionClass\": \"\", \"trace\": \"\", \"outcomeType\": 4}}, \"*\")"
      ],
      "text/plain": [
       "<IPython.core.display.Javascript object>"
      ]
     },
     "metadata": {},
     "output_type": "display_data"
    },
    {
     "data": {
      "text/markdown": [
       "<span style=\"color:#33cc99\">Solution:</span> \n",
       "```python\n",
       "(5 - 3) // 2\n",
       "```"
      ],
      "text/plain": [
       "Solution: \n",
       "```python\n",
       "(5 - 3) // 2\n",
       "```"
      ]
     },
     "metadata": {},
     "output_type": "display_data"
    }
   ],
   "source": [
    "# Check your answer (Run this code cell to receive credit!)\n",
    "q3.a.solution()"
   ]
  },
  {
   "cell_type": "markdown",
   "id": "ecfbaa53",
   "metadata": {
    "papermill": {
     "duration": 0.010077,
     "end_time": "2023-08-04T08:24:48.363669",
     "exception": false,
     "start_time": "2023-08-04T08:24:48.353592",
     "status": "completed"
    },
    "tags": []
   },
   "source": [
    "# 3b.  <span title=\"A bit spicy\" style=\"color: darkgreen \">🌶️</span>\n",
    "\n",
    "<small>Questions, like this one, marked a spicy pepper are a bit harder.</small>\n",
    "\n",
    "Add parentheses to the following expression so that it evaluates to 0."
   ]
  },
  {
   "cell_type": "code",
   "execution_count": 13,
   "id": "86d7066a",
   "metadata": {
    "execution": {
     "iopub.execute_input": "2023-08-04T08:24:48.386532Z",
     "iopub.status.busy": "2023-08-04T08:24:48.386055Z",
     "iopub.status.idle": "2023-08-04T08:24:48.394248Z",
     "shell.execute_reply": "2023-08-04T08:24:48.392924Z"
    },
    "papermill": {
     "duration": 0.024391,
     "end_time": "2023-08-04T08:24:48.396988",
     "exception": false,
     "start_time": "2023-08-04T08:24:48.372597",
     "status": "completed"
    },
    "tags": []
   },
   "outputs": [
    {
     "data": {
      "text/plain": [
       "0"
      ]
     },
     "execution_count": 13,
     "metadata": {},
     "output_type": "execute_result"
    }
   ],
   "source": [
    "8 - 3 * 2 - (1 + 1)"
   ]
  },
  {
   "cell_type": "code",
   "execution_count": 14,
   "id": "ffba6583",
   "metadata": {
    "execution": {
     "iopub.execute_input": "2023-08-04T08:24:48.416421Z",
     "iopub.status.busy": "2023-08-04T08:24:48.416022Z",
     "iopub.status.idle": "2023-08-04T08:24:48.420922Z",
     "shell.execute_reply": "2023-08-04T08:24:48.419287Z"
    },
    "papermill": {
     "duration": 0.01795,
     "end_time": "2023-08-04T08:24:48.424061",
     "exception": false,
     "start_time": "2023-08-04T08:24:48.406111",
     "status": "completed"
    },
    "tags": []
   },
   "outputs": [],
   "source": [
    "#q3.b.hint()"
   ]
  },
  {
   "cell_type": "code",
   "execution_count": 15,
   "id": "61f6b2aa",
   "metadata": {
    "execution": {
     "iopub.execute_input": "2023-08-04T08:24:48.446179Z",
     "iopub.status.busy": "2023-08-04T08:24:48.445787Z",
     "iopub.status.idle": "2023-08-04T08:24:48.454019Z",
     "shell.execute_reply": "2023-08-04T08:24:48.453034Z"
    },
    "papermill": {
     "duration": 0.021685,
     "end_time": "2023-08-04T08:24:48.456067",
     "exception": false,
     "start_time": "2023-08-04T08:24:48.434382",
     "status": "completed"
    },
    "tags": []
   },
   "outputs": [
    {
     "data": {
      "application/javascript": [
       "parent.postMessage({\"jupyterEvent\": \"custom.exercise_interaction\", \"data\": {\"interactionType\": 3, \"questionType\": 4, \"questionId\": \"3.2_ArithmeticParensHard\", \"learnToolsVersion\": \"0.3.4\", \"valueTowardsCompletion\": 0.0, \"failureMessage\": \"\", \"exceptionClass\": \"\", \"trace\": \"\", \"outcomeType\": 4}}, \"*\")"
      ],
      "text/plain": [
       "<IPython.core.display.Javascript object>"
      ]
     },
     "metadata": {},
     "output_type": "display_data"
    },
    {
     "data": {
      "text/markdown": [
       "<span style=\"color:#33cc99\">Solution:</span> `(8 - 3) * (2 - (1 + 1))` is one solution. There may be others."
      ],
      "text/plain": [
       "Solution: `(8 - 3) * (2 - (1 + 1))` is one solution. There may be others."
      ]
     },
     "metadata": {},
     "output_type": "display_data"
    }
   ],
   "source": [
    "# Check your answer (Run this code cell to receive credit!)\n",
    "q3.b.solution()"
   ]
  },
  {
   "cell_type": "markdown",
   "id": "897ad6f3",
   "metadata": {
    "papermill": {
     "duration": 0.00929,
     "end_time": "2023-08-04T08:24:48.477947",
     "exception": false,
     "start_time": "2023-08-04T08:24:48.468657",
     "status": "completed"
    },
    "tags": []
   },
   "source": [
    "<hr/>\n",
    "\n",
    "# 4. \n",
    "Alice, Bob and Carol have agreed to pool their Halloween candy and split it evenly among themselves.\n",
    "For the sake of their friendship, any candies left over will be smashed. For example, if they collectively\n",
    "bring home 91 candies, they'll take 30 each and smash 1.\n",
    "\n",
    "Write an arithmetic expression below to calculate how many candies they must smash for a given haul."
   ]
  },
  {
   "cell_type": "code",
   "execution_count": 16,
   "id": "f7912bf0",
   "metadata": {
    "execution": {
     "iopub.execute_input": "2023-08-04T08:24:48.500394Z",
     "iopub.status.busy": "2023-08-04T08:24:48.499402Z",
     "iopub.status.idle": "2023-08-04T08:24:48.511232Z",
     "shell.execute_reply": "2023-08-04T08:24:48.510347Z"
    },
    "papermill": {
     "duration": 0.025538,
     "end_time": "2023-08-04T08:24:48.513326",
     "exception": false,
     "start_time": "2023-08-04T08:24:48.487788",
     "status": "completed"
    },
    "tags": []
   },
   "outputs": [
    {
     "data": {
      "application/javascript": [
       "parent.postMessage({\"jupyterEvent\": \"custom.exercise_interaction\", \"data\": {\"outcomeType\": 1, \"valueTowardsCompletion\": 0.25, \"interactionType\": 1, \"questionType\": 1, \"questionId\": \"4_CandySplitting\", \"learnToolsVersion\": \"0.3.4\", \"failureMessage\": \"\", \"exceptionClass\": \"\", \"trace\": \"\"}}, \"*\")"
      ],
      "text/plain": [
       "<IPython.core.display.Javascript object>"
      ]
     },
     "metadata": {},
     "output_type": "display_data"
    },
    {
     "data": {
      "text/markdown": [
       "<span style=\"color:#33cc33\">Correct</span>"
      ],
      "text/plain": [
       "Correct"
      ]
     },
     "metadata": {},
     "output_type": "display_data"
    }
   ],
   "source": [
    "# Variables representing the number of candies collected by alice, bob, and carol\n",
    "alice_candies = 121\n",
    "bob_candies = 77\n",
    "carol_candies = 109\n",
    "\n",
    "# Your code goes here! Replace the right-hand side of this assignment with an expression\n",
    "# involving alice_candies, bob_candies, and carol_candies\n",
    "to_smash = (alice_candies + bob_candies + carol_candies) % 3\n",
    "\n",
    "# Check your answer\n",
    "q4.check()"
   ]
  },
  {
   "cell_type": "code",
   "execution_count": 17,
   "id": "95039678",
   "metadata": {
    "execution": {
     "iopub.execute_input": "2023-08-04T08:24:48.533414Z",
     "iopub.status.busy": "2023-08-04T08:24:48.532505Z",
     "iopub.status.idle": "2023-08-04T08:24:48.536917Z",
     "shell.execute_reply": "2023-08-04T08:24:48.535882Z"
    },
    "papermill": {
     "duration": 0.016563,
     "end_time": "2023-08-04T08:24:48.538981",
     "exception": false,
     "start_time": "2023-08-04T08:24:48.522418",
     "status": "completed"
    },
    "tags": []
   },
   "outputs": [],
   "source": [
    "#q4.hint()\n",
    "#q4.solution()"
   ]
  },
  {
   "cell_type": "markdown",
   "id": "ef1c48ba",
   "metadata": {
    "papermill": {
     "duration": 0.008603,
     "end_time": "2023-08-04T08:24:48.556784",
     "exception": false,
     "start_time": "2023-08-04T08:24:48.548181",
     "status": "completed"
    },
    "tags": []
   },
   "source": [
    "# Keep Going\n",
    "\n",
    "Next up, you'll **[learn to write new functions and understand functions others write](https://www.kaggle.com/colinmorris/functions-and-getting-help)**. This will make you at least 10 times more productive as a Python programmer. "
   ]
  },
  {
   "cell_type": "markdown",
   "id": "77dfed78",
   "metadata": {
    "papermill": {
     "duration": 0.008724,
     "end_time": "2023-08-04T08:24:48.574480",
     "exception": false,
     "start_time": "2023-08-04T08:24:48.565756",
     "status": "completed"
    },
    "tags": []
   },
   "source": [
    "---\n",
    "\n",
    "\n",
    "\n",
    "\n",
    "*Have questions or comments? Visit the [course discussion forum](https://www.kaggle.com/learn/python/discussion) to chat with other learners.*"
   ]
  }
 ],
 "metadata": {
  "kernelspec": {
   "display_name": "Python 3",
   "language": "python",
   "name": "python3"
  },
  "language_info": {
   "codemirror_mode": {
    "name": "ipython",
    "version": 3
   },
   "file_extension": ".py",
   "mimetype": "text/x-python",
   "name": "python",
   "nbconvert_exporter": "python",
   "pygments_lexer": "ipython3",
   "version": "3.10.12"
  },
  "papermill": {
   "default_parameters": {},
   "duration": 10.953197,
   "end_time": "2023-08-04T08:24:49.404176",
   "environment_variables": {},
   "exception": null,
   "input_path": "__notebook__.ipynb",
   "output_path": "__notebook__.ipynb",
   "parameters": {},
   "start_time": "2023-08-04T08:24:38.450979",
   "version": "2.4.0"
  }
 },
 "nbformat": 4,
 "nbformat_minor": 5
}
