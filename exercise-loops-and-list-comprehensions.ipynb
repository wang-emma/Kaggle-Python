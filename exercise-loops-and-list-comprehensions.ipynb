{
 "cells": [
  {
   "cell_type": "markdown",
   "id": "c00ec9b8",
   "metadata": {
    "papermill": {
     "duration": 0.005539,
     "end_time": "2023-08-09T21:56:48.018191",
     "exception": false,
     "start_time": "2023-08-09T21:56:48.012652",
     "status": "completed"
    },
    "tags": []
   },
   "source": [
    "**This notebook is an exercise in the [Python](https://www.kaggle.com/learn/python) course.  You can reference the tutorial at [this link](https://www.kaggle.com/colinmorris/loops-and-list-comprehensions).**\n",
    "\n",
    "---\n"
   ]
  },
  {
   "cell_type": "markdown",
   "id": "c48bc454",
   "metadata": {
    "papermill": {
     "duration": 0.004616,
     "end_time": "2023-08-09T21:56:48.027884",
     "exception": false,
     "start_time": "2023-08-09T21:56:48.023268",
     "status": "completed"
    },
    "tags": []
   },
   "source": [
    "With all you've learned, you can start writing much more interesting programs. See if you can solve the problems below.\n",
    "\n",
    "As always, run the setup code below before working on the questions."
   ]
  },
  {
   "cell_type": "code",
   "execution_count": 1,
   "id": "fd136416",
   "metadata": {
    "execution": {
     "iopub.execute_input": "2023-08-09T21:56:48.040091Z",
     "iopub.status.busy": "2023-08-09T21:56:48.039419Z",
     "iopub.status.idle": "2023-08-09T21:56:48.081479Z",
     "shell.execute_reply": "2023-08-09T21:56:48.080636Z"
    },
    "papermill": {
     "duration": 0.050615,
     "end_time": "2023-08-09T21:56:48.083740",
     "exception": false,
     "start_time": "2023-08-09T21:56:48.033125",
     "status": "completed"
    },
    "tags": []
   },
   "outputs": [
    {
     "name": "stdout",
     "output_type": "stream",
     "text": [
      "Setup complete.\n"
     ]
    }
   ],
   "source": [
    "from learntools.core import binder; binder.bind(globals())\n",
    "from learntools.python.ex5 import *\n",
    "print('Setup complete.')"
   ]
  },
  {
   "cell_type": "markdown",
   "id": "5d0f553c",
   "metadata": {
    "papermill": {
     "duration": 0.004896,
     "end_time": "2023-08-09T21:56:48.093891",
     "exception": false,
     "start_time": "2023-08-09T21:56:48.088995",
     "status": "completed"
    },
    "tags": []
   },
   "source": [
    "# 1.\n",
    "\n",
    "Have you ever felt debugging involved a bit of luck? The following program has a bug. Try to identify the bug and fix it."
   ]
  },
  {
   "cell_type": "code",
   "execution_count": 2,
   "id": "b8ffce1e",
   "metadata": {
    "execution": {
     "iopub.execute_input": "2023-08-09T21:56:48.106316Z",
     "iopub.status.busy": "2023-08-09T21:56:48.105677Z",
     "iopub.status.idle": "2023-08-09T21:56:48.111326Z",
     "shell.execute_reply": "2023-08-09T21:56:48.110594Z"
    },
    "papermill": {
     "duration": 0.014317,
     "end_time": "2023-08-09T21:56:48.113143",
     "exception": false,
     "start_time": "2023-08-09T21:56:48.098826",
     "status": "completed"
    },
    "tags": []
   },
   "outputs": [],
   "source": [
    "def has_lucky_number(nums):\n",
    "    \"\"\"Return whether the given list of numbers is lucky. A lucky list contains\n",
    "    at least one number divisible by 7.\n",
    "    \"\"\"\n",
    "    for num in nums:\n",
    "        if num % 7 == 0:\n",
    "            return True\n",
    "        else:\n",
    "            return False"
   ]
  },
  {
   "cell_type": "code",
   "execution_count": null,
   "id": "1d02655a",
   "metadata": {
    "papermill": {
     "duration": 0.004709,
     "end_time": "2023-08-09T21:56:48.122984",
     "exception": false,
     "start_time": "2023-08-09T21:56:48.118275",
     "status": "completed"
    },
    "tags": []
   },
   "outputs": [],
   "source": []
  },
  {
   "cell_type": "markdown",
   "id": "01ccd145",
   "metadata": {
    "papermill": {
     "duration": 0.004793,
     "end_time": "2023-08-09T21:56:48.132615",
     "exception": false,
     "start_time": "2023-08-09T21:56:48.127822",
     "status": "completed"
    },
    "tags": []
   },
   "source": [
    "Try to identify the bug and fix it in the cell below:"
   ]
  },
  {
   "cell_type": "code",
   "execution_count": 3,
   "id": "e7351415",
   "metadata": {
    "execution": {
     "iopub.execute_input": "2023-08-09T21:56:48.144613Z",
     "iopub.status.busy": "2023-08-09T21:56:48.143744Z",
     "iopub.status.idle": "2023-08-09T21:56:48.153592Z",
     "shell.execute_reply": "2023-08-09T21:56:48.152817Z"
    },
    "papermill": {
     "duration": 0.017799,
     "end_time": "2023-08-09T21:56:48.155399",
     "exception": false,
     "start_time": "2023-08-09T21:56:48.137600",
     "status": "completed"
    },
    "tags": []
   },
   "outputs": [
    {
     "data": {
      "application/javascript": [
       "parent.postMessage({\"jupyterEvent\": \"custom.exercise_interaction\", \"data\": {\"outcomeType\": 1, \"valueTowardsCompletion\": 0.25, \"interactionType\": 1, \"questionType\": 2, \"questionId\": \"1_EarlyExitDebugging\", \"learnToolsVersion\": \"0.3.4\", \"failureMessage\": \"\", \"exceptionClass\": \"\", \"trace\": \"\"}}, \"*\")"
      ],
      "text/plain": [
       "<IPython.core.display.Javascript object>"
      ]
     },
     "metadata": {},
     "output_type": "display_data"
    },
    {
     "data": {
      "text/markdown": [
       "<span style=\"color:#33cc33\">Correct:</span> \n",
       "\n",
       "Remember that `return` causes a function to exit immediately. So our original implementation always ran for just one iteration. We can only return `False` if we've looked at every element of the list (and confirmed that none of them are lucky). Though we can return early if the answer is `True`:\n",
       "\n",
       "```python\n",
       "def has_lucky_number(nums):\n",
       "    for num in nums:\n",
       "        if num % 7 == 0:\n",
       "            return True\n",
       "    # We've exhausted the list without finding a lucky number\n",
       "    return False\n",
       "```\n",
       "\n",
       "Here's a one-line version using a list comprehension with Python's `any` function (you can read about what it does by calling `help(any)`):\n",
       "\n",
       "```python\n",
       "def has_lucky_number(nums):\n",
       "    return any([num % 7 == 0 for num in nums])\n",
       "```\n"
      ],
      "text/plain": [
       "Correct: \n",
       "\n",
       "Remember that `return` causes a function to exit immediately. So our original implementation always ran for just one iteration. We can only return `False` if we've looked at every element of the list (and confirmed that none of them are lucky). Though we can return early if the answer is `True`:\n",
       "\n",
       "```python\n",
       "def has_lucky_number(nums):\n",
       "    for num in nums:\n",
       "        if num % 7 == 0:\n",
       "            return True\n",
       "    # We've exhausted the list without finding a lucky number\n",
       "    return False\n",
       "```\n",
       "\n",
       "Here's a one-line version using a list comprehension with Python's `any` function (you can read about what it does by calling `help(any)`):\n",
       "\n",
       "```python\n",
       "def has_lucky_number(nums):\n",
       "    return any([num % 7 == 0 for num in nums])\n",
       "```"
      ]
     },
     "metadata": {},
     "output_type": "display_data"
    }
   ],
   "source": [
    "def has_lucky_number(nums):\n",
    "    \"\"\"Return whether the given list of numbers is lucky. A lucky list contains\n",
    "    at least one number divisible by 7.\n",
    "    \"\"\"\n",
    "    return any([num % 7 == 0 for num in nums])\n",
    "# Check your answer\n",
    "q1.check()"
   ]
  },
  {
   "cell_type": "code",
   "execution_count": 4,
   "id": "79f84d7d",
   "metadata": {
    "execution": {
     "iopub.execute_input": "2023-08-09T21:56:48.169380Z",
     "iopub.status.busy": "2023-08-09T21:56:48.168767Z",
     "iopub.status.idle": "2023-08-09T21:56:48.173155Z",
     "shell.execute_reply": "2023-08-09T21:56:48.171993Z"
    },
    "papermill": {
     "duration": 0.013288,
     "end_time": "2023-08-09T21:56:48.175360",
     "exception": false,
     "start_time": "2023-08-09T21:56:48.162072",
     "status": "completed"
    },
    "tags": []
   },
   "outputs": [],
   "source": [
    "#q1.hint()\n",
    "#q1.solution()"
   ]
  },
  {
   "cell_type": "markdown",
   "id": "917fd177",
   "metadata": {
    "papermill": {
     "duration": 0.005326,
     "end_time": "2023-08-09T21:56:48.186268",
     "exception": false,
     "start_time": "2023-08-09T21:56:48.180942",
     "status": "completed"
    },
    "tags": []
   },
   "source": [
    "# 2.\n",
    "Look at the Python expression below. What do you think we'll get when we run it? When you've made your prediction, uncomment the code and run the cell to see if you were right."
   ]
  },
  {
   "cell_type": "code",
   "execution_count": 5,
   "id": "7e23ef3d",
   "metadata": {
    "execution": {
     "iopub.execute_input": "2023-08-09T21:56:48.198759Z",
     "iopub.status.busy": "2023-08-09T21:56:48.198367Z",
     "iopub.status.idle": "2023-08-09T21:56:48.202232Z",
     "shell.execute_reply": "2023-08-09T21:56:48.201298Z"
    },
    "papermill": {
     "duration": 0.012498,
     "end_time": "2023-08-09T21:56:48.204138",
     "exception": false,
     "start_time": "2023-08-09T21:56:48.191640",
     "status": "completed"
    },
    "tags": []
   },
   "outputs": [],
   "source": [
    "# [1, 2, 3, 4] > 2"
   ]
  },
  {
   "cell_type": "markdown",
   "id": "c7b2d297",
   "metadata": {
    "papermill": {
     "duration": 0.005032,
     "end_time": "2023-08-09T21:56:48.214496",
     "exception": false,
     "start_time": "2023-08-09T21:56:48.209464",
     "status": "completed"
    },
    "tags": []
   },
   "source": [
    "R and Python have some libraries (like numpy and pandas) compare each element of the list to 2 (i.e. do an 'element-wise' comparison) and give us a list of booleans like `[False, False, True, True]`. \n",
    "\n",
    "Implement a function that reproduces this behaviour, returning a list of booleans corresponding to whether the corresponding element is greater than n."
   ]
  },
  {
   "cell_type": "code",
   "execution_count": 6,
   "id": "283d1c3a",
   "metadata": {
    "execution": {
     "iopub.execute_input": "2023-08-09T21:56:48.227078Z",
     "iopub.status.busy": "2023-08-09T21:56:48.226424Z",
     "iopub.status.idle": "2023-08-09T21:56:48.234478Z",
     "shell.execute_reply": "2023-08-09T21:56:48.233774Z"
    },
    "papermill": {
     "duration": 0.016512,
     "end_time": "2023-08-09T21:56:48.236311",
     "exception": false,
     "start_time": "2023-08-09T21:56:48.219799",
     "status": "completed"
    },
    "tags": []
   },
   "outputs": [
    {
     "data": {
      "application/javascript": [
       "parent.postMessage({\"jupyterEvent\": \"custom.exercise_interaction\", \"data\": {\"outcomeType\": 1, \"valueTowardsCompletion\": 0.25, \"interactionType\": 1, \"questionType\": 2, \"questionId\": \"2_ElementWiseComparison\", \"learnToolsVersion\": \"0.3.4\", \"failureMessage\": \"\", \"exceptionClass\": \"\", \"trace\": \"\"}}, \"*\")"
      ],
      "text/plain": [
       "<IPython.core.display.Javascript object>"
      ]
     },
     "metadata": {},
     "output_type": "display_data"
    },
    {
     "data": {
      "text/markdown": [
       "<span style=\"color:#33cc33\">Correct:</span> \n",
       "\n",
       "Here's one solution:\n",
       "```python\n",
       "def elementwise_greater_than(L, thresh):\n",
       "    res = []\n",
       "    for ele in L:\n",
       "        res.append(ele > thresh)\n",
       "    return res\n",
       "```\n",
       "\n",
       "And here's the list comprehension version:\n",
       "```python\n",
       "def elementwise_greater_than(L, thresh):\n",
       "    return [ele > thresh for ele in L]\n",
       "```\n"
      ],
      "text/plain": [
       "Correct: \n",
       "\n",
       "Here's one solution:\n",
       "```python\n",
       "def elementwise_greater_than(L, thresh):\n",
       "    res = []\n",
       "    for ele in L:\n",
       "        res.append(ele > thresh)\n",
       "    return res\n",
       "```\n",
       "\n",
       "And here's the list comprehension version:\n",
       "```python\n",
       "def elementwise_greater_than(L, thresh):\n",
       "    return [ele > thresh for ele in L]\n",
       "```"
      ]
     },
     "metadata": {},
     "output_type": "display_data"
    }
   ],
   "source": [
    "def elementwise_greater_than(L, thresh):\n",
    "    \"\"\"Return a list with the same length as L, where the value at index i is \n",
    "    True if L[i] is greater than thresh, and False otherwise.\n",
    "    \n",
    "    >>> elementwise_greater_than([1, 2, 3, 4], 2)\n",
    "    [False, False, True, True]\n",
    "    \"\"\"\n",
    "    return [i > thresh for i in L]\n",
    "\n",
    "# Check your answer\n",
    "q2.check()"
   ]
  },
  {
   "cell_type": "code",
   "execution_count": 7,
   "id": "ac66eae6",
   "metadata": {
    "execution": {
     "iopub.execute_input": "2023-08-09T21:56:48.249844Z",
     "iopub.status.busy": "2023-08-09T21:56:48.249210Z",
     "iopub.status.idle": "2023-08-09T21:56:48.253037Z",
     "shell.execute_reply": "2023-08-09T21:56:48.252120Z"
    },
    "papermill": {
     "duration": 0.012882,
     "end_time": "2023-08-09T21:56:48.254909",
     "exception": false,
     "start_time": "2023-08-09T21:56:48.242027",
     "status": "completed"
    },
    "tags": []
   },
   "outputs": [],
   "source": [
    "#q2.solution()"
   ]
  },
  {
   "cell_type": "markdown",
   "id": "f33960f8",
   "metadata": {
    "papermill": {
     "duration": 0.0059,
     "end_time": "2023-08-09T21:56:48.267515",
     "exception": false,
     "start_time": "2023-08-09T21:56:48.261615",
     "status": "completed"
    },
    "tags": []
   },
   "source": [
    "# 3.\n",
    "\n",
    "Complete the body of the function below according to its docstring."
   ]
  },
  {
   "cell_type": "code",
   "execution_count": 8,
   "id": "d93ccfaa",
   "metadata": {
    "execution": {
     "iopub.execute_input": "2023-08-09T21:56:48.281081Z",
     "iopub.status.busy": "2023-08-09T21:56:48.280457Z",
     "iopub.status.idle": "2023-08-09T21:56:48.287900Z",
     "shell.execute_reply": "2023-08-09T21:56:48.287208Z"
    },
    "papermill": {
     "duration": 0.016338,
     "end_time": "2023-08-09T21:56:48.289706",
     "exception": false,
     "start_time": "2023-08-09T21:56:48.273368",
     "status": "completed"
    },
    "tags": []
   },
   "outputs": [
    {
     "data": {
      "application/javascript": [
       "parent.postMessage({\"jupyterEvent\": \"custom.exercise_interaction\", \"data\": {\"outcomeType\": 1, \"valueTowardsCompletion\": 0.25, \"interactionType\": 1, \"questionType\": 2, \"questionId\": \"3_BoringMenu\", \"learnToolsVersion\": \"0.3.4\", \"failureMessage\": \"\", \"exceptionClass\": \"\", \"trace\": \"\"}}, \"*\")"
      ],
      "text/plain": [
       "<IPython.core.display.Javascript object>"
      ]
     },
     "metadata": {},
     "output_type": "display_data"
    },
    {
     "data": {
      "text/markdown": [
       "<span style=\"color:#33cc33\">Correct:</span> \n",
       "\n",
       "\n",
       "\n",
       "```python\n",
       "def menu_is_boring(meals):\n",
       "    # Iterate over all indices of the list, except the last one\n",
       "    for i in range(len(meals)-1):\n",
       "        if meals[i] == meals[i+1]:\n",
       "            return True\n",
       "    return False\n",
       "```\n",
       "\n",
       "The key to our solution is the call to `range`. `range(len(meals))` would give us all the indices of `meals`. If we had used that range, the last iteration of the loop would be comparing the last element to the element after it, which is... `IndexError`! `range(len(meals)-1)` gives us all the indices except the index of the last element.\n",
       "\n",
       "But don't we need to check if `meals` is empty? Turns out that `range(0) == range(-1)` - they're both empty. So if `meals` has length 0 or 1, we just won't do any iterations of our for loop.\n"
      ],
      "text/plain": [
       "Correct: \n",
       "\n",
       "\n",
       "\n",
       "```python\n",
       "def menu_is_boring(meals):\n",
       "    # Iterate over all indices of the list, except the last one\n",
       "    for i in range(len(meals)-1):\n",
       "        if meals[i] == meals[i+1]:\n",
       "            return True\n",
       "    return False\n",
       "```\n",
       "\n",
       "The key to our solution is the call to `range`. `range(len(meals))` would give us all the indices of `meals`. If we had used that range, the last iteration of the loop would be comparing the last element to the element after it, which is... `IndexError`! `range(len(meals)-1)` gives us all the indices except the index of the last element.\n",
       "\n",
       "But don't we need to check if `meals` is empty? Turns out that `range(0) == range(-1)` - they're both empty. So if `meals` has length 0 or 1, we just won't do any iterations of our for loop."
      ]
     },
     "metadata": {},
     "output_type": "display_data"
    }
   ],
   "source": [
    "def menu_is_boring(meals):\n",
    "    \"\"\"Given a list of meals served over some period of time, return True if the\n",
    "    same meal has ever been served two days in a row, and False otherwise.\n",
    "    \"\"\"\n",
    "    return any([meals[i] == meals[i+1] for i in range(len(meals) -1)])\n",
    "\n",
    "# Check your answer\n",
    "q3.check()"
   ]
  },
  {
   "cell_type": "code",
   "execution_count": 9,
   "id": "a01557c0",
   "metadata": {
    "execution": {
     "iopub.execute_input": "2023-08-09T21:56:48.303499Z",
     "iopub.status.busy": "2023-08-09T21:56:48.302935Z",
     "iopub.status.idle": "2023-08-09T21:56:48.306319Z",
     "shell.execute_reply": "2023-08-09T21:56:48.305617Z"
    },
    "papermill": {
     "duration": 0.012224,
     "end_time": "2023-08-09T21:56:48.308050",
     "exception": false,
     "start_time": "2023-08-09T21:56:48.295826",
     "status": "completed"
    },
    "tags": []
   },
   "outputs": [],
   "source": [
    "#q3.hint()\n",
    "#q3.solution()"
   ]
  },
  {
   "cell_type": "markdown",
   "id": "b52cf93e",
   "metadata": {
    "papermill": {
     "duration": 0.005691,
     "end_time": "2023-08-09T21:56:48.319690",
     "exception": false,
     "start_time": "2023-08-09T21:56:48.313999",
     "status": "completed"
    },
    "tags": []
   },
   "source": [
    "# 4. <span title=\"A bit spicy\" style=\"color: darkgreen \">🌶️</span>\n",
    "\n",
    "Next to the Blackjack table, the Python Challenge Casino has a slot machine. You can get a result from the slot machine by calling `play_slot_machine()`. The number it returns is your winnings in dollars. Usually it returns 0.  But sometimes you'll get lucky and get a big payday. Try running it below:"
   ]
  },
  {
   "cell_type": "code",
   "execution_count": 10,
   "id": "34e32c80",
   "metadata": {
    "execution": {
     "iopub.execute_input": "2023-08-09T21:56:48.333412Z",
     "iopub.status.busy": "2023-08-09T21:56:48.332799Z",
     "iopub.status.idle": "2023-08-09T21:56:48.338470Z",
     "shell.execute_reply": "2023-08-09T21:56:48.337797Z"
    },
    "papermill": {
     "duration": 0.014619,
     "end_time": "2023-08-09T21:56:48.340231",
     "exception": false,
     "start_time": "2023-08-09T21:56:48.325612",
     "status": "completed"
    },
    "tags": []
   },
   "outputs": [
    {
     "data": {
      "text/plain": [
       "1.5"
      ]
     },
     "execution_count": 10,
     "metadata": {},
     "output_type": "execute_result"
    }
   ],
   "source": [
    "play_slot_machine()"
   ]
  },
  {
   "cell_type": "markdown",
   "id": "ce567571",
   "metadata": {
    "papermill": {
     "duration": 0.00589,
     "end_time": "2023-08-09T21:56:48.352269",
     "exception": false,
     "start_time": "2023-08-09T21:56:48.346379",
     "status": "completed"
    },
    "tags": []
   },
   "source": [
    "By the way, did we mention that each play costs $1? Don't worry, we'll send you the bill later.\n",
    "\n",
    "On average, how much money can you expect to gain (or lose) every time you play the machine?  The casino keeps it a secret, but you can estimate the average value of each pull using a technique called the **Monte Carlo method**. To estimate the average outcome, we simulate the scenario many times, and return the average result.\n",
    "\n",
    "Complete the following function to calculate the average value per play of the slot machine."
   ]
  },
  {
   "cell_type": "code",
   "execution_count": 11,
   "id": "29820ba7",
   "metadata": {
    "execution": {
     "iopub.execute_input": "2023-08-09T21:56:48.366830Z",
     "iopub.status.busy": "2023-08-09T21:56:48.365773Z",
     "iopub.status.idle": "2023-08-09T21:56:48.371263Z",
     "shell.execute_reply": "2023-08-09T21:56:48.370346Z"
    },
    "papermill": {
     "duration": 0.015031,
     "end_time": "2023-08-09T21:56:48.373485",
     "exception": false,
     "start_time": "2023-08-09T21:56:48.358454",
     "status": "completed"
    },
    "tags": []
   },
   "outputs": [],
   "source": [
    "def estimate_average_slot_payout(n_runs):\n",
    "    # Play slot machine n_runs times, calculate payout of each\n",
    "    payouts = [play_slot_machine()-1 for i in range(n_runs)]\n",
    "    # Calculate the average value\n",
    "    avg_payout = sum(payouts) / n_runs\n",
    "    return avg_payout"
   ]
  },
  {
   "cell_type": "markdown",
   "id": "ce050e25",
   "metadata": {
    "papermill": {
     "duration": 0.006009,
     "end_time": "2023-08-09T21:56:48.385976",
     "exception": false,
     "start_time": "2023-08-09T21:56:48.379967",
     "status": "completed"
    },
    "tags": []
   },
   "source": [
    "When you think you know the expected value per spin, run the code cell below to view the solution and get credit for answering the question."
   ]
  },
  {
   "cell_type": "code",
   "execution_count": 12,
   "id": "bd403301",
   "metadata": {
    "execution": {
     "iopub.execute_input": "2023-08-09T21:56:48.399856Z",
     "iopub.status.busy": "2023-08-09T21:56:48.399491Z",
     "iopub.status.idle": "2023-08-09T21:56:48.407099Z",
     "shell.execute_reply": "2023-08-09T21:56:48.406098Z"
    },
    "papermill": {
     "duration": 0.017728,
     "end_time": "2023-08-09T21:56:48.409907",
     "exception": false,
     "start_time": "2023-08-09T21:56:48.392179",
     "status": "completed"
    },
    "tags": []
   },
   "outputs": [
    {
     "data": {
      "application/javascript": [
       "parent.postMessage({\"jupyterEvent\": \"custom.exercise_interaction\", \"data\": {\"interactionType\": 3, \"questionType\": 4, \"questionId\": \"4_ExpectedSlotsPayout\", \"learnToolsVersion\": \"0.3.4\", \"valueTowardsCompletion\": 0.0, \"failureMessage\": \"\", \"exceptionClass\": \"\", \"trace\": \"\", \"outcomeType\": 4}}, \"*\")"
      ],
      "text/plain": [
       "<IPython.core.display.Javascript object>"
      ]
     },
     "metadata": {},
     "output_type": "display_data"
    },
    {
     "data": {
      "text/markdown": [
       "<span style=\"color:#33cc99\">Solution:</span> \n",
       "    \n",
       "The exact expected value of one pull of the slot machine is 0.025 - i.e. a little more than 2 cents.  See?  Not every game in the Python Challenge Casino is rigged against the player!\n",
       "\n",
       "In order to get this answer, you'll need to implement the `estimate_average_slot_payout(n_runs)` function to simulate pulling the slot machine `n_runs` times.  It should return the payout averaged over those `n_runs`.\n",
       "\n",
       "Then, once the function is defined, in order to estimate the average slot payout, we need only call the function.\n",
       "\n",
       "Because of the high variance of the outcome (there are some very rare high payout results that significantly affect the average) you might need to run your function with a very high value of `n_runs` to get a stable answer close to the true expectation.  For instance, you might use a value for `n_runs` of 1000000.\n",
       "\n",
       "Here's an example for how the function could look:\n",
       "```python\n",
       "def estimate_average_slot_payout(n_runs):\n",
       "    # Play slot machine n_runs times, calculate payout of each\n",
       "    payouts = [play_slot_machine()-1 for i in range(n_runs)]\n",
       "    # Calculate the average value\n",
       "    avg_payout = sum(payouts) / n_runs\n",
       "    return avg_payout\n",
       "    \n",
       "estimate_average_slot_payout(10000000)\n",
       "\n",
       "```\n",
       "\n",
       "This should return an answer close to 0.025!\n",
       "            \n"
      ],
      "text/plain": [
       "Solution: \n",
       "    \n",
       "The exact expected value of one pull of the slot machine is 0.025 - i.e. a little more than 2 cents.  See?  Not every game in the Python Challenge Casino is rigged against the player!\n",
       "\n",
       "In order to get this answer, you'll need to implement the `estimate_average_slot_payout(n_runs)` function to simulate pulling the slot machine `n_runs` times.  It should return the payout averaged over those `n_runs`.\n",
       "\n",
       "Then, once the function is defined, in order to estimate the average slot payout, we need only call the function.\n",
       "\n",
       "Because of the high variance of the outcome (there are some very rare high payout results that significantly affect the average) you might need to run your function with a very high value of `n_runs` to get a stable answer close to the true expectation.  For instance, you might use a value for `n_runs` of 1000000.\n",
       "\n",
       "Here's an example for how the function could look:\n",
       "```python\n",
       "def estimate_average_slot_payout(n_runs):\n",
       "    # Play slot machine n_runs times, calculate payout of each\n",
       "    payouts = [play_slot_machine()-1 for i in range(n_runs)]\n",
       "    # Calculate the average value\n",
       "    avg_payout = sum(payouts) / n_runs\n",
       "    return avg_payout\n",
       "    \n",
       "estimate_average_slot_payout(10000000)\n",
       "\n",
       "```\n",
       "\n",
       "This should return an answer close to 0.025!\n",
       "            "
      ]
     },
     "metadata": {},
     "output_type": "display_data"
    }
   ],
   "source": [
    "# Check your answer (Run this code cell to receive credit!)\n",
    "q4.solution()"
   ]
  },
  {
   "cell_type": "markdown",
   "id": "8d922efa",
   "metadata": {
    "papermill": {
     "duration": 0.006179,
     "end_time": "2023-08-09T21:56:48.423517",
     "exception": false,
     "start_time": "2023-08-09T21:56:48.417338",
     "status": "completed"
    },
    "tags": []
   },
   "source": [
    "# Keep Going\n",
    "\n",
    "Many programmers report that dictionaries are their favorite data structure. You'll get to **[learn about them](https://www.kaggle.com/colinmorris/strings-and-dictionaries)** (as well as strings) in the next lesson."
   ]
  },
  {
   "cell_type": "markdown",
   "id": "71167d80",
   "metadata": {
    "papermill": {
     "duration": 0.006067,
     "end_time": "2023-08-09T21:56:48.436041",
     "exception": false,
     "start_time": "2023-08-09T21:56:48.429974",
     "status": "completed"
    },
    "tags": []
   },
   "source": [
    "---\n",
    "\n",
    "\n",
    "\n",
    "\n",
    "*Have questions or comments? Visit the [course discussion forum](https://www.kaggle.com/learn/python/discussion) to chat with other learners.*"
   ]
  }
 ],
 "metadata": {
  "kernelspec": {
   "display_name": "Python 3",
   "language": "python",
   "name": "python3"
  },
  "language_info": {
   "codemirror_mode": {
    "name": "ipython",
    "version": 3
   },
   "file_extension": ".py",
   "mimetype": "text/x-python",
   "name": "python",
   "nbconvert_exporter": "python",
   "pygments_lexer": "ipython3",
   "version": "3.10.12"
  },
  "papermill": {
   "default_parameters": {},
   "duration": 10.303207,
   "end_time": "2023-08-09T21:56:49.263178",
   "environment_variables": {},
   "exception": null,
   "input_path": "__notebook__.ipynb",
   "output_path": "__notebook__.ipynb",
   "parameters": {},
   "start_time": "2023-08-09T21:56:38.959971",
   "version": "2.4.0"
  }
 },
 "nbformat": 4,
 "nbformat_minor": 5
}
