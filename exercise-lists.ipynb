{
 "cells": [
  {
   "cell_type": "markdown",
   "id": "a87e30a9",
   "metadata": {
    "papermill": {
     "duration": 0.004511,
     "end_time": "2023-08-09T21:52:57.067522",
     "exception": false,
     "start_time": "2023-08-09T21:52:57.063011",
     "status": "completed"
    },
    "tags": []
   },
   "source": [
    "**This notebook is an exercise in the [Python](https://www.kaggle.com/learn/python) course.  You can reference the tutorial at [this link](https://www.kaggle.com/colinmorris/lists).**\n",
    "\n",
    "---\n"
   ]
  },
  {
   "cell_type": "markdown",
   "id": "3f54f4c1",
   "metadata": {
    "papermill": {
     "duration": 0.003738,
     "end_time": "2023-08-09T21:52:57.075675",
     "exception": false,
     "start_time": "2023-08-09T21:52:57.071937",
     "status": "completed"
    },
    "tags": []
   },
   "source": [
    "Things get more interesting with lists. You'll apply your new knowledge to solve the questions below. Remember to run the following cell first."
   ]
  },
  {
   "cell_type": "code",
   "execution_count": 1,
   "id": "136ffdf3",
   "metadata": {
    "execution": {
     "iopub.execute_input": "2023-08-09T21:52:57.085928Z",
     "iopub.status.busy": "2023-08-09T21:52:57.085118Z",
     "iopub.status.idle": "2023-08-09T21:52:57.135199Z",
     "shell.execute_reply": "2023-08-09T21:52:57.133846Z"
    },
    "papermill": {
     "duration": 0.057997,
     "end_time": "2023-08-09T21:52:57.137712",
     "exception": false,
     "start_time": "2023-08-09T21:52:57.079715",
     "status": "completed"
    },
    "tags": []
   },
   "outputs": [
    {
     "name": "stdout",
     "output_type": "stream",
     "text": [
      "Setup complete.\n"
     ]
    }
   ],
   "source": [
    "from learntools.core import binder; binder.bind(globals())\n",
    "from learntools.python.ex4 import *\n",
    "print('Setup complete.')"
   ]
  },
  {
   "cell_type": "markdown",
   "id": "ded526fa",
   "metadata": {
    "papermill": {
     "duration": 0.003808,
     "end_time": "2023-08-09T21:52:57.145792",
     "exception": false,
     "start_time": "2023-08-09T21:52:57.141984",
     "status": "completed"
    },
    "tags": []
   },
   "source": [
    "# 1.\n",
    "\n",
    "Complete the function below according to its docstring."
   ]
  },
  {
   "cell_type": "code",
   "execution_count": 2,
   "id": "e4aeab66",
   "metadata": {
    "execution": {
     "iopub.execute_input": "2023-08-09T21:52:57.155150Z",
     "iopub.status.busy": "2023-08-09T21:52:57.154816Z",
     "iopub.status.idle": "2023-08-09T21:52:57.164631Z",
     "shell.execute_reply": "2023-08-09T21:52:57.163629Z"
    },
    "papermill": {
     "duration": 0.016626,
     "end_time": "2023-08-09T21:52:57.166305",
     "exception": false,
     "start_time": "2023-08-09T21:52:57.149679",
     "status": "completed"
    },
    "tags": []
   },
   "outputs": [
    {
     "data": {
      "application/javascript": [
       "parent.postMessage({\"jupyterEvent\": \"custom.exercise_interaction\", \"data\": {\"outcomeType\": 1, \"valueTowardsCompletion\": 0.2, \"interactionType\": 1, \"questionType\": 2, \"questionId\": \"1_SelectSecondItem\", \"learnToolsVersion\": \"0.3.4\", \"failureMessage\": \"\", \"exceptionClass\": \"\", \"trace\": \"\"}}, \"*\")"
      ],
      "text/plain": [
       "<IPython.core.display.Javascript object>"
      ]
     },
     "metadata": {},
     "output_type": "display_data"
    },
    {
     "data": {
      "text/markdown": [
       "<span style=\"color:#33cc33\">Correct</span>"
      ],
      "text/plain": [
       "Correct"
      ]
     },
     "metadata": {},
     "output_type": "display_data"
    }
   ],
   "source": [
    "def select_second(L):\n",
    "    \"\"\"Return the second element of the given list. If the list has no second\n",
    "    element, return None.\n",
    "    \"\"\"\n",
    "    if len(L)<2:\n",
    "        return None\n",
    "    else: \n",
    "        return L[1]\n",
    "\n",
    "# Check your answer\n",
    "q1.check()"
   ]
  },
  {
   "cell_type": "code",
   "execution_count": 3,
   "id": "f221edfc",
   "metadata": {
    "execution": {
     "iopub.execute_input": "2023-08-09T21:52:57.176927Z",
     "iopub.status.busy": "2023-08-09T21:52:57.175995Z",
     "iopub.status.idle": "2023-08-09T21:52:57.180123Z",
     "shell.execute_reply": "2023-08-09T21:52:57.179082Z"
    },
    "papermill": {
     "duration": 0.011379,
     "end_time": "2023-08-09T21:52:57.182108",
     "exception": false,
     "start_time": "2023-08-09T21:52:57.170729",
     "status": "completed"
    },
    "tags": []
   },
   "outputs": [],
   "source": [
    "#q1.hint()\n",
    "#q1.solution()"
   ]
  },
  {
   "cell_type": "markdown",
   "id": "c40ee9b3",
   "metadata": {
    "papermill": {
     "duration": 0.003906,
     "end_time": "2023-08-09T21:52:57.190519",
     "exception": false,
     "start_time": "2023-08-09T21:52:57.186613",
     "status": "completed"
    },
    "tags": []
   },
   "source": [
    "# 2.\n",
    "\n",
    "You are analyzing sports teams.  Members of each team are stored in a list. The Coach is the first name in the list, the captain is the second name in the list, and other players are listed after that. \n",
    "These lists are stored in another list, which starts with the best team and proceeds through the list to the worst team last.  Complete the function below to select the **captain** of the worst team."
   ]
  },
  {
   "cell_type": "code",
   "execution_count": 4,
   "id": "219f321a",
   "metadata": {
    "execution": {
     "iopub.execute_input": "2023-08-09T21:52:57.201440Z",
     "iopub.status.busy": "2023-08-09T21:52:57.200215Z",
     "iopub.status.idle": "2023-08-09T21:52:57.209888Z",
     "shell.execute_reply": "2023-08-09T21:52:57.208556Z"
    },
    "papermill": {
     "duration": 0.017348,
     "end_time": "2023-08-09T21:52:57.212070",
     "exception": false,
     "start_time": "2023-08-09T21:52:57.194722",
     "status": "completed"
    },
    "tags": []
   },
   "outputs": [
    {
     "data": {
      "application/javascript": [
       "parent.postMessage({\"jupyterEvent\": \"custom.exercise_interaction\", \"data\": {\"outcomeType\": 1, \"valueTowardsCompletion\": 0.2, \"interactionType\": 1, \"questionType\": 2, \"questionId\": \"2_LosingTeamCaptain\", \"learnToolsVersion\": \"0.3.4\", \"failureMessage\": \"\", \"exceptionClass\": \"\", \"trace\": \"\"}}, \"*\")"
      ],
      "text/plain": [
       "<IPython.core.display.Javascript object>"
      ]
     },
     "metadata": {},
     "output_type": "display_data"
    },
    {
     "data": {
      "text/markdown": [
       "<span style=\"color:#33cc33\">Correct</span>"
      ],
      "text/plain": [
       "Correct"
      ]
     },
     "metadata": {},
     "output_type": "display_data"
    }
   ],
   "source": [
    "def losing_team_captain(teams):\n",
    "    \"\"\"Given a list of teams, where each team is a list of names, return the 2nd player (captain)\n",
    "    from the last listed team\n",
    "    \"\"\"\n",
    "    return teams.pop()[1]\n",
    "\n",
    "# Check your answer\n",
    "q2.check()"
   ]
  },
  {
   "cell_type": "code",
   "execution_count": 5,
   "id": "8f212905",
   "metadata": {
    "collapsed": true,
    "execution": {
     "iopub.execute_input": "2023-08-09T21:52:57.223208Z",
     "iopub.status.busy": "2023-08-09T21:52:57.222638Z",
     "iopub.status.idle": "2023-08-09T21:52:57.225739Z",
     "shell.execute_reply": "2023-08-09T21:52:57.225157Z"
    },
    "jupyter": {
     "outputs_hidden": true
    },
    "papermill": {
     "duration": 0.01035,
     "end_time": "2023-08-09T21:52:57.227291",
     "exception": false,
     "start_time": "2023-08-09T21:52:57.216941",
     "status": "completed"
    },
    "tags": []
   },
   "outputs": [],
   "source": [
    "#q2.hint()\n",
    "#q2.solution()"
   ]
  },
  {
   "cell_type": "markdown",
   "id": "bbcac2bb",
   "metadata": {
    "papermill": {
     "duration": 0.004304,
     "end_time": "2023-08-09T21:52:57.238324",
     "exception": false,
     "start_time": "2023-08-09T21:52:57.234020",
     "status": "completed"
    },
    "tags": []
   },
   "source": [
    "# 3.\n",
    "\n",
    "The next iteration of Mario Kart will feature an extra-infuriating new item, the *Purple Shell*. When used, it warps the last place racer into first place and the first place racer into last place. Complete the function below to implement the Purple Shell's effect."
   ]
  },
  {
   "cell_type": "code",
   "execution_count": 6,
   "id": "2e6309bf",
   "metadata": {
    "execution": {
     "iopub.execute_input": "2023-08-09T21:52:57.249071Z",
     "iopub.status.busy": "2023-08-09T21:52:57.248747Z",
     "iopub.status.idle": "2023-08-09T21:52:57.256914Z",
     "shell.execute_reply": "2023-08-09T21:52:57.255809Z"
    },
    "papermill": {
     "duration": 0.016115,
     "end_time": "2023-08-09T21:52:57.258802",
     "exception": false,
     "start_time": "2023-08-09T21:52:57.242687",
     "status": "completed"
    },
    "tags": []
   },
   "outputs": [
    {
     "data": {
      "application/javascript": [
       "parent.postMessage({\"jupyterEvent\": \"custom.exercise_interaction\", \"data\": {\"outcomeType\": 1, \"valueTowardsCompletion\": 0.2, \"interactionType\": 1, \"questionType\": 2, \"questionId\": \"3_PurpleShell\", \"learnToolsVersion\": \"0.3.4\", \"failureMessage\": \"\", \"exceptionClass\": \"\", \"trace\": \"\"}}, \"*\")"
      ],
      "text/plain": [
       "<IPython.core.display.Javascript object>"
      ]
     },
     "metadata": {},
     "output_type": "display_data"
    },
    {
     "data": {
      "text/markdown": [
       "<span style=\"color:#33cc33\">Correct</span>"
      ],
      "text/plain": [
       "Correct"
      ]
     },
     "metadata": {},
     "output_type": "display_data"
    }
   ],
   "source": [
    "def purple_shell(racers):\n",
    "    \"\"\"Given a list of racers, set the first place racer (at the front of the list) to last\n",
    "    place and vice versa.\n",
    "    \n",
    "    >>> r = [\"Mario\", \"Bowser\", \"Luigi\"]\n",
    "    >>> purple_shell(r)\n",
    "    >>> r\n",
    "    [\"Luigi\", \"Bowser\", \"Mario\"]\n",
    "    \"\"\"\n",
    "    racers[0], racers[-1] = racers[-1], racers[0]\n",
    "\n",
    "# Check your answer\n",
    "q3.check()"
   ]
  },
  {
   "cell_type": "code",
   "execution_count": 7,
   "id": "c946cb0f",
   "metadata": {
    "execution": {
     "iopub.execute_input": "2023-08-09T21:52:57.270077Z",
     "iopub.status.busy": "2023-08-09T21:52:57.269735Z",
     "iopub.status.idle": "2023-08-09T21:52:57.278074Z",
     "shell.execute_reply": "2023-08-09T21:52:57.276518Z"
    },
    "papermill": {
     "duration": 0.016526,
     "end_time": "2023-08-09T21:52:57.280385",
     "exception": false,
     "start_time": "2023-08-09T21:52:57.263859",
     "status": "completed"
    },
    "tags": []
   },
   "outputs": [
    {
     "data": {
      "application/javascript": [
       "parent.postMessage({\"jupyterEvent\": \"custom.exercise_interaction\", \"data\": {\"interactionType\": 3, \"questionType\": 2, \"questionId\": \"3_PurpleShell\", \"learnToolsVersion\": \"0.3.4\", \"valueTowardsCompletion\": 0.0, \"failureMessage\": \"\", \"exceptionClass\": \"\", \"trace\": \"\", \"outcomeType\": 4}}, \"*\")"
      ],
      "text/plain": [
       "<IPython.core.display.Javascript object>"
      ]
     },
     "metadata": {},
     "output_type": "display_data"
    },
    {
     "data": {
      "text/markdown": [
       "<span style=\"color:#33cc99\">Solution:</span> \n",
       "```python\n",
       "def purple_shell(racers):\n",
       "    # One slick way to do the swap is x[0], x[-1] = x[-1], x[0].\n",
       "    temp = racers[0]\n",
       "    racers[0] = racers[-1]\n",
       "    racers[-1] = temp\n",
       "```"
      ],
      "text/plain": [
       "Solution: \n",
       "```python\n",
       "def purple_shell(racers):\n",
       "    # One slick way to do the swap is x[0], x[-1] = x[-1], x[0].\n",
       "    temp = racers[0]\n",
       "    racers[0] = racers[-1]\n",
       "    racers[-1] = temp\n",
       "```"
      ]
     },
     "metadata": {},
     "output_type": "display_data"
    }
   ],
   "source": [
    "#q3.hint()\n",
    "q3.solution()"
   ]
  },
  {
   "cell_type": "markdown",
   "id": "84436a84",
   "metadata": {
    "papermill": {
     "duration": 0.00476,
     "end_time": "2023-08-09T21:52:57.290698",
     "exception": false,
     "start_time": "2023-08-09T21:52:57.285938",
     "status": "completed"
    },
    "tags": []
   },
   "source": [
    "# 4.\n",
    "\n",
    "What are the lengths of the following lists? Fill in the variable `lengths` with your predictions. (Try to make a prediction for each list *without* just calling `len()` on it.)"
   ]
  },
  {
   "cell_type": "code",
   "execution_count": 8,
   "id": "91f3b18b",
   "metadata": {
    "execution": {
     "iopub.execute_input": "2023-08-09T21:52:57.302034Z",
     "iopub.status.busy": "2023-08-09T21:52:57.301701Z",
     "iopub.status.idle": "2023-08-09T21:52:57.310048Z",
     "shell.execute_reply": "2023-08-09T21:52:57.309213Z"
    },
    "papermill": {
     "duration": 0.016232,
     "end_time": "2023-08-09T21:52:57.311755",
     "exception": false,
     "start_time": "2023-08-09T21:52:57.295523",
     "status": "completed"
    },
    "tags": []
   },
   "outputs": [
    {
     "data": {
      "application/javascript": [
       "parent.postMessage({\"jupyterEvent\": \"custom.exercise_interaction\", \"data\": {\"outcomeType\": 1, \"valueTowardsCompletion\": 0.2, \"interactionType\": 1, \"questionType\": 1, \"questionId\": \"4_UnderstandLen\", \"learnToolsVersion\": \"0.3.4\", \"failureMessage\": \"\", \"exceptionClass\": \"\", \"trace\": \"\"}}, \"*\")"
      ],
      "text/plain": [
       "<IPython.core.display.Javascript object>"
      ]
     },
     "metadata": {},
     "output_type": "display_data"
    },
    {
     "data": {
      "text/markdown": [
       "<span style=\"color:#33cc33\">Correct:</span> \n",
       "\n",
       "\n",
       "- a: There are three items in this list. Nothing tricky yet.\n",
       "- b: The list `[2, 3]` counts as a single item. It has one item before it. So we have 2 items in the list\n",
       "- c: The empty list has 0 items\n",
       "- d: The expression is the same as the list `[2, 3]`, which has length 2."
      ],
      "text/plain": [
       "Correct: \n",
       "\n",
       "\n",
       "- a: There are three items in this list. Nothing tricky yet.\n",
       "- b: The list `[2, 3]` counts as a single item. It has one item before it. So we have 2 items in the list\n",
       "- c: The empty list has 0 items\n",
       "- d: The expression is the same as the list `[2, 3]`, which has length 2."
      ]
     },
     "metadata": {},
     "output_type": "display_data"
    }
   ],
   "source": [
    "a = [1, 2, 3] # length=3\n",
    "b = [1, [2, 3]] # length=2\n",
    "c = [] # length=0\n",
    "d = [1, 2, 3][1:] # length=2\n",
    "\n",
    "# Put your predictions in the list below. Lengths should contain 4 numbers, the\n",
    "# first being the length of a, the second being the length of b and so on.\n",
    "lengths = [3,2,0,2]\n",
    "\n",
    "# Check your answer\n",
    "q4.check()"
   ]
  },
  {
   "cell_type": "code",
   "execution_count": 9,
   "id": "54e6a01b",
   "metadata": {
    "collapsed": true,
    "execution": {
     "iopub.execute_input": "2023-08-09T21:52:57.324330Z",
     "iopub.status.busy": "2023-08-09T21:52:57.323660Z",
     "iopub.status.idle": "2023-08-09T21:52:57.327491Z",
     "shell.execute_reply": "2023-08-09T21:52:57.326772Z"
    },
    "jupyter": {
     "outputs_hidden": true
    },
    "papermill": {
     "duration": 0.012376,
     "end_time": "2023-08-09T21:52:57.329336",
     "exception": false,
     "start_time": "2023-08-09T21:52:57.316960",
     "status": "completed"
    },
    "tags": []
   },
   "outputs": [],
   "source": [
    "# line below provides some explanation\n",
    "#q4.solution()"
   ]
  },
  {
   "cell_type": "markdown",
   "id": "d82cc730",
   "metadata": {
    "papermill": {
     "duration": 0.004899,
     "end_time": "2023-08-09T21:52:57.339600",
     "exception": false,
     "start_time": "2023-08-09T21:52:57.334701",
     "status": "completed"
    },
    "tags": []
   },
   "source": [
    "# 5. <span title=\"A bit spicy\" style=\"color: darkgreen \">🌶️</span>\n",
    "\n",
    "We're using lists to record people who attended our party and what order they arrived in. For example, the following list represents a party with 7 guests, in which Adela showed up first and Ford was the last to arrive:\n",
    "\n",
    "    party_attendees = ['Adela', 'Fleda', 'Owen', 'May', 'Mona', 'Gilbert', 'Ford']\n",
    "\n",
    "A guest is considered 'fashionably late' if they arrived after at least half of the party's guests. However, they must not be the very last guest (that's taking it too far). In the above example, Mona and Gilbert are the only guests who were fashionably late.\n",
    "\n",
    "Complete the function below which takes a list of party attendees as well as a person, and tells us whether that person is fashionably late."
   ]
  },
  {
   "cell_type": "code",
   "execution_count": 10,
   "id": "6845c184",
   "metadata": {
    "execution": {
     "iopub.execute_input": "2023-08-09T21:52:57.351604Z",
     "iopub.status.busy": "2023-08-09T21:52:57.351272Z",
     "iopub.status.idle": "2023-08-09T21:52:57.360863Z",
     "shell.execute_reply": "2023-08-09T21:52:57.359187Z"
    },
    "papermill": {
     "duration": 0.018387,
     "end_time": "2023-08-09T21:52:57.363115",
     "exception": false,
     "start_time": "2023-08-09T21:52:57.344728",
     "status": "completed"
    },
    "tags": []
   },
   "outputs": [
    {
     "data": {
      "application/javascript": [
       "parent.postMessage({\"jupyterEvent\": \"custom.exercise_interaction\", \"data\": {\"outcomeType\": 1, \"valueTowardsCompletion\": 0.2, \"interactionType\": 1, \"questionType\": 2, \"questionId\": \"5_FashionablyLate\", \"learnToolsVersion\": \"0.3.4\", \"failureMessage\": \"\", \"exceptionClass\": \"\", \"trace\": \"\"}}, \"*\")"
      ],
      "text/plain": [
       "<IPython.core.display.Javascript object>"
      ]
     },
     "metadata": {},
     "output_type": "display_data"
    },
    {
     "data": {
      "text/markdown": [
       "<span style=\"color:#33cc33\">Correct</span>"
      ],
      "text/plain": [
       "Correct"
      ]
     },
     "metadata": {},
     "output_type": "display_data"
    }
   ],
   "source": [
    "def fashionably_late(arrivals, name):\n",
    "    \"\"\"Given an ordered list of arrivals to the party and a name, return whether the guest with that\n",
    "    name was fashionably late.\n",
    "    \"\"\"\n",
    "    list = arrivals[round(len(arrivals)/2):-1]\n",
    "    return name in list\n",
    "\n",
    "# Check your answer\n",
    "q5.check()"
   ]
  },
  {
   "cell_type": "code",
   "execution_count": 11,
   "id": "d4fc9d07",
   "metadata": {
    "execution": {
     "iopub.execute_input": "2023-08-09T21:52:57.376024Z",
     "iopub.status.busy": "2023-08-09T21:52:57.375704Z",
     "iopub.status.idle": "2023-08-09T21:52:57.383376Z",
     "shell.execute_reply": "2023-08-09T21:52:57.382664Z"
    },
    "papermill": {
     "duration": 0.016202,
     "end_time": "2023-08-09T21:52:57.385145",
     "exception": false,
     "start_time": "2023-08-09T21:52:57.368943",
     "status": "completed"
    },
    "tags": []
   },
   "outputs": [
    {
     "data": {
      "application/javascript": [
       "parent.postMessage({\"jupyterEvent\": \"custom.exercise_interaction\", \"data\": {\"interactionType\": 3, \"questionType\": 2, \"questionId\": \"5_FashionablyLate\", \"learnToolsVersion\": \"0.3.4\", \"valueTowardsCompletion\": 0.0, \"failureMessage\": \"\", \"exceptionClass\": \"\", \"trace\": \"\", \"outcomeType\": 4}}, \"*\")"
      ],
      "text/plain": [
       "<IPython.core.display.Javascript object>"
      ]
     },
     "metadata": {},
     "output_type": "display_data"
    },
    {
     "data": {
      "text/markdown": [
       "<span style=\"color:#33cc99\">Solution:</span> \n",
       "```python\n",
       "def fashionably_late(arrivals, name):\n",
       "    order = arrivals.index(name)\n",
       "    return order >= len(arrivals) / 2 and order != len(arrivals) - 1\n",
       "```"
      ],
      "text/plain": [
       "Solution: \n",
       "```python\n",
       "def fashionably_late(arrivals, name):\n",
       "    order = arrivals.index(name)\n",
       "    return order >= len(arrivals) / 2 and order != len(arrivals) - 1\n",
       "```"
      ]
     },
     "metadata": {},
     "output_type": "display_data"
    }
   ],
   "source": [
    "#q5.hint()\n",
    "q5.solution()"
   ]
  },
  {
   "cell_type": "markdown",
   "id": "cf1619a4",
   "metadata": {
    "papermill": {
     "duration": 0.006057,
     "end_time": "2023-08-09T21:52:57.396936",
     "exception": false,
     "start_time": "2023-08-09T21:52:57.390879",
     "status": "completed"
    },
    "tags": []
   },
   "source": [
    "# Keep Going\n",
    "\n",
    "That's it for lists and tuples! Now you have the baseline knowledge to **[learn about loops](https://www.kaggle.com/colinmorris/loops-and-list-comprehensions)**, which is where lists and tuples get really interesting. "
   ]
  },
  {
   "cell_type": "markdown",
   "id": "3c686acd",
   "metadata": {
    "papermill": {
     "duration": 0.005787,
     "end_time": "2023-08-09T21:52:57.408963",
     "exception": false,
     "start_time": "2023-08-09T21:52:57.403176",
     "status": "completed"
    },
    "tags": []
   },
   "source": [
    "---\n",
    "\n",
    "\n",
    "\n",
    "\n",
    "*Have questions or comments? Visit the [course discussion forum](https://www.kaggle.com/learn/python/discussion) to chat with other learners.*"
   ]
  }
 ],
 "metadata": {
  "kernelspec": {
   "display_name": "Python 3",
   "language": "python",
   "name": "python3"
  },
  "language_info": {
   "codemirror_mode": {
    "name": "ipython",
    "version": 3
   },
   "file_extension": ".py",
   "mimetype": "text/x-python",
   "name": "python",
   "nbconvert_exporter": "python",
   "pygments_lexer": "ipython3",
   "version": "3.10.12"
  },
  "papermill": {
   "default_parameters": {},
   "duration": 9.277419,
   "end_time": "2023-08-09T21:52:58.234428",
   "environment_variables": {},
   "exception": null,
   "input_path": "__notebook__.ipynb",
   "output_path": "__notebook__.ipynb",
   "parameters": {},
   "start_time": "2023-08-09T21:52:48.957009",
   "version": "2.4.0"
  }
 },
 "nbformat": 4,
 "nbformat_minor": 5
}
