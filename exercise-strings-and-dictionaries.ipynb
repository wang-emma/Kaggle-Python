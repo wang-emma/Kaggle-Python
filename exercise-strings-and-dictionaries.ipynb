{
 "cells": [
  {
   "cell_type": "markdown",
   "id": "73128347",
   "metadata": {
    "papermill": {
     "duration": 0.009844,
     "end_time": "2023-08-09T21:54:21.742305",
     "exception": false,
     "start_time": "2023-08-09T21:54:21.732461",
     "status": "completed"
    },
    "tags": []
   },
   "source": [
    "**This notebook is an exercise in the [Python](https://www.kaggle.com/learn/python) course.  You can reference the tutorial at [this link](https://www.kaggle.com/colinmorris/strings-and-dictionaries).**\n",
    "\n",
    "---\n"
   ]
  },
  {
   "cell_type": "markdown",
   "id": "648dd14b",
   "metadata": {
    "papermill": {
     "duration": 0.008112,
     "end_time": "2023-08-09T21:54:21.759175",
     "exception": false,
     "start_time": "2023-08-09T21:54:21.751063",
     "status": "completed"
    },
    "tags": []
   },
   "source": [
    "You are almost done with the course. Nice job!\n",
    "\n",
    "We have a couple more interesting problems for you before you go. \n",
    "\n",
    "As always, run the setup code below before working on the questions."
   ]
  },
  {
   "cell_type": "code",
   "execution_count": 1,
   "id": "ae7d8206",
   "metadata": {
    "execution": {
     "iopub.execute_input": "2023-08-09T21:54:21.779397Z",
     "iopub.status.busy": "2023-08-09T21:54:21.778306Z",
     "iopub.status.idle": "2023-08-09T21:54:21.845087Z",
     "shell.execute_reply": "2023-08-09T21:54:21.842642Z"
    },
    "papermill": {
     "duration": 0.080869,
     "end_time": "2023-08-09T21:54:21.848496",
     "exception": false,
     "start_time": "2023-08-09T21:54:21.767627",
     "status": "completed"
    },
    "tags": []
   },
   "outputs": [
    {
     "name": "stdout",
     "output_type": "stream",
     "text": [
      "Setup complete.\n"
     ]
    }
   ],
   "source": [
    "from learntools.core import binder; binder.bind(globals())\n",
    "from learntools.python.ex6 import *\n",
    "print('Setup complete.')"
   ]
  },
  {
   "cell_type": "markdown",
   "id": "6f9d09ca",
   "metadata": {
    "papermill": {
     "duration": 0.008237,
     "end_time": "2023-08-09T21:54:21.865840",
     "exception": false,
     "start_time": "2023-08-09T21:54:21.857603",
     "status": "completed"
    },
    "tags": []
   },
   "source": [
    "Let's start with a string lightning round to warm up. What are the lengths of the strings below?\n",
    "\n",
    "For each of the five strings below, predict what `len()` would return when passed that string. Use the variable `length` to record your answer, then run the cell to check whether you were right.  \n",
    "\n",
    "# 0a."
   ]
  },
  {
   "cell_type": "code",
   "execution_count": 2,
   "id": "2b39d6df",
   "metadata": {
    "execution": {
     "iopub.execute_input": "2023-08-09T21:54:21.885476Z",
     "iopub.status.busy": "2023-08-09T21:54:21.884367Z",
     "iopub.status.idle": "2023-08-09T21:54:21.894404Z",
     "shell.execute_reply": "2023-08-09T21:54:21.893598Z"
    },
    "papermill": {
     "duration": 0.022522,
     "end_time": "2023-08-09T21:54:21.896823",
     "exception": false,
     "start_time": "2023-08-09T21:54:21.874301",
     "status": "completed"
    },
    "tags": []
   },
   "outputs": [
    {
     "data": {
      "application/javascript": [
       "parent.postMessage({\"jupyterEvent\": \"custom.exercise_interaction\", \"data\": {\"outcomeType\": 1, \"valueTowardsCompletion\": 0.3333333333333333, \"interactionType\": 1, \"questionType\": 1, \"questionId\": \"0.1_ZA\", \"learnToolsVersion\": \"0.3.4\", \"failureMessage\": \"\", \"exceptionClass\": \"\", \"trace\": \"\"}}, \"*\")"
      ],
      "text/plain": [
       "<IPython.core.display.Javascript object>"
      ]
     },
     "metadata": {},
     "output_type": "display_data"
    },
    {
     "data": {
      "text/markdown": [
       "<span style=\"color:#33cc33\">Correct:</span> \n",
       "\n",
       "The empty string has length zero. Note that the empty string is also the only string that Python considers as False when converting to boolean."
      ],
      "text/plain": [
       "Correct: \n",
       "\n",
       "The empty string has length zero. Note that the empty string is also the only string that Python considers as False when converting to boolean."
      ]
     },
     "metadata": {},
     "output_type": "display_data"
    }
   ],
   "source": [
    "a = \"\"\n",
    "length = 0\n",
    "q0.a.check()"
   ]
  },
  {
   "cell_type": "markdown",
   "id": "791cdb7f",
   "metadata": {
    "papermill": {
     "duration": 0.008548,
     "end_time": "2023-08-09T21:54:21.914332",
     "exception": false,
     "start_time": "2023-08-09T21:54:21.905784",
     "status": "completed"
    },
    "tags": []
   },
   "source": [
    "# 0b."
   ]
  },
  {
   "cell_type": "code",
   "execution_count": 3,
   "id": "ab874b9c",
   "metadata": {
    "execution": {
     "iopub.execute_input": "2023-08-09T21:54:21.936124Z",
     "iopub.status.busy": "2023-08-09T21:54:21.935406Z",
     "iopub.status.idle": "2023-08-09T21:54:21.943920Z",
     "shell.execute_reply": "2023-08-09T21:54:21.942631Z"
    },
    "papermill": {
     "duration": 0.022474,
     "end_time": "2023-08-09T21:54:21.946578",
     "exception": false,
     "start_time": "2023-08-09T21:54:21.924104",
     "status": "completed"
    },
    "tags": []
   },
   "outputs": [
    {
     "data": {
      "application/javascript": [
       "parent.postMessage({\"jupyterEvent\": \"custom.exercise_interaction\", \"data\": {\"outcomeType\": 1, \"valueTowardsCompletion\": 0.3333333333333333, \"interactionType\": 1, \"questionType\": 1, \"questionId\": \"0.2_ZB\", \"learnToolsVersion\": \"0.3.4\", \"failureMessage\": \"\", \"exceptionClass\": \"\", \"trace\": \"\"}}, \"*\")"
      ],
      "text/plain": [
       "<IPython.core.display.Javascript object>"
      ]
     },
     "metadata": {},
     "output_type": "display_data"
    },
    {
     "data": {
      "text/markdown": [
       "<span style=\"color:#33cc33\">Correct:</span> \n",
       "\n",
       "Keep in mind Python includes spaces (and punctuation) when counting string length."
      ],
      "text/plain": [
       "Correct: \n",
       "\n",
       "Keep in mind Python includes spaces (and punctuation) when counting string length."
      ]
     },
     "metadata": {},
     "output_type": "display_data"
    }
   ],
   "source": [
    "b = \"it's ok\"\n",
    "length = 7\n",
    "q0.b.check()"
   ]
  },
  {
   "cell_type": "markdown",
   "id": "c1beb823",
   "metadata": {
    "papermill": {
     "duration": 0.010741,
     "end_time": "2023-08-09T21:54:21.967041",
     "exception": false,
     "start_time": "2023-08-09T21:54:21.956300",
     "status": "completed"
    },
    "tags": []
   },
   "source": [
    "# 0c."
   ]
  },
  {
   "cell_type": "code",
   "execution_count": 4,
   "id": "eb2ec6f8",
   "metadata": {
    "execution": {
     "iopub.execute_input": "2023-08-09T21:54:21.987386Z",
     "iopub.status.busy": "2023-08-09T21:54:21.986950Z",
     "iopub.status.idle": "2023-08-09T21:54:21.996948Z",
     "shell.execute_reply": "2023-08-09T21:54:21.995459Z"
    },
    "papermill": {
     "duration": 0.023266,
     "end_time": "2023-08-09T21:54:21.999516",
     "exception": false,
     "start_time": "2023-08-09T21:54:21.976250",
     "status": "completed"
    },
    "tags": []
   },
   "outputs": [
    {
     "data": {
      "application/javascript": [
       "parent.postMessage({\"jupyterEvent\": \"custom.exercise_interaction\", \"data\": {\"outcomeType\": 1, \"valueTowardsCompletion\": 0.3333333333333333, \"interactionType\": 1, \"questionType\": 1, \"questionId\": \"0.3_ZC\", \"learnToolsVersion\": \"0.3.4\", \"failureMessage\": \"\", \"exceptionClass\": \"\", \"trace\": \"\"}}, \"*\")"
      ],
      "text/plain": [
       "<IPython.core.display.Javascript object>"
      ]
     },
     "metadata": {},
     "output_type": "display_data"
    },
    {
     "data": {
      "text/markdown": [
       "<span style=\"color:#33cc33\">Correct:</span> \n",
       "\n",
       "Even though we use different syntax to create it, the string `c` is identical to `b`. In particular, note that the backslash is not part of the string, so it doesn't contribute to its length."
      ],
      "text/plain": [
       "Correct: \n",
       "\n",
       "Even though we use different syntax to create it, the string `c` is identical to `b`. In particular, note that the backslash is not part of the string, so it doesn't contribute to its length."
      ]
     },
     "metadata": {},
     "output_type": "display_data"
    }
   ],
   "source": [
    "c = 'it\\'s ok'\n",
    "length = 7\n",
    "q0.c.check()"
   ]
  },
  {
   "cell_type": "markdown",
   "id": "9ac82bb6",
   "metadata": {
    "papermill": {
     "duration": 0.009372,
     "end_time": "2023-08-09T21:54:22.018720",
     "exception": false,
     "start_time": "2023-08-09T21:54:22.009348",
     "status": "completed"
    },
    "tags": []
   },
   "source": [
    "# 0d."
   ]
  },
  {
   "cell_type": "code",
   "execution_count": 5,
   "id": "e0e950d7",
   "metadata": {
    "execution": {
     "iopub.execute_input": "2023-08-09T21:54:22.041187Z",
     "iopub.status.busy": "2023-08-09T21:54:22.039981Z",
     "iopub.status.idle": "2023-08-09T21:54:22.050716Z",
     "shell.execute_reply": "2023-08-09T21:54:22.049503Z"
    },
    "papermill": {
     "duration": 0.024252,
     "end_time": "2023-08-09T21:54:22.053167",
     "exception": false,
     "start_time": "2023-08-09T21:54:22.028915",
     "status": "completed"
    },
    "tags": []
   },
   "outputs": [
    {
     "data": {
      "application/javascript": [
       "parent.postMessage({\"jupyterEvent\": \"custom.exercise_interaction\", \"data\": {\"outcomeType\": 1, \"valueTowardsCompletion\": 0.3333333333333333, \"interactionType\": 1, \"questionType\": 1, \"questionId\": \"0.4_ZD\", \"learnToolsVersion\": \"0.3.4\", \"failureMessage\": \"\", \"exceptionClass\": \"\", \"trace\": \"\"}}, \"*\")"
      ],
      "text/plain": [
       "<IPython.core.display.Javascript object>"
      ]
     },
     "metadata": {},
     "output_type": "display_data"
    },
    {
     "data": {
      "text/markdown": [
       "<span style=\"color:#33cc33\">Correct:</span> \n",
       "\n",
       "The fact that this string was created using triple-quote syntax doesn't make any difference in terms of its content or length. This string is exactly the same as `'hey'`."
      ],
      "text/plain": [
       "Correct: \n",
       "\n",
       "The fact that this string was created using triple-quote syntax doesn't make any difference in terms of its content or length. This string is exactly the same as `'hey'`."
      ]
     },
     "metadata": {},
     "output_type": "display_data"
    }
   ],
   "source": [
    "d = \"\"\"hey\"\"\"\n",
    "length = 3\n",
    "q0.d.check()"
   ]
  },
  {
   "cell_type": "markdown",
   "id": "487fbddf",
   "metadata": {
    "papermill": {
     "duration": 0.009186,
     "end_time": "2023-08-09T21:54:22.072175",
     "exception": false,
     "start_time": "2023-08-09T21:54:22.062989",
     "status": "completed"
    },
    "tags": []
   },
   "source": [
    "# 0e."
   ]
  },
  {
   "cell_type": "code",
   "execution_count": 6,
   "id": "be1cc9d4",
   "metadata": {
    "execution": {
     "iopub.execute_input": "2023-08-09T21:54:22.093706Z",
     "iopub.status.busy": "2023-08-09T21:54:22.093040Z",
     "iopub.status.idle": "2023-08-09T21:54:22.102182Z",
     "shell.execute_reply": "2023-08-09T21:54:22.101109Z"
    },
    "papermill": {
     "duration": 0.02275,
     "end_time": "2023-08-09T21:54:22.104468",
     "exception": false,
     "start_time": "2023-08-09T21:54:22.081718",
     "status": "completed"
    },
    "tags": []
   },
   "outputs": [
    {
     "data": {
      "application/javascript": [
       "parent.postMessage({\"jupyterEvent\": \"custom.exercise_interaction\", \"data\": {\"outcomeType\": 1, \"valueTowardsCompletion\": 0.3333333333333333, \"interactionType\": 1, \"questionType\": 1, \"questionId\": \"0.5_ZE\", \"learnToolsVersion\": \"0.3.4\", \"failureMessage\": \"\", \"exceptionClass\": \"\", \"trace\": \"\"}}, \"*\")"
      ],
      "text/plain": [
       "<IPython.core.display.Javascript object>"
      ]
     },
     "metadata": {},
     "output_type": "display_data"
    },
    {
     "data": {
      "text/markdown": [
       "<span style=\"color:#33cc33\">Correct:</span> \n",
       "\n",
       "The newline character is just a single character! (Even though we represent it to Python using a combination of two characters.)"
      ],
      "text/plain": [
       "Correct: \n",
       "\n",
       "The newline character is just a single character! (Even though we represent it to Python using a combination of two characters.)"
      ]
     },
     "metadata": {},
     "output_type": "display_data"
    }
   ],
   "source": [
    "e = '\\n'\n",
    "length = 1\n",
    "q0.e.check()"
   ]
  },
  {
   "cell_type": "markdown",
   "id": "09f75c51",
   "metadata": {
    "papermill": {
     "duration": 0.009544,
     "end_time": "2023-08-09T21:54:22.124001",
     "exception": false,
     "start_time": "2023-08-09T21:54:22.114457",
     "status": "completed"
    },
    "tags": []
   },
   "source": [
    "# 1.\n",
    "\n",
    "There is a saying that \"Data scientists spend 80% of their time cleaning data, and 20% of their time complaining about cleaning data.\" Let's see if you can write a function to help clean US zip code data. Given a string, it should return whether or not that string represents a valid zip code. For our purposes, a valid zip code is any string consisting of exactly 5 digits.\n",
    "\n",
    "HINT: `str` has a method that will be useful here. Use `help(str)` to review a list of string methods."
   ]
  },
  {
   "cell_type": "code",
   "execution_count": 7,
   "id": "534a0fe2",
   "metadata": {
    "execution": {
     "iopub.execute_input": "2023-08-09T21:54:22.145960Z",
     "iopub.status.busy": "2023-08-09T21:54:22.145294Z",
     "iopub.status.idle": "2023-08-09T21:54:22.156915Z",
     "shell.execute_reply": "2023-08-09T21:54:22.155472Z"
    },
    "papermill": {
     "duration": 0.026046,
     "end_time": "2023-08-09T21:54:22.159908",
     "exception": false,
     "start_time": "2023-08-09T21:54:22.133862",
     "status": "completed"
    },
    "tags": []
   },
   "outputs": [
    {
     "data": {
      "application/javascript": [
       "parent.postMessage({\"jupyterEvent\": \"custom.exercise_interaction\", \"data\": {\"outcomeType\": 1, \"valueTowardsCompletion\": 0.3333333333333333, \"interactionType\": 1, \"questionType\": 2, \"questionId\": \"1_ZipValidator\", \"learnToolsVersion\": \"0.3.4\", \"failureMessage\": \"\", \"exceptionClass\": \"\", \"trace\": \"\"}}, \"*\")"
      ],
      "text/plain": [
       "<IPython.core.display.Javascript object>"
      ]
     },
     "metadata": {},
     "output_type": "display_data"
    },
    {
     "data": {
      "text/markdown": [
       "<span style=\"color:#33cc33\">Correct</span>"
      ],
      "text/plain": [
       "Correct"
      ]
     },
     "metadata": {},
     "output_type": "display_data"
    }
   ],
   "source": [
    "def is_valid_zip(zip_code):\n",
    "    \"\"\"Returns whether the input string is a valid (5 digit) zip code\n",
    "    \"\"\"\n",
    "    return len(zip_code) == 5 and zip_code.isdigit()\n",
    "# Check your answer\n",
    "q1.check()"
   ]
  },
  {
   "cell_type": "code",
   "execution_count": 8,
   "id": "914f33fa",
   "metadata": {
    "execution": {
     "iopub.execute_input": "2023-08-09T21:54:22.182877Z",
     "iopub.status.busy": "2023-08-09T21:54:22.182075Z",
     "iopub.status.idle": "2023-08-09T21:54:22.189827Z",
     "shell.execute_reply": "2023-08-09T21:54:22.188597Z"
    },
    "papermill": {
     "duration": 0.021975,
     "end_time": "2023-08-09T21:54:22.192280",
     "exception": false,
     "start_time": "2023-08-09T21:54:22.170305",
     "status": "completed"
    },
    "tags": []
   },
   "outputs": [
    {
     "data": {
      "text/plain": [
       "False"
      ]
     },
     "execution_count": 8,
     "metadata": {},
     "output_type": "execute_result"
    }
   ],
   "source": [
    "zip='12345'\n",
    "zip[1] in str(range(10))"
   ]
  },
  {
   "cell_type": "code",
   "execution_count": 9,
   "id": "f3a6acfc",
   "metadata": {
    "execution": {
     "iopub.execute_input": "2023-08-09T21:54:22.216445Z",
     "iopub.status.busy": "2023-08-09T21:54:22.215675Z",
     "iopub.status.idle": "2023-08-09T21:54:22.225602Z",
     "shell.execute_reply": "2023-08-09T21:54:22.224118Z"
    },
    "papermill": {
     "duration": 0.025545,
     "end_time": "2023-08-09T21:54:22.228242",
     "exception": false,
     "start_time": "2023-08-09T21:54:22.202697",
     "status": "completed"
    },
    "tags": []
   },
   "outputs": [
    {
     "data": {
      "application/javascript": [
       "parent.postMessage({\"jupyterEvent\": \"custom.exercise_interaction\", \"data\": {\"interactionType\": 3, \"questionType\": 2, \"questionId\": \"1_ZipValidator\", \"learnToolsVersion\": \"0.3.4\", \"valueTowardsCompletion\": 0.0, \"failureMessage\": \"\", \"exceptionClass\": \"\", \"trace\": \"\", \"outcomeType\": 4}}, \"*\")"
      ],
      "text/plain": [
       "<IPython.core.display.Javascript object>"
      ]
     },
     "metadata": {},
     "output_type": "display_data"
    },
    {
     "data": {
      "text/markdown": [
       "<span style=\"color:#33cc99\">Solution:</span> \n",
       "```python\n",
       "def is_valid_zip(zip_code):\n",
       "    return len(zip_code) == 5 and zip_code.isdigit()\n",
       "```"
      ],
      "text/plain": [
       "Solution: \n",
       "```python\n",
       "def is_valid_zip(zip_code):\n",
       "    return len(zip_code) == 5 and zip_code.isdigit()\n",
       "```"
      ]
     },
     "metadata": {},
     "output_type": "display_data"
    }
   ],
   "source": [
    "#q1.hint()\n",
    "q1.solution()"
   ]
  },
  {
   "cell_type": "markdown",
   "id": "30c0841b",
   "metadata": {
    "papermill": {
     "duration": 0.010425,
     "end_time": "2023-08-09T21:54:22.249463",
     "exception": false,
     "start_time": "2023-08-09T21:54:22.239038",
     "status": "completed"
    },
    "tags": []
   },
   "source": [
    "# 2.\n",
    "\n",
    "A researcher has gathered thousands of news articles. But she wants to focus her attention on articles including a specific word. Complete the function below to help her filter her list of articles.\n",
    "\n",
    "Your function should meet the following criteria:\n",
    "\n",
    "- Do not include documents where the keyword string shows up only as a part of a larger word. For example, if she were looking for the keyword “closed”, you would not include the string “enclosed.” \n",
    "- She does not want you to distinguish upper case from lower case letters. So the phrase “Closed the case.” would be included when the keyword is “closed”\n",
    "- Do not let periods or commas affect what is matched. “It is closed.” would be included when the keyword is “closed”. But you can assume there are no other types of punctuation."
   ]
  },
  {
   "cell_type": "code",
   "execution_count": 10,
   "id": "9ccfd035",
   "metadata": {
    "execution": {
     "iopub.execute_input": "2023-08-09T21:54:22.273038Z",
     "iopub.status.busy": "2023-08-09T21:54:22.272662Z",
     "iopub.status.idle": "2023-08-09T21:54:22.280596Z",
     "shell.execute_reply": "2023-08-09T21:54:22.279182Z"
    },
    "papermill": {
     "duration": 0.02282,
     "end_time": "2023-08-09T21:54:22.283109",
     "exception": false,
     "start_time": "2023-08-09T21:54:22.260289",
     "status": "completed"
    },
    "tags": []
   },
   "outputs": [
    {
     "data": {
      "text/plain": [
       "['the', 'learn', 'python', 'challenge', 'casino']"
      ]
     },
     "execution_count": 10,
     "metadata": {},
     "output_type": "execute_result"
    }
   ],
   "source": [
    "split_list = \"The Learn Python Challenge Casino.\".rstrip(\".,\").lower().split()\n",
    "split_list"
   ]
  },
  {
   "cell_type": "code",
   "execution_count": 11,
   "id": "94e9c816",
   "metadata": {
    "execution": {
     "iopub.execute_input": "2023-08-09T21:54:22.306576Z",
     "iopub.status.busy": "2023-08-09T21:54:22.306169Z",
     "iopub.status.idle": "2023-08-09T21:54:22.319644Z",
     "shell.execute_reply": "2023-08-09T21:54:22.318335Z"
    },
    "papermill": {
     "duration": 0.02849,
     "end_time": "2023-08-09T21:54:22.322332",
     "exception": false,
     "start_time": "2023-08-09T21:54:22.293842",
     "status": "completed"
    },
    "tags": []
   },
   "outputs": [
    {
     "data": {
      "application/javascript": [
       "parent.postMessage({\"jupyterEvent\": \"custom.exercise_interaction\", \"data\": {\"outcomeType\": 1, \"valueTowardsCompletion\": 0.3333333333333333, \"interactionType\": 1, \"questionType\": 2, \"questionId\": \"2_WordSearch\", \"learnToolsVersion\": \"0.3.4\", \"failureMessage\": \"\", \"exceptionClass\": \"\", \"trace\": \"\"}}, \"*\")"
      ],
      "text/plain": [
       "<IPython.core.display.Javascript object>"
      ]
     },
     "metadata": {},
     "output_type": "display_data"
    },
    {
     "data": {
      "text/markdown": [
       "<span style=\"color:#33cc33\">Correct</span>"
      ],
      "text/plain": [
       "Correct"
      ]
     },
     "metadata": {},
     "output_type": "display_data"
    }
   ],
   "source": [
    "def word_search(doc_list, keyword):\n",
    "    # list to hold the indices of matching documents\n",
    "    indices = [] \n",
    "    # Iterate through the indices (i) and elements (doc) of documents\n",
    "    for i, doc in enumerate(doc_list):\n",
    "        # Split the string doc into a list of words (according to whitespace)\n",
    "        tokens = doc.split()\n",
    "        # Make a transformed list where we 'normalize' each word to facilitate matching.\n",
    "        # Periods and commas are removed from the end of each word, and it's set to all lowercase.\n",
    "        normalized = [token.rstrip('.,').lower() for token in tokens]\n",
    "        # Is there a match? If so, update the list of matching indices.\n",
    "        if keyword.lower() in normalized:\n",
    "            indices.append(i)\n",
    "    return indices\n",
    "\n",
    "q2.check()"
   ]
  },
  {
   "cell_type": "code",
   "execution_count": 12,
   "id": "ade9e3f3",
   "metadata": {
    "execution": {
     "iopub.execute_input": "2023-08-09T21:54:22.347345Z",
     "iopub.status.busy": "2023-08-09T21:54:22.346894Z",
     "iopub.status.idle": "2023-08-09T21:54:22.357597Z",
     "shell.execute_reply": "2023-08-09T21:54:22.356137Z"
    },
    "papermill": {
     "duration": 0.026191,
     "end_time": "2023-08-09T21:54:22.359880",
     "exception": false,
     "start_time": "2023-08-09T21:54:22.333689",
     "status": "completed"
    },
    "tags": []
   },
   "outputs": [
    {
     "data": {
      "application/javascript": [
       "parent.postMessage({\"jupyterEvent\": \"custom.exercise_interaction\", \"data\": {\"interactionType\": 3, \"questionType\": 2, \"questionId\": \"2_WordSearch\", \"learnToolsVersion\": \"0.3.4\", \"valueTowardsCompletion\": 0.0, \"failureMessage\": \"\", \"exceptionClass\": \"\", \"trace\": \"\", \"outcomeType\": 4}}, \"*\")"
      ],
      "text/plain": [
       "<IPython.core.display.Javascript object>"
      ]
     },
     "metadata": {},
     "output_type": "display_data"
    },
    {
     "data": {
      "text/markdown": [
       "<span style=\"color:#33cc99\">Solution:</span> \n",
       "```python\n",
       "def word_search(doc_list, keyword):\n",
       "    # list to hold the indices of matching documents\n",
       "    indices = [] \n",
       "    # Iterate through the indices (i) and elements (doc) of documents\n",
       "    for i, doc in enumerate(doc_list):\n",
       "        # Split the string doc into a list of words (according to whitespace)\n",
       "        tokens = doc.split()\n",
       "        # Make a transformed list where we 'normalize' each word to facilitate matching.\n",
       "        # Periods and commas are removed from the end of each word, and it's set to all lowercase.\n",
       "        normalized = [token.rstrip('.,').lower() for token in tokens]\n",
       "        # Is there a match? If so, update the list of matching indices.\n",
       "        if keyword.lower() in normalized:\n",
       "            indices.append(i)\n",
       "    return indices\n",
       "```"
      ],
      "text/plain": [
       "Solution: \n",
       "```python\n",
       "def word_search(doc_list, keyword):\n",
       "    # list to hold the indices of matching documents\n",
       "    indices = [] \n",
       "    # Iterate through the indices (i) and elements (doc) of documents\n",
       "    for i, doc in enumerate(doc_list):\n",
       "        # Split the string doc into a list of words (according to whitespace)\n",
       "        tokens = doc.split()\n",
       "        # Make a transformed list where we 'normalize' each word to facilitate matching.\n",
       "        # Periods and commas are removed from the end of each word, and it's set to all lowercase.\n",
       "        normalized = [token.rstrip('.,').lower() for token in tokens]\n",
       "        # Is there a match? If so, update the list of matching indices.\n",
       "        if keyword.lower() in normalized:\n",
       "            indices.append(i)\n",
       "    return indices\n",
       "```"
      ]
     },
     "metadata": {},
     "output_type": "display_data"
    }
   ],
   "source": [
    "#q2.hint()\n",
    "q2.solution()"
   ]
  },
  {
   "cell_type": "markdown",
   "id": "7192087c",
   "metadata": {
    "papermill": {
     "duration": 0.011315,
     "end_time": "2023-08-09T21:54:22.383688",
     "exception": false,
     "start_time": "2023-08-09T21:54:22.372373",
     "status": "completed"
    },
    "tags": []
   },
   "source": [
    "# 3.\n",
    "\n",
    "Now the researcher wants to supply multiple keywords to search for. Complete the function below to help her.\n",
    "\n",
    "(You're encouraged to use the `word_search` function you just wrote when implementing this function. Reusing code in this way makes your programs more robust and readable - and it saves typing!)"
   ]
  },
  {
   "cell_type": "code",
   "execution_count": 13,
   "id": "928fe872",
   "metadata": {
    "execution": {
     "iopub.execute_input": "2023-08-09T21:54:22.409785Z",
     "iopub.status.busy": "2023-08-09T21:54:22.409229Z",
     "iopub.status.idle": "2023-08-09T21:54:22.417897Z",
     "shell.execute_reply": "2023-08-09T21:54:22.416609Z"
    },
    "papermill": {
     "duration": 0.025789,
     "end_time": "2023-08-09T21:54:22.421002",
     "exception": false,
     "start_time": "2023-08-09T21:54:22.395213",
     "status": "completed"
    },
    "tags": []
   },
   "outputs": [
    {
     "data": {
      "text/plain": [
       "{'casino': ['The Learn Python Challenge Casino.',\n",
       "  'They bought a car and a casino',\n",
       "  'Casinoville'],\n",
       " 'they': ['The Learn Python Challenge Casino.',\n",
       "  'They bought a car and a casino',\n",
       "  'Casinoville']}"
      ]
     },
     "execution_count": 13,
     "metadata": {},
     "output_type": "execute_result"
    }
   ],
   "source": [
    "doc_list = [\"The Learn Python Challenge Casino.\", \"They bought a car and a casino\", \"Casinoville\"]\n",
    "keywords = ['casino', 'they']\n",
    "{key: doc_list for key in keywords}"
   ]
  },
  {
   "cell_type": "code",
   "execution_count": 14,
   "id": "860109c8",
   "metadata": {
    "execution": {
     "iopub.execute_input": "2023-08-09T21:54:22.448067Z",
     "iopub.status.busy": "2023-08-09T21:54:22.447614Z",
     "iopub.status.idle": "2023-08-09T21:54:22.461563Z",
     "shell.execute_reply": "2023-08-09T21:54:22.459885Z"
    },
    "papermill": {
     "duration": 0.030737,
     "end_time": "2023-08-09T21:54:22.464107",
     "exception": false,
     "start_time": "2023-08-09T21:54:22.433370",
     "status": "completed"
    },
    "tags": []
   },
   "outputs": [
    {
     "data": {
      "application/javascript": [
       "parent.postMessage({\"jupyterEvent\": \"custom.exercise_interaction\", \"data\": {\"outcomeType\": 1, \"valueTowardsCompletion\": 0.3333333333333333, \"interactionType\": 1, \"questionType\": 2, \"questionId\": \"3_MultiWordSearch\", \"learnToolsVersion\": \"0.3.4\", \"failureMessage\": \"\", \"exceptionClass\": \"\", \"trace\": \"\"}}, \"*\")"
      ],
      "text/plain": [
       "<IPython.core.display.Javascript object>"
      ]
     },
     "metadata": {},
     "output_type": "display_data"
    },
    {
     "data": {
      "text/markdown": [
       "<span style=\"color:#33cc33\">Correct</span>"
      ],
      "text/plain": [
       "Correct"
      ]
     },
     "metadata": {},
     "output_type": "display_data"
    }
   ],
   "source": [
    "def multi_word_search(doc_list, keywords):\n",
    "    \"\"\"\n",
    "    Takes list of documents (each document is a string) and a list of keywords.  \n",
    "    Returns a dictionary where each key is a keyword, and the value is a list of indices\n",
    "    (from doc_list) of the documents containing that keyword\n",
    "\n",
    "    >>> doc_list = [\"The Learn Python Challenge Casino.\", \"They bought a car and a casino\", \"Casinoville\"]\n",
    "    >>> keywords = ['casino', 'they']\n",
    "    >>> multi_word_search(doc_list, keywords)\n",
    "    {'casino': [0, 1], 'they': [1]}\n",
    "    \"\"\"\n",
    "    # Create a dictionaty\n",
    "    dic = {key: doc_list for key in keywords}\n",
    "    for key, value in dic.items(): \n",
    "        dic[key] = word_search(value, key)\n",
    "    return dic\n",
    "\n",
    "# Check your answer\n",
    "q3.check()"
   ]
  },
  {
   "cell_type": "code",
   "execution_count": 15,
   "id": "5c8930ba",
   "metadata": {
    "execution": {
     "iopub.execute_input": "2023-08-09T21:54:22.494171Z",
     "iopub.status.busy": "2023-08-09T21:54:22.493734Z",
     "iopub.status.idle": "2023-08-09T21:54:22.504455Z",
     "shell.execute_reply": "2023-08-09T21:54:22.503295Z"
    },
    "papermill": {
     "duration": 0.027932,
     "end_time": "2023-08-09T21:54:22.507142",
     "exception": false,
     "start_time": "2023-08-09T21:54:22.479210",
     "status": "completed"
    },
    "tags": []
   },
   "outputs": [
    {
     "data": {
      "application/javascript": [
       "parent.postMessage({\"jupyterEvent\": \"custom.exercise_interaction\", \"data\": {\"interactionType\": 3, \"questionType\": 2, \"questionId\": \"3_MultiWordSearch\", \"learnToolsVersion\": \"0.3.4\", \"valueTowardsCompletion\": 0.0, \"failureMessage\": \"\", \"exceptionClass\": \"\", \"trace\": \"\", \"outcomeType\": 4}}, \"*\")"
      ],
      "text/plain": [
       "<IPython.core.display.Javascript object>"
      ]
     },
     "metadata": {},
     "output_type": "display_data"
    },
    {
     "data": {
      "text/markdown": [
       "<span style=\"color:#33cc99\">Solution:</span> \n",
       "```python\n",
       "def multi_word_search(documents, keywords):\n",
       "    keyword_to_indices = {}\n",
       "    for keyword in keywords:\n",
       "        keyword_to_indices[keyword] = word_search(documents, keyword)\n",
       "    return keyword_to_indices\n",
       "```"
      ],
      "text/plain": [
       "Solution: \n",
       "```python\n",
       "def multi_word_search(documents, keywords):\n",
       "    keyword_to_indices = {}\n",
       "    for keyword in keywords:\n",
       "        keyword_to_indices[keyword] = word_search(documents, keyword)\n",
       "    return keyword_to_indices\n",
       "```"
      ]
     },
     "metadata": {},
     "output_type": "display_data"
    }
   ],
   "source": [
    "q3.solution()"
   ]
  },
  {
   "cell_type": "markdown",
   "id": "5bff9881",
   "metadata": {
    "papermill": {
     "duration": 0.013116,
     "end_time": "2023-08-09T21:54:22.533403",
     "exception": false,
     "start_time": "2023-08-09T21:54:22.520287",
     "status": "completed"
    },
    "tags": []
   },
   "source": [
    "# Keep Going\n",
    "\n",
    "You've learned a lot. But even the best programmers rely heavily on \"libraries\" of code from other programmers. You'll learn about that in **[the last lesson](https://www.kaggle.com/colinmorris/working-with-external-libraries)**.\n"
   ]
  },
  {
   "cell_type": "markdown",
   "id": "66e402be",
   "metadata": {
    "papermill": {
     "duration": 0.012412,
     "end_time": "2023-08-09T21:54:22.559071",
     "exception": false,
     "start_time": "2023-08-09T21:54:22.546659",
     "status": "completed"
    },
    "tags": []
   },
   "source": [
    "---\n",
    "\n",
    "\n",
    "\n",
    "\n",
    "*Have questions or comments? Visit the [course discussion forum](https://www.kaggle.com/learn/python/discussion) to chat with other learners.*"
   ]
  }
 ],
 "metadata": {
  "kernelspec": {
   "display_name": "Python 3",
   "language": "python",
   "name": "python3"
  },
  "language_info": {
   "codemirror_mode": {
    "name": "ipython",
    "version": 3
   },
   "file_extension": ".py",
   "mimetype": "text/x-python",
   "name": "python",
   "nbconvert_exporter": "python",
   "pygments_lexer": "ipython3",
   "version": "3.10.12"
  },
  "papermill": {
   "default_parameters": {},
   "duration": 14.567003,
   "end_time": "2023-08-09T21:54:23.498311",
   "environment_variables": {},
   "exception": null,
   "input_path": "__notebook__.ipynb",
   "output_path": "__notebook__.ipynb",
   "parameters": {},
   "start_time": "2023-08-09T21:54:08.931308",
   "version": "2.4.0"
  }
 },
 "nbformat": 4,
 "nbformat_minor": 5
}
