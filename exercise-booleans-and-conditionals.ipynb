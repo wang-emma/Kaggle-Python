{
 "cells": [
  {
   "cell_type": "markdown",
   "id": "ab7d7c18",
   "metadata": {
    "papermill": {
     "duration": 0.009263,
     "end_time": "2023-08-09T21:51:54.920865",
     "exception": false,
     "start_time": "2023-08-09T21:51:54.911602",
     "status": "completed"
    },
    "tags": []
   },
   "source": [
    "**This notebook is an exercise in the [Python](https://www.kaggle.com/learn/python) course.  You can reference the tutorial at [this link](https://www.kaggle.com/colinmorris/booleans-and-conditionals).**\n",
    "\n",
    "---\n"
   ]
  },
  {
   "cell_type": "markdown",
   "id": "67ae78c3",
   "metadata": {
    "papermill": {
     "duration": 0.008175,
     "end_time": "2023-08-09T21:51:54.937787",
     "exception": false,
     "start_time": "2023-08-09T21:51:54.929612",
     "status": "completed"
    },
    "tags": []
   },
   "source": [
    "In this exercise, you'll put to work what you have learned about booleans and conditionals.\n",
    "\n",
    "To get started, **run the setup code below** before writing your own code (and if you leave this notebook and come back later, don't forget to run the setup code again)."
   ]
  },
  {
   "cell_type": "code",
   "execution_count": 1,
   "id": "32e59591",
   "metadata": {
    "execution": {
     "iopub.execute_input": "2023-08-09T21:51:54.957132Z",
     "iopub.status.busy": "2023-08-09T21:51:54.956602Z",
     "iopub.status.idle": "2023-08-09T21:51:54.997244Z",
     "shell.execute_reply": "2023-08-09T21:51:54.996424Z"
    },
    "papermill": {
     "duration": 0.052812,
     "end_time": "2023-08-09T21:51:54.999376",
     "exception": false,
     "start_time": "2023-08-09T21:51:54.946564",
     "status": "completed"
    },
    "tags": []
   },
   "outputs": [
    {
     "name": "stdout",
     "output_type": "stream",
     "text": [
      "Setup complete.\n"
     ]
    }
   ],
   "source": [
    "from learntools.core import binder; binder.bind(globals())\n",
    "from learntools.python.ex3 import *\n",
    "print('Setup complete.')"
   ]
  },
  {
   "cell_type": "markdown",
   "id": "577579c0",
   "metadata": {
    "papermill": {
     "duration": 0.008113,
     "end_time": "2023-08-09T21:51:55.016178",
     "exception": false,
     "start_time": "2023-08-09T21:51:55.008065",
     "status": "completed"
    },
    "tags": []
   },
   "source": [
    "# 1.\n",
    "\n",
    "Many programming languages have [`sign`](https://en.wikipedia.org/wiki/Sign_function) available as a built-in function. Python doesn't, but we can define our own!\n",
    "\n",
    "In the cell below, define a function called `sign` which takes a numerical argument and returns -1 if it's negative, 1 if it's positive, and 0 if it's 0."
   ]
  },
  {
   "cell_type": "code",
   "execution_count": 2,
   "id": "e8d3caea",
   "metadata": {
    "execution": {
     "iopub.execute_input": "2023-08-09T21:51:55.036293Z",
     "iopub.status.busy": "2023-08-09T21:51:55.035872Z",
     "iopub.status.idle": "2023-08-09T21:51:55.045808Z",
     "shell.execute_reply": "2023-08-09T21:51:55.044740Z"
    },
    "papermill": {
     "duration": 0.021838,
     "end_time": "2023-08-09T21:51:55.047919",
     "exception": false,
     "start_time": "2023-08-09T21:51:55.026081",
     "status": "completed"
    },
    "tags": []
   },
   "outputs": [
    {
     "data": {
      "application/javascript": [
       "parent.postMessage({\"jupyterEvent\": \"custom.exercise_interaction\", \"data\": {\"outcomeType\": 1, \"valueTowardsCompletion\": 0.2, \"interactionType\": 1, \"questionType\": 2, \"questionId\": \"1_SignFunctionProblem\", \"learnToolsVersion\": \"0.3.4\", \"failureMessage\": \"\", \"exceptionClass\": \"\", \"trace\": \"\"}}, \"*\")"
      ],
      "text/plain": [
       "<IPython.core.display.Javascript object>"
      ]
     },
     "metadata": {},
     "output_type": "display_data"
    },
    {
     "data": {
      "text/markdown": [
       "<span style=\"color:#33cc33\">Correct</span>"
      ],
      "text/plain": [
       "Correct"
      ]
     },
     "metadata": {},
     "output_type": "display_data"
    }
   ],
   "source": [
    "# Your code goes here. Define a function called 'sign'\n",
    "def sign(x):\n",
    "    if x<0:\n",
    "        return -1\n",
    "    elif x==0:\n",
    "        return 0\n",
    "    else:\n",
    "        return 1\n",
    "\n",
    "# Check your answer\n",
    "q1.check()"
   ]
  },
  {
   "cell_type": "code",
   "execution_count": 3,
   "id": "501bcc92",
   "metadata": {
    "execution": {
     "iopub.execute_input": "2023-08-09T21:51:55.067603Z",
     "iopub.status.busy": "2023-08-09T21:51:55.067175Z",
     "iopub.status.idle": "2023-08-09T21:51:55.075506Z",
     "shell.execute_reply": "2023-08-09T21:51:55.074514Z"
    },
    "papermill": {
     "duration": 0.020752,
     "end_time": "2023-08-09T21:51:55.077541",
     "exception": false,
     "start_time": "2023-08-09T21:51:55.056789",
     "status": "completed"
    },
    "tags": []
   },
   "outputs": [
    {
     "data": {
      "application/javascript": [
       "parent.postMessage({\"jupyterEvent\": \"custom.exercise_interaction\", \"data\": {\"interactionType\": 3, \"questionType\": 2, \"questionId\": \"1_SignFunctionProblem\", \"learnToolsVersion\": \"0.3.4\", \"valueTowardsCompletion\": 0.0, \"failureMessage\": \"\", \"exceptionClass\": \"\", \"trace\": \"\", \"outcomeType\": 4}}, \"*\")"
      ],
      "text/plain": [
       "<IPython.core.display.Javascript object>"
      ]
     },
     "metadata": {},
     "output_type": "display_data"
    },
    {
     "data": {
      "text/markdown": [
       "<span style=\"color:#33cc99\">Solution:</span> \n",
       "```python\n",
       "def sign(x):\n",
       "    if x > 0:\n",
       "        return 1\n",
       "    elif x < 0:\n",
       "        return -1\n",
       "    else:\n",
       "        return 0\n",
       "```"
      ],
      "text/plain": [
       "Solution: \n",
       "```python\n",
       "def sign(x):\n",
       "    if x > 0:\n",
       "        return 1\n",
       "    elif x < 0:\n",
       "        return -1\n",
       "    else:\n",
       "        return 0\n",
       "```"
      ]
     },
     "metadata": {},
     "output_type": "display_data"
    }
   ],
   "source": [
    "q1.solution()"
   ]
  },
  {
   "cell_type": "markdown",
   "id": "5a5a6ec1",
   "metadata": {
    "papermill": {
     "duration": 0.00862,
     "end_time": "2023-08-09T21:51:55.095305",
     "exception": false,
     "start_time": "2023-08-09T21:51:55.086685",
     "status": "completed"
    },
    "tags": []
   },
   "source": [
    "# 2.\n",
    "\n",
    "We've decided to add \"logging\" to our `to_smash` function from the previous exercise."
   ]
  },
  {
   "cell_type": "code",
   "execution_count": 4,
   "id": "f4e36449",
   "metadata": {
    "execution": {
     "iopub.execute_input": "2023-08-09T21:51:55.115408Z",
     "iopub.status.busy": "2023-08-09T21:51:55.114820Z",
     "iopub.status.idle": "2023-08-09T21:51:55.123411Z",
     "shell.execute_reply": "2023-08-09T21:51:55.122392Z"
    },
    "papermill": {
     "duration": 0.020988,
     "end_time": "2023-08-09T21:51:55.125389",
     "exception": false,
     "start_time": "2023-08-09T21:51:55.104401",
     "status": "completed"
    },
    "tags": []
   },
   "outputs": [
    {
     "name": "stdout",
     "output_type": "stream",
     "text": [
      "Splitting 91 candies\n"
     ]
    },
    {
     "data": {
      "text/plain": [
       "1"
      ]
     },
     "execution_count": 4,
     "metadata": {},
     "output_type": "execute_result"
    }
   ],
   "source": [
    "def to_smash(total_candies):\n",
    "    \"\"\"Return the number of leftover candies that must be smashed after distributing\n",
    "    the given number of candies evenly between 3 friends.\n",
    "    \n",
    "    >>> to_smash(91)\n",
    "    1\n",
    "    \"\"\"\n",
    "    print(\"Splitting\", total_candies, \"candies\")\n",
    "    return total_candies % 3\n",
    "\n",
    "to_smash(91)"
   ]
  },
  {
   "cell_type": "markdown",
   "id": "42c09156",
   "metadata": {
    "papermill": {
     "duration": 0.008861,
     "end_time": "2023-08-09T21:51:55.143516",
     "exception": false,
     "start_time": "2023-08-09T21:51:55.134655",
     "status": "completed"
    },
    "tags": []
   },
   "source": [
    "What happens if we call it with `total_candies = 1`?"
   ]
  },
  {
   "cell_type": "code",
   "execution_count": 5,
   "id": "f552befb",
   "metadata": {
    "execution": {
     "iopub.execute_input": "2023-08-09T21:51:55.163468Z",
     "iopub.status.busy": "2023-08-09T21:51:55.163041Z",
     "iopub.status.idle": "2023-08-09T21:51:55.170580Z",
     "shell.execute_reply": "2023-08-09T21:51:55.169539Z"
    },
    "papermill": {
     "duration": 0.019996,
     "end_time": "2023-08-09T21:51:55.172595",
     "exception": false,
     "start_time": "2023-08-09T21:51:55.152599",
     "status": "completed"
    },
    "tags": []
   },
   "outputs": [
    {
     "name": "stdout",
     "output_type": "stream",
     "text": [
      "Splitting 1 candies\n"
     ]
    },
    {
     "data": {
      "text/plain": [
       "1"
      ]
     },
     "execution_count": 5,
     "metadata": {},
     "output_type": "execute_result"
    }
   ],
   "source": [
    "to_smash(1)"
   ]
  },
  {
   "cell_type": "markdown",
   "id": "c39190e2",
   "metadata": {
    "papermill": {
     "duration": 0.00902,
     "end_time": "2023-08-09T21:51:55.191133",
     "exception": false,
     "start_time": "2023-08-09T21:51:55.182113",
     "status": "completed"
    },
    "tags": []
   },
   "source": [
    "That isn't great grammar!\n",
    "\n",
    "Modify the definition in the cell below to correct the grammar of our print statement. (If there's only one candy, we should use the singular \"candy\" instead of the plural \"candies\")"
   ]
  },
  {
   "cell_type": "code",
   "execution_count": 6,
   "id": "e7772b24",
   "metadata": {
    "execution": {
     "iopub.execute_input": "2023-08-09T21:51:55.211603Z",
     "iopub.status.busy": "2023-08-09T21:51:55.211170Z",
     "iopub.status.idle": "2023-08-09T21:51:55.219641Z",
     "shell.execute_reply": "2023-08-09T21:51:55.218555Z"
    },
    "papermill": {
     "duration": 0.021353,
     "end_time": "2023-08-09T21:51:55.221875",
     "exception": false,
     "start_time": "2023-08-09T21:51:55.200522",
     "status": "completed"
    },
    "tags": []
   },
   "outputs": [
    {
     "name": "stdout",
     "output_type": "stream",
     "text": [
      "Splitting 91 candies\n",
      "Splitting 1 candy\n"
     ]
    },
    {
     "data": {
      "text/plain": [
       "1"
      ]
     },
     "execution_count": 6,
     "metadata": {},
     "output_type": "execute_result"
    }
   ],
   "source": [
    "def to_smash(total_candies):\n",
    "    \"\"\"Return the number of leftover candies that must be smashed after distributing\n",
    "    the given number of candies evenly between 3 friends.\n",
    "    \n",
    "    >>> to_smash(91)\n",
    "    1\n",
    "    \"\"\"\n",
    "    if total_candies==1:\n",
    "        print(\"Splitting\", total_candies, \"candy\")\n",
    "    else: \n",
    "        print(\"Splitting\", total_candies, \"candies\")\n",
    "    return total_candies % 3\n",
    "\n",
    "to_smash(91)\n",
    "to_smash(1)"
   ]
  },
  {
   "cell_type": "markdown",
   "id": "20b91c4b",
   "metadata": {
    "papermill": {
     "duration": 0.009088,
     "end_time": "2023-08-09T21:51:55.240512",
     "exception": false,
     "start_time": "2023-08-09T21:51:55.231424",
     "status": "completed"
    },
    "tags": []
   },
   "source": [
    "To get credit for completing this problem, and to see the official answer, run the code cell below."
   ]
  },
  {
   "cell_type": "code",
   "execution_count": 7,
   "id": "f69246f6",
   "metadata": {
    "execution": {
     "iopub.execute_input": "2023-08-09T21:51:55.261111Z",
     "iopub.status.busy": "2023-08-09T21:51:55.260700Z",
     "iopub.status.idle": "2023-08-09T21:51:55.269084Z",
     "shell.execute_reply": "2023-08-09T21:51:55.267749Z"
    },
    "papermill": {
     "duration": 0.02132,
     "end_time": "2023-08-09T21:51:55.271304",
     "exception": false,
     "start_time": "2023-08-09T21:51:55.249984",
     "status": "completed"
    },
    "tags": []
   },
   "outputs": [
    {
     "data": {
      "application/javascript": [
       "parent.postMessage({\"jupyterEvent\": \"custom.exercise_interaction\", \"data\": {\"interactionType\": 3, \"questionType\": 4, \"questionId\": \"2_PluralizationProblem\", \"learnToolsVersion\": \"0.3.4\", \"valueTowardsCompletion\": 0.0, \"failureMessage\": \"\", \"exceptionClass\": \"\", \"trace\": \"\", \"outcomeType\": 4}}, \"*\")"
      ],
      "text/plain": [
       "<IPython.core.display.Javascript object>"
      ]
     },
     "metadata": {},
     "output_type": "display_data"
    },
    {
     "data": {
      "text/markdown": [
       "<span style=\"color:#33cc99\">Solution:</span> A straightforward (and totally fine) solution is to replace the original `print` call with:\n",
       "\n",
       "```python\n",
       "if total_candies == 1:\n",
       "    print(\"Splitting 1 candy\")\n",
       "else:\n",
       "    print(\"Splitting\", total_candies, \"candies\")\n",
       "```\n",
       "\n",
       "Here's a slightly more succinct solution using a conditional expression:\n",
       "\n",
       "```python\n",
       "print(\"Splitting\", total_candies, \"candy\" if total_candies == 1 else \"candies\")\n",
       "```"
      ],
      "text/plain": [
       "Solution: A straightforward (and totally fine) solution is to replace the original `print` call with:\n",
       "\n",
       "```python\n",
       "if total_candies == 1:\n",
       "    print(\"Splitting 1 candy\")\n",
       "else:\n",
       "    print(\"Splitting\", total_candies, \"candies\")\n",
       "```\n",
       "\n",
       "Here's a slightly more succinct solution using a conditional expression:\n",
       "\n",
       "```python\n",
       "print(\"Splitting\", total_candies, \"candy\" if total_candies == 1 else \"candies\")\n",
       "```"
      ]
     },
     "metadata": {},
     "output_type": "display_data"
    }
   ],
   "source": [
    "# Check your answer (Run this code cell to receive credit!)\n",
    "q2.solution()"
   ]
  },
  {
   "cell_type": "markdown",
   "id": "f40cd1f3",
   "metadata": {
    "papermill": {
     "duration": 0.009458,
     "end_time": "2023-08-09T21:51:55.291016",
     "exception": false,
     "start_time": "2023-08-09T21:51:55.281558",
     "status": "completed"
    },
    "tags": []
   },
   "source": [
    "# 3. <span title=\"A bit spicy\" style=\"color: darkgreen \">🌶️</span>\n",
    "\n",
    "In the tutorial, we talked about deciding whether we're prepared for the weather. I said that I'm safe from today's weather if...\n",
    "- I have an umbrella...\n",
    "- or if the rain isn't too heavy and I have a hood...\n",
    "- otherwise, I'm still fine unless it's raining *and* it's a workday\n",
    "\n",
    "The function below uses our first attempt at turning this logic into a Python expression. I claimed that there was a bug in that code. Can you find it?\n",
    "\n",
    "To prove that `prepared_for_weather` is buggy, come up with a set of inputs where either:\n",
    "- the function returns `False` (but should have returned `True`), or\n",
    "- the function returned `True` (but should have returned `False`).\n",
    "\n",
    "To get credit for completing this question, your code should return a <font color='#33cc33'>Correct</font> result."
   ]
  },
  {
   "cell_type": "code",
   "execution_count": 8,
   "id": "e950e722",
   "metadata": {
    "execution": {
     "iopub.execute_input": "2023-08-09T21:51:55.313108Z",
     "iopub.status.busy": "2023-08-09T21:51:55.312700Z",
     "iopub.status.idle": "2023-08-09T21:51:55.322678Z",
     "shell.execute_reply": "2023-08-09T21:51:55.321888Z"
    },
    "papermill": {
     "duration": 0.023881,
     "end_time": "2023-08-09T21:51:55.324793",
     "exception": false,
     "start_time": "2023-08-09T21:51:55.300912",
     "status": "completed"
    },
    "tags": []
   },
   "outputs": [
    {
     "name": "stdout",
     "output_type": "stream",
     "text": [
      "False\n"
     ]
    },
    {
     "data": {
      "application/javascript": [
       "parent.postMessage({\"jupyterEvent\": \"custom.exercise_interaction\", \"data\": {\"outcomeType\": 1, \"valueTowardsCompletion\": 0.2, \"interactionType\": 1, \"questionType\": 1, \"questionId\": \"3_WeatherDebug\", \"learnToolsVersion\": \"0.3.4\", \"failureMessage\": \"\", \"exceptionClass\": \"\", \"trace\": \"\"}}, \"*\")"
      ],
      "text/plain": [
       "<IPython.core.display.Javascript object>"
      ]
     },
     "metadata": {},
     "output_type": "display_data"
    },
    {
     "data": {
      "text/markdown": [
       "<span style=\"color:#33cc33\">Correct:</span> \n",
       "\n",
       "One example of a failing test case is:\n",
       "\n",
       "```python\n",
       "have_umbrella = False\n",
       "rain_level = 0.0\n",
       "have_hood = False\n",
       "is_workday = False\n",
       "```\n",
       "\n",
       "Clearly we're prepared for the weather in this case. It's not raining. Not only that, it's not a workday, so we don't even need to leave the house! But our function will return False on these inputs.\n",
       "\n",
       "The key problem is that Python implictly parenthesizes the last part as:\n",
       "\n",
       "```python\n",
       "(not (rain_level > 0)) and is_workday\n",
       "```\n",
       "\n",
       "Whereas what we were trying to express would look more like:\n",
       "\n",
       "```python\n",
       "not (rain_level > 0 and is_workday)\n",
       "```\n"
      ],
      "text/plain": [
       "Correct: \n",
       "\n",
       "One example of a failing test case is:\n",
       "\n",
       "```python\n",
       "have_umbrella = False\n",
       "rain_level = 0.0\n",
       "have_hood = False\n",
       "is_workday = False\n",
       "```\n",
       "\n",
       "Clearly we're prepared for the weather in this case. It's not raining. Not only that, it's not a workday, so we don't even need to leave the house! But our function will return False on these inputs.\n",
       "\n",
       "The key problem is that Python implictly parenthesizes the last part as:\n",
       "\n",
       "```python\n",
       "(not (rain_level > 0)) and is_workday\n",
       "```\n",
       "\n",
       "Whereas what we were trying to express would look more like:\n",
       "\n",
       "```python\n",
       "not (rain_level > 0 and is_workday)\n",
       "```"
      ]
     },
     "metadata": {},
     "output_type": "display_data"
    }
   ],
   "source": [
    "def prepared_for_weather(have_umbrella, rain_level, have_hood, is_workday):\n",
    "    # Don't change this code. Our goal is just to find the bug, not fix it!\n",
    "    return have_umbrella or rain_level < 5 and have_hood or not rain_level > 0 and is_workday\n",
    "\n",
    "# Change the values of these inputs so they represent a case where prepared_for_weather\n",
    "# returns the wrong answer.\n",
    "have_umbrella = False\n",
    "rain_level = 0.0\n",
    "have_hood = False\n",
    "is_workday = False\n",
    "\n",
    "# Check what the function returns given the current values of the variables above\n",
    "actual = prepared_for_weather(have_umbrella, rain_level, have_hood, is_workday)\n",
    "print(actual)\n",
    "\n",
    "# Check your answer\n",
    "q3.check()"
   ]
  },
  {
   "cell_type": "code",
   "execution_count": 9,
   "id": "fbc12c75",
   "metadata": {
    "execution": {
     "iopub.execute_input": "2023-08-09T21:51:55.347684Z",
     "iopub.status.busy": "2023-08-09T21:51:55.347304Z",
     "iopub.status.idle": "2023-08-09T21:51:55.351664Z",
     "shell.execute_reply": "2023-08-09T21:51:55.350365Z"
    },
    "papermill": {
     "duration": 0.018493,
     "end_time": "2023-08-09T21:51:55.353745",
     "exception": false,
     "start_time": "2023-08-09T21:51:55.335252",
     "status": "completed"
    },
    "tags": []
   },
   "outputs": [],
   "source": [
    "#q3.hint()\n",
    "#q3.solution()"
   ]
  },
  {
   "cell_type": "markdown",
   "id": "45337eea",
   "metadata": {
    "papermill": {
     "duration": 0.010353,
     "end_time": "2023-08-09T21:51:55.374569",
     "exception": false,
     "start_time": "2023-08-09T21:51:55.364216",
     "status": "completed"
    },
    "tags": []
   },
   "source": [
    "# 4.\n",
    "\n",
    "The function `is_negative` below is implemented correctly - it returns True if the given number is negative and False otherwise.\n",
    "\n",
    "However, it's more verbose than it needs to be. We can actually reduce the number of lines of code in this function by *75%* while keeping the same behaviour. \n",
    "\n",
    "See if you can come up with an equivalent body that uses just **one line** of code, and put it in the function `concise_is_negative`. (HINT: you don't even need Python's ternary syntax)"
   ]
  },
  {
   "cell_type": "code",
   "execution_count": 10,
   "id": "18ca83fa",
   "metadata": {
    "execution": {
     "iopub.execute_input": "2023-08-09T21:51:55.396770Z",
     "iopub.status.busy": "2023-08-09T21:51:55.396334Z",
     "iopub.status.idle": "2023-08-09T21:51:55.405642Z",
     "shell.execute_reply": "2023-08-09T21:51:55.404609Z"
    },
    "papermill": {
     "duration": 0.022826,
     "end_time": "2023-08-09T21:51:55.407613",
     "exception": false,
     "start_time": "2023-08-09T21:51:55.384787",
     "status": "completed"
    },
    "tags": []
   },
   "outputs": [
    {
     "data": {
      "application/javascript": [
       "parent.postMessage({\"jupyterEvent\": \"custom.exercise_interaction\", \"data\": {\"outcomeType\": 1, \"valueTowardsCompletion\": 0.2, \"interactionType\": 1, \"questionType\": 2, \"questionId\": \"4_ConciseIsNegative\", \"learnToolsVersion\": \"0.3.4\", \"failureMessage\": \"\", \"exceptionClass\": \"\", \"trace\": \"\"}}, \"*\")"
      ],
      "text/plain": [
       "<IPython.core.display.Javascript object>"
      ]
     },
     "metadata": {},
     "output_type": "display_data"
    },
    {
     "data": {
      "text/markdown": [
       "<span style=\"color:#33cc33\">Correct</span>"
      ],
      "text/plain": [
       "Correct"
      ]
     },
     "metadata": {},
     "output_type": "display_data"
    }
   ],
   "source": [
    "def is_negative(number):\n",
    "    if number < 0:\n",
    "        return True\n",
    "    else:\n",
    "        return False\n",
    "\n",
    "def concise_is_negative(number):\n",
    "    return number<0\n",
    "\n",
    "# Check your answer\n",
    "q4.check()"
   ]
  },
  {
   "cell_type": "code",
   "execution_count": 11,
   "id": "7477cb29",
   "metadata": {
    "execution": {
     "iopub.execute_input": "2023-08-09T21:51:55.430561Z",
     "iopub.status.busy": "2023-08-09T21:51:55.430183Z",
     "iopub.status.idle": "2023-08-09T21:51:55.438696Z",
     "shell.execute_reply": "2023-08-09T21:51:55.437723Z"
    },
    "papermill": {
     "duration": 0.022625,
     "end_time": "2023-08-09T21:51:55.440852",
     "exception": false,
     "start_time": "2023-08-09T21:51:55.418227",
     "status": "completed"
    },
    "tags": []
   },
   "outputs": [
    {
     "data": {
      "application/javascript": [
       "parent.postMessage({\"jupyterEvent\": \"custom.exercise_interaction\", \"data\": {\"interactionType\": 3, \"questionType\": 2, \"questionId\": \"4_ConciseIsNegative\", \"learnToolsVersion\": \"0.3.4\", \"valueTowardsCompletion\": 0.0, \"failureMessage\": \"\", \"exceptionClass\": \"\", \"trace\": \"\", \"outcomeType\": 4}}, \"*\")"
      ],
      "text/plain": [
       "<IPython.core.display.Javascript object>"
      ]
     },
     "metadata": {},
     "output_type": "display_data"
    },
    {
     "data": {
      "text/markdown": [
       "<span style=\"color:#33cc99\">Solution:</span> \n",
       "```python\n",
       "return number < 0\n",
       "```"
      ],
      "text/plain": [
       "Solution: \n",
       "```python\n",
       "return number < 0\n",
       "```"
      ]
     },
     "metadata": {},
     "output_type": "display_data"
    }
   ],
   "source": [
    "#q4.hint()\n",
    "q4.solution()"
   ]
  },
  {
   "cell_type": "markdown",
   "id": "26a0d384",
   "metadata": {
    "papermill": {
     "duration": 0.010941,
     "end_time": "2023-08-09T21:51:55.462983",
     "exception": false,
     "start_time": "2023-08-09T21:51:55.452042",
     "status": "completed"
    },
    "tags": []
   },
   "source": [
    "# 5a.\n",
    "\n",
    "The boolean variables `ketchup`, `mustard` and `onion` represent whether a customer wants a particular topping on their hot dog. We want to implement a number of boolean functions that correspond to some yes-or-no questions about the customer's order. For example:"
   ]
  },
  {
   "cell_type": "code",
   "execution_count": 12,
   "id": "b7873857",
   "metadata": {
    "execution": {
     "iopub.execute_input": "2023-08-09T21:51:55.486766Z",
     "iopub.status.busy": "2023-08-09T21:51:55.486377Z",
     "iopub.status.idle": "2023-08-09T21:51:55.491335Z",
     "shell.execute_reply": "2023-08-09T21:51:55.490321Z"
    },
    "papermill": {
     "duration": 0.01962,
     "end_time": "2023-08-09T21:51:55.493448",
     "exception": false,
     "start_time": "2023-08-09T21:51:55.473828",
     "status": "completed"
    },
    "tags": []
   },
   "outputs": [],
   "source": [
    "def onionless(ketchup, mustard, onion):\n",
    "    \"\"\"Return whether the customer doesn't want onions.\n",
    "    \"\"\"\n",
    "    return not onion"
   ]
  },
  {
   "cell_type": "code",
   "execution_count": 13,
   "id": "f4819bf6",
   "metadata": {
    "execution": {
     "iopub.execute_input": "2023-08-09T21:51:55.517023Z",
     "iopub.status.busy": "2023-08-09T21:51:55.516592Z",
     "iopub.status.idle": "2023-08-09T21:51:55.524888Z",
     "shell.execute_reply": "2023-08-09T21:51:55.523890Z"
    },
    "papermill": {
     "duration": 0.022515,
     "end_time": "2023-08-09T21:51:55.526796",
     "exception": false,
     "start_time": "2023-08-09T21:51:55.504281",
     "status": "completed"
    },
    "tags": []
   },
   "outputs": [
    {
     "data": {
      "application/javascript": [
       "parent.postMessage({\"jupyterEvent\": \"custom.exercise_interaction\", \"data\": {\"outcomeType\": 1, \"valueTowardsCompletion\": 0.2, \"interactionType\": 1, \"questionType\": 2, \"questionId\": \"5.1_AllToppings\", \"learnToolsVersion\": \"0.3.4\", \"failureMessage\": \"\", \"exceptionClass\": \"\", \"trace\": \"\"}}, \"*\")"
      ],
      "text/plain": [
       "<IPython.core.display.Javascript object>"
      ]
     },
     "metadata": {},
     "output_type": "display_data"
    },
    {
     "data": {
      "text/markdown": [
       "<span style=\"color:#33cc33\">Correct</span>"
      ],
      "text/plain": [
       "Correct"
      ]
     },
     "metadata": {},
     "output_type": "display_data"
    }
   ],
   "source": [
    "def wants_all_toppings(ketchup, mustard, onion):\n",
    "    \"\"\"Return whether the customer wants \"the works\" (all 3 toppings)\n",
    "    \"\"\"\n",
    "    return (ketchup and mustard and onion)\n",
    "\n",
    "# Check your answer\n",
    "q5.a.check()"
   ]
  },
  {
   "cell_type": "code",
   "execution_count": 14,
   "id": "395e5e72",
   "metadata": {
    "execution": {
     "iopub.execute_input": "2023-08-09T21:51:55.551072Z",
     "iopub.status.busy": "2023-08-09T21:51:55.550629Z",
     "iopub.status.idle": "2023-08-09T21:51:55.554938Z",
     "shell.execute_reply": "2023-08-09T21:51:55.554052Z"
    },
    "papermill": {
     "duration": 0.018695,
     "end_time": "2023-08-09T21:51:55.557073",
     "exception": false,
     "start_time": "2023-08-09T21:51:55.538378",
     "status": "completed"
    },
    "tags": []
   },
   "outputs": [],
   "source": [
    "#q5.a.hint()\n",
    "#q5.a.solution()"
   ]
  },
  {
   "cell_type": "markdown",
   "id": "955a065b",
   "metadata": {
    "papermill": {
     "duration": 0.010732,
     "end_time": "2023-08-09T21:51:55.578974",
     "exception": false,
     "start_time": "2023-08-09T21:51:55.568242",
     "status": "completed"
    },
    "tags": []
   },
   "source": [
    "# 5b.\n",
    "\n",
    "For the next function, fill in the body to match the English description in the docstring. "
   ]
  },
  {
   "cell_type": "code",
   "execution_count": 15,
   "id": "5ad94b2a",
   "metadata": {
    "execution": {
     "iopub.execute_input": "2023-08-09T21:51:55.603470Z",
     "iopub.status.busy": "2023-08-09T21:51:55.602340Z",
     "iopub.status.idle": "2023-08-09T21:51:55.610988Z",
     "shell.execute_reply": "2023-08-09T21:51:55.610211Z"
    },
    "papermill": {
     "duration": 0.022778,
     "end_time": "2023-08-09T21:51:55.612833",
     "exception": false,
     "start_time": "2023-08-09T21:51:55.590055",
     "status": "completed"
    },
    "tags": []
   },
   "outputs": [
    {
     "data": {
      "application/javascript": [
       "parent.postMessage({\"jupyterEvent\": \"custom.exercise_interaction\", \"data\": {\"outcomeType\": 1, \"valueTowardsCompletion\": 0.2, \"interactionType\": 1, \"questionType\": 2, \"questionId\": \"5.2_PlainDog\", \"learnToolsVersion\": \"0.3.4\", \"failureMessage\": \"\", \"exceptionClass\": \"\", \"trace\": \"\"}}, \"*\")"
      ],
      "text/plain": [
       "<IPython.core.display.Javascript object>"
      ]
     },
     "metadata": {},
     "output_type": "display_data"
    },
    {
     "data": {
      "text/markdown": [
       "<span style=\"color:#33cc33\">Correct:</span> \n",
       "\n",
       "One solution looks like:\n",
       "```python\n",
       "return not ketchup and not mustard and not onion\n",
       "```\n",
       "\n",
       "We can also [\"factor out\" the nots](https://en.wikipedia.org/wiki/De_Morgan%27s_laws) to get:\n",
       "\n",
       "```python\n",
       "return not (ketchup or mustard or onion)\n",
       "```"
      ],
      "text/plain": [
       "Correct: \n",
       "\n",
       "One solution looks like:\n",
       "```python\n",
       "return not ketchup and not mustard and not onion\n",
       "```\n",
       "\n",
       "We can also [\"factor out\" the nots](https://en.wikipedia.org/wiki/De_Morgan%27s_laws) to get:\n",
       "\n",
       "```python\n",
       "return not (ketchup or mustard or onion)\n",
       "```"
      ]
     },
     "metadata": {},
     "output_type": "display_data"
    }
   ],
   "source": [
    "def wants_plain_hotdog(ketchup, mustard, onion):\n",
    "    \"\"\"Return whether the customer wants a plain hot dog with no toppings.\n",
    "    \"\"\"\n",
    "    return not(ketchup or mustard or onion)\n",
    "\n",
    "# Check your answer\n",
    "q5.b.check()"
   ]
  },
  {
   "cell_type": "code",
   "execution_count": 16,
   "id": "f60380a9",
   "metadata": {
    "execution": {
     "iopub.execute_input": "2023-08-09T21:51:55.637823Z",
     "iopub.status.busy": "2023-08-09T21:51:55.636817Z",
     "iopub.status.idle": "2023-08-09T21:51:55.640987Z",
     "shell.execute_reply": "2023-08-09T21:51:55.640166Z"
    },
    "papermill": {
     "duration": 0.018906,
     "end_time": "2023-08-09T21:51:55.643112",
     "exception": false,
     "start_time": "2023-08-09T21:51:55.624206",
     "status": "completed"
    },
    "tags": []
   },
   "outputs": [],
   "source": [
    "#q5.b.hint()\n",
    "#q5.b.solution()"
   ]
  },
  {
   "cell_type": "markdown",
   "id": "07ae2b25",
   "metadata": {
    "papermill": {
     "duration": 0.011136,
     "end_time": "2023-08-09T21:51:55.665990",
     "exception": false,
     "start_time": "2023-08-09T21:51:55.654854",
     "status": "completed"
    },
    "tags": []
   },
   "source": [
    "# 5c.\n",
    "\n",
    "You know what to do: for the next function, fill in the body to match the English description in the docstring."
   ]
  },
  {
   "cell_type": "code",
   "execution_count": 17,
   "id": "b14496a6",
   "metadata": {
    "execution": {
     "iopub.execute_input": "2023-08-09T21:51:55.690832Z",
     "iopub.status.busy": "2023-08-09T21:51:55.689985Z",
     "iopub.status.idle": "2023-08-09T21:51:55.698719Z",
     "shell.execute_reply": "2023-08-09T21:51:55.697703Z"
    },
    "papermill": {
     "duration": 0.023569,
     "end_time": "2023-08-09T21:51:55.700936",
     "exception": false,
     "start_time": "2023-08-09T21:51:55.677367",
     "status": "completed"
    },
    "tags": []
   },
   "outputs": [
    {
     "data": {
      "application/javascript": [
       "parent.postMessage({\"jupyterEvent\": \"custom.exercise_interaction\", \"data\": {\"outcomeType\": 1, \"valueTowardsCompletion\": 0.2, \"interactionType\": 1, \"questionType\": 2, \"questionId\": \"5.3_OneSauce\", \"learnToolsVersion\": \"0.3.4\", \"failureMessage\": \"\", \"exceptionClass\": \"\", \"trace\": \"\"}}, \"*\")"
      ],
      "text/plain": [
       "<IPython.core.display.Javascript object>"
      ]
     },
     "metadata": {},
     "output_type": "display_data"
    },
    {
     "data": {
      "text/markdown": [
       "<span style=\"color:#33cc33\">Correct</span>"
      ],
      "text/plain": [
       "Correct"
      ]
     },
     "metadata": {},
     "output_type": "display_data"
    }
   ],
   "source": [
    "def exactly_one_sauce(ketchup, mustard, onion):\n",
    "    \"\"\"Return whether the customer wants either ketchup or mustard, but not both.\n",
    "    (You may be familiar with this operation under the name \"exclusive or\")\n",
    "    \"\"\"\n",
    "    return (ketchup or mustard) and not (ketchup and mustard)\n",
    "\n",
    "# Check your answer\n",
    "q5.c.check()"
   ]
  },
  {
   "cell_type": "code",
   "execution_count": 18,
   "id": "55868ba1",
   "metadata": {
    "execution": {
     "iopub.execute_input": "2023-08-09T21:51:55.726194Z",
     "iopub.status.busy": "2023-08-09T21:51:55.725796Z",
     "iopub.status.idle": "2023-08-09T21:51:55.733790Z",
     "shell.execute_reply": "2023-08-09T21:51:55.733018Z"
    },
    "papermill": {
     "duration": 0.023142,
     "end_time": "2023-08-09T21:51:55.735668",
     "exception": false,
     "start_time": "2023-08-09T21:51:55.712526",
     "status": "completed"
    },
    "tags": []
   },
   "outputs": [
    {
     "data": {
      "application/javascript": [
       "parent.postMessage({\"jupyterEvent\": \"custom.exercise_interaction\", \"data\": {\"interactionType\": 3, \"questionType\": 2, \"questionId\": \"5.3_OneSauce\", \"learnToolsVersion\": \"0.3.4\", \"valueTowardsCompletion\": 0.0, \"failureMessage\": \"\", \"exceptionClass\": \"\", \"trace\": \"\", \"outcomeType\": 4}}, \"*\")"
      ],
      "text/plain": [
       "<IPython.core.display.Javascript object>"
      ]
     },
     "metadata": {},
     "output_type": "display_data"
    },
    {
     "data": {
      "text/markdown": [
       "<span style=\"color:#33cc99\">Solution:</span> \n",
       "```python\n",
       "return (ketchup and not mustard) or (mustard and not ketchup)\n",
       "```"
      ],
      "text/plain": [
       "Solution: \n",
       "```python\n",
       "return (ketchup and not mustard) or (mustard and not ketchup)\n",
       "```"
      ]
     },
     "metadata": {},
     "output_type": "display_data"
    }
   ],
   "source": [
    "#q5.c.hint()\n",
    "q5.c.solution()"
   ]
  },
  {
   "cell_type": "markdown",
   "id": "9cace12d",
   "metadata": {
    "papermill": {
     "duration": 0.011838,
     "end_time": "2023-08-09T21:51:55.759856",
     "exception": false,
     "start_time": "2023-08-09T21:51:55.748018",
     "status": "completed"
    },
    "tags": []
   },
   "source": [
    "# 6. <span title=\"A bit spicy\" style=\"color: darkgreen \">🌶️</span>\n",
    "\n",
    "We’ve seen that calling `bool()` on an integer returns `False` if it’s equal to 0 and `True` otherwise. What happens if we call `int()` on a bool? Try it out in the notebook cell below.\n",
    "\n",
    "Can you take advantage of this to write a succinct function that corresponds to the English sentence \"does the customer want exactly one topping?\"?"
   ]
  },
  {
   "cell_type": "code",
   "execution_count": 19,
   "id": "d4283dd7",
   "metadata": {
    "execution": {
     "iopub.execute_input": "2023-08-09T21:51:55.786282Z",
     "iopub.status.busy": "2023-08-09T21:51:55.785839Z",
     "iopub.status.idle": "2023-08-09T21:51:55.792816Z",
     "shell.execute_reply": "2023-08-09T21:51:55.791770Z"
    },
    "papermill": {
     "duration": 0.022444,
     "end_time": "2023-08-09T21:51:55.795044",
     "exception": false,
     "start_time": "2023-08-09T21:51:55.772600",
     "status": "completed"
    },
    "tags": []
   },
   "outputs": [
    {
     "data": {
      "text/plain": [
       "1"
      ]
     },
     "execution_count": 19,
     "metadata": {},
     "output_type": "execute_result"
    }
   ],
   "source": [
    "int(True) # True is turned to 1 and False is turned to 0"
   ]
  },
  {
   "cell_type": "code",
   "execution_count": 20,
   "id": "c2ad680d",
   "metadata": {
    "execution": {
     "iopub.execute_input": "2023-08-09T21:51:55.823242Z",
     "iopub.status.busy": "2023-08-09T21:51:55.822850Z",
     "iopub.status.idle": "2023-08-09T21:51:55.831989Z",
     "shell.execute_reply": "2023-08-09T21:51:55.830870Z"
    },
    "papermill": {
     "duration": 0.024594,
     "end_time": "2023-08-09T21:51:55.833988",
     "exception": false,
     "start_time": "2023-08-09T21:51:55.809394",
     "status": "completed"
    },
    "tags": []
   },
   "outputs": [
    {
     "data": {
      "application/javascript": [
       "parent.postMessage({\"jupyterEvent\": \"custom.exercise_interaction\", \"data\": {\"outcomeType\": 1, \"valueTowardsCompletion\": 0.2, \"interactionType\": 1, \"questionType\": 2, \"questionId\": \"6_OneTopping\", \"learnToolsVersion\": \"0.3.4\", \"failureMessage\": \"\", \"exceptionClass\": \"\", \"trace\": \"\"}}, \"*\")"
      ],
      "text/plain": [
       "<IPython.core.display.Javascript object>"
      ]
     },
     "metadata": {},
     "output_type": "display_data"
    },
    {
     "data": {
      "text/markdown": [
       "<span style=\"color:#33cc33\">Correct:</span> \n",
       "\n",
       "This condition would be pretty complicated to express using just `and`, `or` and `not`, but using boolean-to-integer conversion gives us this short solution:\n",
       "```python\n",
       "return (int(ketchup) + int(mustard) + int(onion)) == 1\n",
       "```\n",
       "\n",
       "Fun fact: we don't technically need to call `int` on the arguments. Just by doing addition with booleans, Python implicitly does the integer conversion. So we could also write...\n",
       "\n",
       "```python\n",
       "return (ketchup + mustard + onion) == 1\n",
       "```"
      ],
      "text/plain": [
       "Correct: \n",
       "\n",
       "This condition would be pretty complicated to express using just `and`, `or` and `not`, but using boolean-to-integer conversion gives us this short solution:\n",
       "```python\n",
       "return (int(ketchup) + int(mustard) + int(onion)) == 1\n",
       "```\n",
       "\n",
       "Fun fact: we don't technically need to call `int` on the arguments. Just by doing addition with booleans, Python implicitly does the integer conversion. So we could also write...\n",
       "\n",
       "```python\n",
       "return (ketchup + mustard + onion) == 1\n",
       "```"
      ]
     },
     "metadata": {},
     "output_type": "display_data"
    }
   ],
   "source": [
    "def exactly_one_topping(ketchup, mustard, onion):\n",
    "    \"\"\"Return whether the customer wants exactly one of the three available toppings\n",
    "    on their hot dog.\n",
    "    \"\"\"\n",
    "    return int(ketchup) + int(mustard) + int(onion) == 1\n",
    "    # ketchup + mustard + onion == 1, a simpler solution\n",
    "\n",
    "# Check your answer\n",
    "q6.check()"
   ]
  },
  {
   "cell_type": "code",
   "execution_count": 21,
   "id": "5088cf27",
   "metadata": {
    "execution": {
     "iopub.execute_input": "2023-08-09T21:51:55.859809Z",
     "iopub.status.busy": "2023-08-09T21:51:55.859449Z",
     "iopub.status.idle": "2023-08-09T21:51:55.863470Z",
     "shell.execute_reply": "2023-08-09T21:51:55.862296Z"
    },
    "papermill": {
     "duration": 0.019506,
     "end_time": "2023-08-09T21:51:55.865552",
     "exception": false,
     "start_time": "2023-08-09T21:51:55.846046",
     "status": "completed"
    },
    "tags": []
   },
   "outputs": [],
   "source": [
    "#q6.hint()\n",
    "#q6.solution()"
   ]
  },
  {
   "cell_type": "markdown",
   "id": "438bff74",
   "metadata": {
    "papermill": {
     "duration": 0.01181,
     "end_time": "2023-08-09T21:51:55.889520",
     "exception": false,
     "start_time": "2023-08-09T21:51:55.877710",
     "status": "completed"
    },
    "tags": []
   },
   "source": [
    "# 7. <span title=\"A bit spicy\" style=\"color: darkgreen \">🌶️</span> (Optional)\n",
    "\n",
    "In this problem we'll be working with a simplified version of [blackjack](https://en.wikipedia.org/wiki/Blackjack) (aka twenty-one). In this version there is one player (who you'll control) and a dealer. Play proceeds as follows:\n",
    "\n",
    "- The player is dealt two face-up cards. The dealer is dealt one face-up card.\n",
    "- The player may ask to be dealt another card ('hit') as many times as they wish. If the sum of their cards exceeds 21, they lose the round immediately.\n",
    "- The dealer then deals additional cards to himself until either:\n",
    "    - the sum of the dealer's cards exceeds 21, in which case the player wins the round\n",
    "    - the sum of the dealer's cards is greater than or equal to 17. If the player's total is greater than the dealer's, the player wins. Otherwise, the dealer wins (even in case of a tie).\n",
    "    \n",
    "When calculating the sum of cards, Jack, Queen, and King count for 10. Aces can count as 1 or 11 (when referring to a player's \"total\" above, we mean the largest total that can be made without exceeding 21. So e.g. A+8 = 19, A+8+8 = 17)\n",
    "\n",
    "For this problem, you'll write a function representing the player's decision-making strategy in this game. We've provided a very unintelligent implementation below:"
   ]
  },
  {
   "cell_type": "code",
   "execution_count": 22,
   "id": "a6200960",
   "metadata": {
    "execution": {
     "iopub.execute_input": "2023-08-09T21:51:55.915632Z",
     "iopub.status.busy": "2023-08-09T21:51:55.914989Z",
     "iopub.status.idle": "2023-08-09T21:51:55.920594Z",
     "shell.execute_reply": "2023-08-09T21:51:55.919849Z"
    },
    "papermill": {
     "duration": 0.021111,
     "end_time": "2023-08-09T21:51:55.922667",
     "exception": false,
     "start_time": "2023-08-09T21:51:55.901556",
     "status": "completed"
    },
    "tags": []
   },
   "outputs": [],
   "source": [
    "def should_hit(dealer_total, player_total, player_low_aces, player_high_aces):\n",
    "    \"\"\"Return True if the player should hit (request another card) given the current game\n",
    "    state, or False if the player should stay.\n",
    "    When calculating a hand's total value, we count aces as \"high\" (with value 11) if doing so\n",
    "    doesn't bring the total above 21, otherwise we count them as low (with value 1). \n",
    "    For example, if the player's hand is {A, A, A, 7}, we will count it as 11 + 1 + 1 + 7,\n",
    "    and therefore set player_total=20, player_low_aces=2, player_high_aces=1.\n",
    "    \"\"\"\n",
    "    if player_total == 21:\n",
    "        return False\n",
    "    elif dealer_total >= 17: \n",
    "        return False\n",
    "    elif player_high_aces>0: \n",
    "        return True"
   ]
  },
  {
   "cell_type": "markdown",
   "id": "7fde98f5",
   "metadata": {
    "papermill": {
     "duration": 0.011731,
     "end_time": "2023-08-09T21:51:55.946482",
     "exception": false,
     "start_time": "2023-08-09T21:51:55.934751",
     "status": "completed"
    },
    "tags": []
   },
   "source": [
    "This very conservative agent *always* sticks with the hand of two cards that they're dealt.\n",
    "\n",
    "We'll be simulating games between your player agent and our own dealer agent by calling your function.\n",
    "\n",
    "Try running the function below to see an example of a simulated game:"
   ]
  },
  {
   "cell_type": "code",
   "execution_count": 23,
   "id": "f94ba6db",
   "metadata": {
    "execution": {
     "iopub.execute_input": "2023-08-09T21:51:55.972812Z",
     "iopub.status.busy": "2023-08-09T21:51:55.972165Z",
     "iopub.status.idle": "2023-08-09T21:51:55.978220Z",
     "shell.execute_reply": "2023-08-09T21:51:55.976687Z"
    },
    "papermill": {
     "duration": 0.021764,
     "end_time": "2023-08-09T21:51:55.980369",
     "exception": false,
     "start_time": "2023-08-09T21:51:55.958605",
     "status": "completed"
    },
    "tags": []
   },
   "outputs": [
    {
     "name": "stdout",
     "output_type": "stream",
     "text": [
      "Player starts with 10 and 3 (total = 13)\n",
      "Dealer starts with 8\n",
      "\n",
      "__Player's turn__\n",
      "Player stays\n",
      "\n",
      "__Dealer's turn__\n",
      "Dealer hits and receives 7. (total = 15)\n",
      "Dealer hits and receives Q. (total = 25)\n",
      "Dealer busts! Player wins.\n"
     ]
    }
   ],
   "source": [
    "q7.simulate_one_game()"
   ]
  },
  {
   "cell_type": "markdown",
   "id": "1fdb5388",
   "metadata": {
    "papermill": {
     "duration": 0.012056,
     "end_time": "2023-08-09T21:51:56.004913",
     "exception": false,
     "start_time": "2023-08-09T21:51:55.992857",
     "status": "completed"
    },
    "tags": []
   },
   "source": [
    "The real test of your agent's mettle is their average win rate over many games. Try calling the function below to simulate 50000 games of blackjack (it may take a couple seconds):"
   ]
  },
  {
   "cell_type": "code",
   "execution_count": 24,
   "id": "ce447fb5",
   "metadata": {
    "execution": {
     "iopub.execute_input": "2023-08-09T21:51:56.031593Z",
     "iopub.status.busy": "2023-08-09T21:51:56.031170Z",
     "iopub.status.idle": "2023-08-09T21:51:57.481918Z",
     "shell.execute_reply": "2023-08-09T21:51:57.480791Z"
    },
    "papermill": {
     "duration": 1.467261,
     "end_time": "2023-08-09T21:51:57.484554",
     "exception": false,
     "start_time": "2023-08-09T21:51:56.017293",
     "status": "completed"
    },
    "tags": []
   },
   "outputs": [
    {
     "name": "stdout",
     "output_type": "stream",
     "text": [
      "Player won 19087 out of 50000 games (win rate = 38.2%)\n"
     ]
    }
   ],
   "source": [
    "q7.simulate(n_games=50000)"
   ]
  },
  {
   "cell_type": "markdown",
   "id": "43ed0631",
   "metadata": {
    "papermill": {
     "duration": 0.012128,
     "end_time": "2023-08-09T21:51:57.509677",
     "exception": false,
     "start_time": "2023-08-09T21:51:57.497549",
     "status": "completed"
    },
    "tags": []
   },
   "source": [
    "Our dumb agent that completely ignores the game state still manages to win shockingly often!\n",
    "\n",
    "Try adding some more smarts to the `should_hit` function and see how it affects the results."
   ]
  },
  {
   "cell_type": "code",
   "execution_count": 25,
   "id": "bbbc4dfe",
   "metadata": {
    "execution": {
     "iopub.execute_input": "2023-08-09T21:51:57.537887Z",
     "iopub.status.busy": "2023-08-09T21:51:57.537490Z",
     "iopub.status.idle": "2023-08-09T21:51:58.929668Z",
     "shell.execute_reply": "2023-08-09T21:51:58.926756Z"
    },
    "papermill": {
     "duration": 1.409316,
     "end_time": "2023-08-09T21:51:58.932391",
     "exception": false,
     "start_time": "2023-08-09T21:51:57.523075",
     "status": "completed"
    },
    "tags": []
   },
   "outputs": [
    {
     "name": "stdout",
     "output_type": "stream",
     "text": [
      "Player won 18981 out of 50000 games (win rate = 38.0%)\n"
     ]
    }
   ],
   "source": [
    "def should_hit(dealer_total, player_total, player_low_aces, player_high_aces):\n",
    "    \"\"\"Return True if the player should hit (request another card) given the current game\n",
    "    state, or False if the player should stay.\n",
    "    When calculating a hand's total value, we count aces as \"high\" (with value 11) if doing so\n",
    "    doesn't bring the total above 21, otherwise we count them as low (with value 1). \n",
    "    For example, if the player's hand is {A, A, A, 7}, we will count it as 11 + 1 + 1 + 7,\n",
    "    and therefore set player_total=20, player_low_aces=2, player_high_aces=1.\n",
    "    \"\"\"\n",
    "    return False\n",
    "\n",
    "q7.simulate(n_games=50000)"
   ]
  },
  {
   "cell_type": "markdown",
   "id": "6cd066fd",
   "metadata": {
    "papermill": {
     "duration": 0.01202,
     "end_time": "2023-08-09T21:51:58.958020",
     "exception": false,
     "start_time": "2023-08-09T21:51:58.946000",
     "status": "completed"
    },
    "tags": []
   },
   "source": [
    "# Keep Going\n",
    "\n",
    "Learn about **[lists and tuples](https://www.kaggle.com/colinmorris/lists)** to handle multiple items of data in a systematic way."
   ]
  },
  {
   "cell_type": "markdown",
   "id": "8bf85b47",
   "metadata": {
    "papermill": {
     "duration": 0.01205,
     "end_time": "2023-08-09T21:51:58.982577",
     "exception": false,
     "start_time": "2023-08-09T21:51:58.970527",
     "status": "completed"
    },
    "tags": []
   },
   "source": [
    "---\n",
    "\n",
    "\n",
    "\n",
    "\n",
    "*Have questions or comments? Visit the [course discussion forum](https://www.kaggle.com/learn/python/discussion) to chat with other learners.*"
   ]
  }
 ],
 "metadata": {
  "kernelspec": {
   "display_name": "Python 3",
   "language": "python",
   "name": "python3"
  },
  "language_info": {
   "codemirror_mode": {
    "name": "ipython",
    "version": 3
   },
   "file_extension": ".py",
   "mimetype": "text/x-python",
   "name": "python",
   "nbconvert_exporter": "python",
   "pygments_lexer": "ipython3",
   "version": "3.10.12"
  },
  "papermill": {
   "default_parameters": {},
   "duration": 15.558844,
   "end_time": "2023-08-09T21:51:59.816716",
   "environment_variables": {},
   "exception": null,
   "input_path": "__notebook__.ipynb",
   "output_path": "__notebook__.ipynb",
   "parameters": {},
   "start_time": "2023-08-09T21:51:44.257872",
   "version": "2.4.0"
  }
 },
 "nbformat": 4,
 "nbformat_minor": 5
}
